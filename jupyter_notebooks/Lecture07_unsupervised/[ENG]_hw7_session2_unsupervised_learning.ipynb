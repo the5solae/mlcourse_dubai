{
 "cells": [
  {
   "cell_type": "markdown",
   "metadata": {},
   "source": [
    "<center>\n",
    "<img src=\"../../img/ods_stickers.jpg\">\n",
    "## Open Data Science course. Session № 2\n",
    "</center>\n",
    "Authors: Olga Daikhovskaya, Yury Kashnitsky. The material is distributed under [Creative Commons CC BY-NC-SA 4.0](https://creativecommons.org/licenses/by-nc-sa/4.0/). You are free to use the material for any non-commercial purposes, mentioning the original authors is mandatory."
   ]
  },
  {
   "cell_type": "markdown",
   "metadata": {},
   "source": [
    "# <center>Homework № 7.\n",
    "## <center> Unupervised learning"
   ]
  },
  {
   "cell_type": "markdown",
   "metadata": {},
   "source": [
    "In this task, we will look at how data dimensionality reduction and clustering methods work. At the same time, we'll practice solving classification task again.\n",
    "\n",
    "We will work with the [Samsung Human Activity Recognition] (https://archive.ics.uci.edu/ml/datasets/Human+Activity+Recognition+Using+Smartphones) dataset. Download the data from there. The data comes from the accelerometers and gyros of Samsung Galaxy S3 mobile phones ( you can find more info about the features using on the link above), the type of activity of a person with a phone in his pocket is also known - whether he walked, stood, lay, sat or walked up or down the stairs.\n",
    "\n",
    "First we imagine that the type of activity is unknown to us, and we will try to cluster people purely on the basis of available features. Then we solve the problem of determining the type of physical activity precisely as a classification problem.\n"
   ]
  },
  {
   "cell_type": "code",
   "execution_count": 64,
   "metadata": {},
   "outputs": [],
   "source": [
    "import numpy as np\n",
    "import pandas as pd\n",
    "import seaborn as sns\n",
    "from tqdm import tqdm_notebook\n",
    "\n",
    "%matplotlib inline\n",
    "from matplotlib import pyplot as plt\n",
    "plt.style.use(['seaborn-darkgrid'])\n",
    "plt.rcParams['figure.figsize'] = (12, 9)\n",
    "plt.rcParams['font.family'] = 'DejaVu Sans'\n",
    "\n",
    "from sklearn import metrics\n",
    "from sklearn.cluster import KMeans, AgglomerativeClustering, SpectralClustering\n",
    "from sklearn.decomposition import PCA\n",
    "from sklearn.model_selection import GridSearchCV\n",
    "from sklearn.preprocessing import StandardScaler\n",
    "from sklearn.svm import LinearSVC\n",
    "\n",
    "RANDOM_STATE = 17"
   ]
  },
  {
   "cell_type": "code",
   "execution_count": 65,
   "metadata": {},
   "outputs": [],
   "source": [
    "X_train = np.loadtxt(\"../../data/Train/X_train.txt\")\n",
    "y_train = np.loadtxt(\"../../data/Train/y_train.txt\").astype(int)\n",
    "\n",
    "X_test = np.loadtxt(\"../../data/Test/X_test.txt\")\n",
    "y_test = np.loadtxt(\"../../data/Test/y_test.txt\").astype(int)"
   ]
  },
  {
   "cell_type": "markdown",
   "metadata": {},
   "source": [
    "For clustering, we do not need a target vector, so we'll work with the combination of training and test samples. Merge * X_train * with * X_test *, and * y_train * with * y_test *."
   ]
  },
  {
   "cell_type": "code",
   "execution_count": 66,
   "metadata": {
    "jupyter": {
     "outputs_hidden": true
    }
   },
   "outputs": [],
   "source": [
    "# Your code here\n",
    "X = np.vstack([X_train, X_test])\n",
    "y = np.hstack([y_train, y_test])"
   ]
  },
  {
   "cell_type": "markdown",
   "metadata": {},
   "source": [
    "Define the number of unique values of the labels of the target class."
   ]
  },
  {
   "cell_type": "code",
   "execution_count": 67,
   "metadata": {},
   "outputs": [
    {
     "data": {
      "text/plain": [
       "array([ 1,  2,  3,  4,  5,  6,  7,  8,  9, 10, 11, 12])"
      ]
     },
     "execution_count": 67,
     "metadata": {},
     "output_type": "execute_result"
    }
   ],
   "source": [
    "np.unique(y)"
   ]
  },
  {
   "cell_type": "code",
   "execution_count": 68,
   "metadata": {
    "jupyter": {
     "outputs_hidden": true,
     "source_hidden": true
    }
   },
   "outputs": [],
   "source": [
    "n_classes = np.unique(y).size"
   ]
  },
  {
   "cell_type": "markdown",
   "metadata": {},
   "source": [
    "[These labels correspond to:](https://archive.ics.uci.edu/ml/machine-learning-databases/00240/UCI%20HAR%20Dataset.names)\n",
    "- 1 WALKING           \n",
    "- 2 WALKING_UPSTAIRS  \n",
    "- 3 WALKING_DOWNSTAIRS\n",
    "- 4 SITTING           \n",
    "- 5 STANDING          \n",
    "- 6 LAYING            \n",
    "- 7 STAND_TO_SIT      \n",
    "- 8 SIT_TO_STAND      \n",
    "- 9 SIT_TO_LIE        \n",
    "- 10 LIE_TO_SIT        \n",
    "- 11 STAND_TO_LIE      \n",
    "- 12 LIE_TO_STAND  "
   ]
  },
  {
   "cell_type": "markdown",
   "metadata": {},
   "source": [
    "Scale the sample using `StandardScaler` with default parameters."
   ]
  },
  {
   "cell_type": "code",
   "execution_count": 69,
   "metadata": {
    "jupyter": {
     "outputs_hidden": true
    }
   },
   "outputs": [],
   "source": [
    "# Your code here\n",
    "scaler = StandardScaler()\n",
    "X_scaled = scaler.fit_transform(X)"
   ]
  },
  {
   "cell_type": "markdown",
   "metadata": {},
   "source": [
    "Reduce the number of dimensions using PCA, leaving as many components as necessary to explain at least 90% of the variance of the original (scaled) data. Use the scaled sample and fix the random_state (RANDOM_STATE constant)."
   ]
  },
  {
   "cell_type": "code",
   "execution_count": 70,
   "metadata": {
    "jupyter": {
     "outputs_hidden": true
    }
   },
   "outputs": [],
   "source": [
    "# Your code here\n",
    "pca = PCA(n_components=0.9, random_state=RANDOM_STATE).fit(X_scaled)\n",
    "X_pca = pca.transform(X_scaled)"
   ]
  },
  {
   "cell_type": "markdown",
   "metadata": {},
   "source": [
    "** Question 1: ** <br>\n",
    "What is the minimum number of main components required to cover the 90% of the variance of the original (scaled) data?"
   ]
  },
  {
   "cell_type": "code",
   "execution_count": 71,
   "metadata": {},
   "outputs": [
    {
     "data": {
      "text/plain": [
       "(10929, 66)"
      ]
     },
     "execution_count": 71,
     "metadata": {},
     "output_type": "execute_result"
    }
   ],
   "source": [
    "# Your code here\n",
    "X_pca.shape"
   ]
  },
  {
   "cell_type": "markdown",
   "metadata": {},
   "source": [
    "**Answer options:**\n",
    "- 56 \n",
    "- 65\n",
    "- **66**\n",
    "- 193"
   ]
  },
  {
   "cell_type": "code",
   "execution_count": 72,
   "metadata": {},
   "outputs": [
    {
     "data": {
      "image/png": "[encoded data removed]",
      "text/plain": [
       "<Figure size 720x504 with 1 Axes>"
      ]
     },
     "metadata": {},
     "output_type": "display_data"
    }
   ],
   "source": [
    "\"\"\"Explanation\"\"\"\n",
    "#Use scree plot the cumulative proportion of variance explained as you keep more features. \n",
    "from sklearn import decomposition\n",
    "\n",
    "pca_decom = decomposition.PCA().fit(X_scaled)\n",
    "\n",
    "plt.figure(figsize=(10,7))\n",
    "plt.plot(np.cumsum(pca_decom.explained_variance_ratio_), color='k', lw=2)\n",
    "plt.xlabel('Number of components')\n",
    "plt.ylabel('Total explained variance')\n",
    "plt.xlim(0,80)\n",
    "plt.yticks(np.arange(0.5, 1.1, 0.1))\n",
    "plt.axvline(66, c='b')\n",
    "plt.axhline(0.9, c='r')\n",
    "plt.show();"
   ]
  },
  {
   "cell_type": "markdown",
   "metadata": {},
   "source": [
    "**Вопрос 2:**<br>\n",
    "What percentage of the variance is covered by the first main component? Round to the nearest percent.\n",
    "\n",
    "**Answer options:**\n",
    "- 45\n",
    "- 51\n",
    "- 56\n",
    "- 61\n",
    "- **48**"
   ]
  },
  {
   "cell_type": "code",
   "execution_count": 73,
   "metadata": {},
   "outputs": [
    {
     "data": {
      "text/plain": [
       "48"
      ]
     },
     "execution_count": 73,
     "metadata": {},
     "output_type": "execute_result"
    }
   ],
   "source": [
    "\"\"\" Check the first element of the explained variance ratio of pca\"\"\"\n",
    "# Your code here\n",
    "round(float(pca.explained_variance_ratio_[0] * 100))"
   ]
  },
  {
   "cell_type": "code",
   "execution_count": 74,
   "metadata": {},
   "outputs": [
    {
     "name": "stdout",
     "output_type": "stream",
     "text": [
      "1 component: 48.02% of initial variance\n",
      "2 component: 7.9% of initial variance\n",
      "3 component: 3.1% of initial variance\n",
      "4 component: 2.42% of initial variance\n",
      "5 component: 1.81% of initial variance\n",
      "6 component: 1.63% of initial variance\n",
      "7 component: 1.37% of initial variance\n",
      "8 component: 1.32% of initial variance\n",
      "9 component: 1.13% of initial variance\n",
      "10 component: 0.95% of initial variance\n",
      "11 component: 0.91% of initial variance\n",
      "12 component: 0.82% of initial variance\n",
      "13 component: 0.79% of initial variance\n",
      "14 component: 0.73% of initial variance\n",
      "15 component: 0.68% of initial variance\n",
      "16 component: 0.63% of initial variance\n",
      "17 component: 0.61% of initial variance\n",
      "18 component: 0.59% of initial variance\n",
      "19 component: 0.57% of initial variance\n",
      "20 component: 0.56% of initial variance\n",
      "21 component: 0.54% of initial variance\n",
      "22 component: 0.53% of initial variance\n",
      "23 component: 0.49% of initial variance\n",
      "24 component: 0.48% of initial variance\n",
      "25 component: 0.45% of initial variance\n",
      "26 component: 0.44% of initial variance\n",
      "27 component: 0.43% of initial variance\n",
      "28 component: 0.41% of initial variance\n",
      "29 component: 0.4% of initial variance\n",
      "30 component: 0.39% of initial variance\n",
      "31 component: 0.38% of initial variance\n",
      "32 component: 0.36% of initial variance\n",
      "33 component: 0.36% of initial variance\n",
      "34 component: 0.35% of initial variance\n",
      "35 component: 0.34% of initial variance\n",
      "36 component: 0.33% of initial variance\n",
      "37 component: 0.33% of initial variance\n",
      "38 component: 0.31% of initial variance\n",
      "39 component: 0.3% of initial variance\n",
      "40 component: 0.29% of initial variance\n",
      "41 component: 0.28% of initial variance\n",
      "42 component: 0.28% of initial variance\n",
      "43 component: 0.27% of initial variance\n",
      "44 component: 0.26% of initial variance\n",
      "45 component: 0.25% of initial variance\n",
      "46 component: 0.25% of initial variance\n",
      "47 component: 0.24% of initial variance\n",
      "48 component: 0.24% of initial variance\n",
      "49 component: 0.23% of initial variance\n",
      "50 component: 0.23% of initial variance\n",
      "51 component: 0.22% of initial variance\n",
      "52 component: 0.22% of initial variance\n",
      "53 component: 0.21% of initial variance\n",
      "54 component: 0.21% of initial variance\n",
      "55 component: 0.21% of initial variance\n",
      "56 component: 0.2% of initial variance\n",
      "57 component: 0.2% of initial variance\n",
      "58 component: 0.2% of initial variance\n",
      "59 component: 0.19% of initial variance\n",
      "60 component: 0.19% of initial variance\n",
      "61 component: 0.18% of initial variance\n",
      "62 component: 0.18% of initial variance\n",
      "63 component: 0.18% of initial variance\n",
      "64 component: 0.18% of initial variance\n",
      "65 component: 0.17% of initial variance\n",
      "66 component: 0.17% of initial variance\n"
     ]
    }
   ],
   "source": [
    "for i, component in enumerate(pca.components_):\n",
    "    print(\"{} component: {}% of initial variance\".format(i + 1, \n",
    "          round(100 * pca.explained_variance_ratio_[i], 2)))"
   ]
  },
  {
   "cell_type": "markdown",
   "metadata": {},
   "source": [
    "Visualize the data in the projection on the first two main components."
   ]
  },
  {
   "cell_type": "code",
   "execution_count": 75,
   "metadata": {},
   "outputs": [
    {
     "data": {
      "image/png": "[encoded data removed]",
      "text/plain": [
       "<Figure size 864x648 with 1 Axes>"
      ]
     },
     "metadata": {},
     "output_type": "display_data"
    }
   ],
   "source": [
    "# Your code here\n",
    "plt.scatter(X_pca[:, 0], X_pca[:, 1], c=y, s=20, cmap='viridis');"
   ]
  },
  {
   "cell_type": "markdown",
   "metadata": {},
   "source": [
    "**Question 3:**<br>\n",
    "If everything worked out correctly, you will see a number of clusters, almost perfectly separated from each other. What types of activity are included in these clusters? <br>\n",
    "\n",
    "**Answer options:**\n",
    "- 1 cluster: all 12 activities\n",
    "- 2 clusters:  \n",
    "- **3 clusters:** => (walking, walking upstairs, walking downstairs sitting, standing, lying)\n",
    "- 5 clusters\n",
    "- 12 clusters\n",
    "\n",
    "The first two components explain approx. half (55.92%) of the features in the dataset. So 6 features.  "
   ]
  },
  {
   "cell_type": "markdown",
   "metadata": {},
   "source": [
    "------------------------------"
   ]
  },
  {
   "cell_type": "markdown",
   "metadata": {},
   "source": [
    "Run the data clustering using the `KMeans` method, training the model on data with a reduced PCA dimension. In this case, we will give a clue to look for exactly 6 clusters, but in general case we will not know how many clusters we should be searching.\n",
    "\n",
    "Options:\n",
    "\n",
    "- ** n_clusters ** = n_classes (number of unique labels of the target class)\n",
    "- ** n_init ** = 100\n",
    "- ** random_state ** = RANDOM_STATE (for the reproducibility of the result)\n",
    "\n",
    "Other parameters should have default values."
   ]
  },
  {
   "cell_type": "code",
   "execution_count": 76,
   "metadata": {
    "jupyter": {
     "outputs_hidden": true
    }
   },
   "outputs": [],
   "source": [
    "# Your code here\n",
    "kmeans = KMeans(n_clusters=n_classes, n_init=100, \n",
    "                random_state=RANDOM_STATE)\n",
    "kmeans.fit(X_pca)\n",
    "cluster_labels = kmeans.labels_"
   ]
  },
  {
   "cell_type": "markdown",
   "metadata": {},
   "source": [
    "Visualize the data in the projection on the first two main components. Color the dots according to the clusters received."
   ]
  },
  {
   "cell_type": "code",
   "execution_count": 77,
   "metadata": {},
   "outputs": [
    {
     "data": {
      "image/png": "[encoded data removed]",
      "text/plain": [
       "<Figure size 864x648 with 1 Axes>"
      ]
     },
     "metadata": {},
     "output_type": "display_data"
    }
   ],
   "source": [
    "# Your code here\n",
    "plt.scatter(X_pca[:, 0], X_pca[:, 1], c=cluster_labels, s=20, cmap='viridis');"
   ]
  },
  {
   "cell_type": "markdown",
   "metadata": {},
   "source": [
    "Look at the correspondence between the cluster marks and the original class labels and what kinds of activities the `KMeans` algorithm is confused at."
   ]
  },
  {
   "cell_type": "code",
   "execution_count": 78,
   "metadata": {},
   "outputs": [
    {
     "data": {
      "text/html": [
       "<div>\n",
       "<style scoped>\n",
       "    .dataframe tbody tr th:only-of-type {\n",
       "        vertical-align: middle;\n",
       "    }\n",
       "\n",
       "    .dataframe tbody tr th {\n",
       "        vertical-align: top;\n",
       "    }\n",
       "\n",
       "    .dataframe thead th {\n",
       "        text-align: right;\n",
       "    }\n",
       "</style>\n",
       "<table border=\"1\" class=\"dataframe\">\n",
       "  <thead>\n",
       "    <tr style=\"text-align: right;\">\n",
       "      <th></th>\n",
       "      <th>cluster1</th>\n",
       "      <th>cluster2</th>\n",
       "      <th>cluster3</th>\n",
       "      <th>cluster4</th>\n",
       "      <th>cluster5</th>\n",
       "      <th>cluster6</th>\n",
       "      <th>cluster7</th>\n",
       "      <th>cluster8</th>\n",
       "      <th>cluster9</th>\n",
       "      <th>cluster10</th>\n",
       "      <th>cluster11</th>\n",
       "      <th>cluster12</th>\n",
       "      <th>all</th>\n",
       "    </tr>\n",
       "  </thead>\n",
       "  <tbody>\n",
       "    <tr>\n",
       "      <th>WALKING</th>\n",
       "      <td>0</td>\n",
       "      <td>0</td>\n",
       "      <td>329</td>\n",
       "      <td>0</td>\n",
       "      <td>214</td>\n",
       "      <td>0</td>\n",
       "      <td>10</td>\n",
       "      <td>0</td>\n",
       "      <td>149</td>\n",
       "      <td>909</td>\n",
       "      <td>0</td>\n",
       "      <td>111</td>\n",
       "      <td>1722</td>\n",
       "    </tr>\n",
       "    <tr>\n",
       "      <th>WALKING_UPSTAIRS</th>\n",
       "      <td>0</td>\n",
       "      <td>0</td>\n",
       "      <td>949</td>\n",
       "      <td>0</td>\n",
       "      <td>22</td>\n",
       "      <td>0</td>\n",
       "      <td>0</td>\n",
       "      <td>0</td>\n",
       "      <td>68</td>\n",
       "      <td>148</td>\n",
       "      <td>0</td>\n",
       "      <td>357</td>\n",
       "      <td>1544</td>\n",
       "    </tr>\n",
       "    <tr>\n",
       "      <th>WALKING_DOWNSTAIRS</th>\n",
       "      <td>0</td>\n",
       "      <td>0</td>\n",
       "      <td>172</td>\n",
       "      <td>0</td>\n",
       "      <td>189</td>\n",
       "      <td>0</td>\n",
       "      <td>76</td>\n",
       "      <td>0</td>\n",
       "      <td>634</td>\n",
       "      <td>318</td>\n",
       "      <td>0</td>\n",
       "      <td>18</td>\n",
       "      <td>1407</td>\n",
       "    </tr>\n",
       "    <tr>\n",
       "      <th>SITTING</th>\n",
       "      <td>0</td>\n",
       "      <td>225</td>\n",
       "      <td>7</td>\n",
       "      <td>1049</td>\n",
       "      <td>0</td>\n",
       "      <td>0</td>\n",
       "      <td>0</td>\n",
       "      <td>65</td>\n",
       "      <td>0</td>\n",
       "      <td>0</td>\n",
       "      <td>455</td>\n",
       "      <td>0</td>\n",
       "      <td>1801</td>\n",
       "    </tr>\n",
       "    <tr>\n",
       "      <th>LAYING</th>\n",
       "      <td>0</td>\n",
       "      <td>61</td>\n",
       "      <td>12</td>\n",
       "      <td>965</td>\n",
       "      <td>0</td>\n",
       "      <td>0</td>\n",
       "      <td>0</td>\n",
       "      <td>0</td>\n",
       "      <td>0</td>\n",
       "      <td>0</td>\n",
       "      <td>941</td>\n",
       "      <td>0</td>\n",
       "      <td>1979</td>\n",
       "    </tr>\n",
       "    <tr>\n",
       "      <th>STAND_TO_SIT</th>\n",
       "      <td>3</td>\n",
       "      <td>370</td>\n",
       "      <td>6</td>\n",
       "      <td>48</td>\n",
       "      <td>0</td>\n",
       "      <td>7</td>\n",
       "      <td>0</td>\n",
       "      <td>1479</td>\n",
       "      <td>0</td>\n",
       "      <td>0</td>\n",
       "      <td>45</td>\n",
       "      <td>0</td>\n",
       "      <td>1958</td>\n",
       "    </tr>\n",
       "    <tr>\n",
       "      <th>SIT_TO_STAND</th>\n",
       "      <td>35</td>\n",
       "      <td>1</td>\n",
       "      <td>28</td>\n",
       "      <td>0</td>\n",
       "      <td>1</td>\n",
       "      <td>1</td>\n",
       "      <td>0</td>\n",
       "      <td>0</td>\n",
       "      <td>0</td>\n",
       "      <td>0</td>\n",
       "      <td>0</td>\n",
       "      <td>4</td>\n",
       "      <td>70</td>\n",
       "    </tr>\n",
       "    <tr>\n",
       "      <th>SIT_TO_STAND</th>\n",
       "      <td>14</td>\n",
       "      <td>2</td>\n",
       "      <td>4</td>\n",
       "      <td>0</td>\n",
       "      <td>0</td>\n",
       "      <td>13</td>\n",
       "      <td>0</td>\n",
       "      <td>0</td>\n",
       "      <td>0</td>\n",
       "      <td>0</td>\n",
       "      <td>0</td>\n",
       "      <td>0</td>\n",
       "      <td>33</td>\n",
       "    </tr>\n",
       "    <tr>\n",
       "      <th>SIT_TO_LIE</th>\n",
       "      <td>105</td>\n",
       "      <td>1</td>\n",
       "      <td>1</td>\n",
       "      <td>0</td>\n",
       "      <td>0</td>\n",
       "      <td>0</td>\n",
       "      <td>0</td>\n",
       "      <td>0</td>\n",
       "      <td>0</td>\n",
       "      <td>0</td>\n",
       "      <td>0</td>\n",
       "      <td>0</td>\n",
       "      <td>107</td>\n",
       "    </tr>\n",
       "    <tr>\n",
       "      <th>LIE_TO_SIT</th>\n",
       "      <td>1</td>\n",
       "      <td>4</td>\n",
       "      <td>1</td>\n",
       "      <td>0</td>\n",
       "      <td>0</td>\n",
       "      <td>79</td>\n",
       "      <td>0</td>\n",
       "      <td>0</td>\n",
       "      <td>0</td>\n",
       "      <td>0</td>\n",
       "      <td>0</td>\n",
       "      <td>0</td>\n",
       "      <td>85</td>\n",
       "    </tr>\n",
       "    <tr>\n",
       "      <th>STAND_TO_LIE</th>\n",
       "      <td>119</td>\n",
       "      <td>0</td>\n",
       "      <td>16</td>\n",
       "      <td>0</td>\n",
       "      <td>0</td>\n",
       "      <td>1</td>\n",
       "      <td>0</td>\n",
       "      <td>0</td>\n",
       "      <td>0</td>\n",
       "      <td>1</td>\n",
       "      <td>1</td>\n",
       "      <td>1</td>\n",
       "      <td>139</td>\n",
       "    </tr>\n",
       "    <tr>\n",
       "      <th>LIE_TO_STAND</th>\n",
       "      <td>4</td>\n",
       "      <td>2</td>\n",
       "      <td>2</td>\n",
       "      <td>0</td>\n",
       "      <td>0</td>\n",
       "      <td>76</td>\n",
       "      <td>0</td>\n",
       "      <td>0</td>\n",
       "      <td>0</td>\n",
       "      <td>0</td>\n",
       "      <td>0</td>\n",
       "      <td>0</td>\n",
       "      <td>84</td>\n",
       "    </tr>\n",
       "    <tr>\n",
       "      <th>all</th>\n",
       "      <td>281</td>\n",
       "      <td>666</td>\n",
       "      <td>1527</td>\n",
       "      <td>2062</td>\n",
       "      <td>426</td>\n",
       "      <td>177</td>\n",
       "      <td>86</td>\n",
       "      <td>1544</td>\n",
       "      <td>851</td>\n",
       "      <td>1376</td>\n",
       "      <td>1442</td>\n",
       "      <td>491</td>\n",
       "      <td>10929</td>\n",
       "    </tr>\n",
       "  </tbody>\n",
       "</table>\n",
       "</div>"
      ],
      "text/plain": [
       "                    cluster1  cluster2  cluster3  cluster4  cluster5  \\\n",
       "WALKING                    0         0       329         0       214   \n",
       "WALKING_UPSTAIRS           0         0       949         0        22   \n",
       "WALKING_DOWNSTAIRS         0         0       172         0       189   \n",
       "SITTING                    0       225         7      1049         0   \n",
       "LAYING                     0        61        12       965         0   \n",
       "STAND_TO_SIT               3       370         6        48         0   \n",
       "SIT_TO_STAND              35         1        28         0         1   \n",
       "SIT_TO_STAND              14         2         4         0         0   \n",
       "SIT_TO_LIE               105         1         1         0         0   \n",
       " LIE_TO_SIT                1         4         1         0         0   \n",
       "STAND_TO_LIE             119         0        16         0         0   \n",
       "LIE_TO_STAND               4         2         2         0         0   \n",
       "all                      281       666      1527      2062       426   \n",
       "\n",
       "                    cluster6  cluster7  cluster8  cluster9  cluster10  \\\n",
       "WALKING                    0        10         0       149        909   \n",
       "WALKING_UPSTAIRS           0         0         0        68        148   \n",
       "WALKING_DOWNSTAIRS         0        76         0       634        318   \n",
       "SITTING                    0         0        65         0          0   \n",
       "LAYING                     0         0         0         0          0   \n",
       "STAND_TO_SIT               7         0      1479         0          0   \n",
       "SIT_TO_STAND               1         0         0         0          0   \n",
       "SIT_TO_STAND              13         0         0         0          0   \n",
       "SIT_TO_LIE                 0         0         0         0          0   \n",
       " LIE_TO_SIT               79         0         0         0          0   \n",
       "STAND_TO_LIE               1         0         0         0          1   \n",
       "LIE_TO_STAND              76         0         0         0          0   \n",
       "all                      177        86      1544       851       1376   \n",
       "\n",
       "                    cluster11  cluster12    all  \n",
       "WALKING                     0        111   1722  \n",
       "WALKING_UPSTAIRS            0        357   1544  \n",
       "WALKING_DOWNSTAIRS          0         18   1407  \n",
       "SITTING                   455          0   1801  \n",
       "LAYING                    941          0   1979  \n",
       "STAND_TO_SIT               45          0   1958  \n",
       "SIT_TO_STAND                0          4     70  \n",
       "SIT_TO_STAND                0          0     33  \n",
       "SIT_TO_LIE                  0          0    107  \n",
       " LIE_TO_SIT                 0          0     85  \n",
       "STAND_TO_LIE                1          1    139  \n",
       "LIE_TO_STAND                0          0     84  \n",
       "all                      1442        491  10929  "
      ]
     },
     "execution_count": 78,
     "metadata": {},
     "output_type": "execute_result"
    }
   ],
   "source": [
    "\n",
    "tab = pd.crosstab(y, cluster_labels, margins=True)\n",
    "tab.index = ['WALKING', 'WALKING_UPSTAIRS',\n",
    "            'WALKING_DOWNSTAIRS', 'SITTING', 'LAYING', 'STAND_TO_SIT','SIT_TO_STAND', 'SIT_TO_STAND', 'SIT_TO_LIE',' LIE_TO_SIT',\n",
    "             'STAND_TO_LIE','LIE_TO_STAND','all']\n",
    "tab.columns = ['cluster' + str(i + 1) for i in range(12)] + ['all']\n",
    "tab"
   ]
  },
  {
   "cell_type": "markdown",
   "metadata": {},
   "source": [
    "We see that for each class (i.e., each activity) there are several clusters. Let's look at the maximum percentage of objects in a class that are assigned to a single cluster. This will be a simple metric that characterizes how easily the class separates from others when clustering.\n",
    "\n",
    "Example: if for the class of \"WALKING_UPSTAIRS\", in which there are 1544 objects, the distribution of clusters is:\n",
    " - cluster 1 - 0\n",
    " - cluster 2 - 0\n",
    " - cluster 3 - 949\n",
    " -  ....\n",
    " - cluster 12 - 357\n",
    " \n",
    " then such a share will be 949/1544 $ \\ approx $ 0.61.\n",
    "\n",
    "** Question 4: ** <br>\n",
    "Which activity has been separated from the rest better than others based on the simple metric described above? <br>\n",
    "\n",
    "**Answer:**\n",
    "- 1 WALKING           \n",
    "- 2 WALKING_UPSTAIRS  \n",
    "- 3 WALKING_DOWNSTAIRS\n",
    "- 4 SITTING           \n",
    "- 5 STANDING          \n",
    "- 6 LAYING            \n",
    "- 7 STAND_TO_SIT      \n",
    "- 8 SIT_TO_STAND      \n",
    "-  **9 SIT_TO_LIE**        \n",
    "- 10 LIE_TO_SIT        \n",
    "- 11 STAND_TO_LIE      \n",
    "- 12 LIE_TO_STAND  \n",
    "- there is no correct answer\n",
    "\n",
    "It has over 98% separation than the other features"
   ]
  },
  {
   "cell_type": "code",
   "execution_count": 79,
   "metadata": {},
   "outputs": [
    {
     "data": {
      "text/plain": [
       "WALKING               0.527875\n",
       "WALKING_UPSTAIRS      0.614637\n",
       "WALKING_DOWNSTAIRS    0.450604\n",
       "SITTING               0.582454\n",
       "LAYING                0.487620\n",
       "STAND_TO_SIT          0.755363\n",
       "SIT_TO_STAND          0.500000\n",
       "SIT_TO_STAND          0.424242\n",
       "SIT_TO_LIE            0.981308\n",
       " LIE_TO_SIT           0.929412\n",
       "STAND_TO_LIE          0.856115\n",
       "LIE_TO_STAND          0.904762\n",
       "dtype: float64"
      ]
     },
     "execution_count": 79,
     "metadata": {},
     "output_type": "execute_result"
    }
   ],
   "source": [
    "pd.Series(tab.iloc[:-1,:-1].max(axis=1).values / \n",
    "          tab.iloc[:-1,-1].values, index=tab.index[:-1])"
   ]
  },
  {
   "cell_type": "markdown",
   "metadata": {},
   "source": [
    "Use the elbow method to select the optimal number of clusters. Parameters of the algorithm and the data we use are the same as before, we change only `n_clusters`."
   ]
  },
  {
   "cell_type": "code",
   "execution_count": 80,
   "metadata": {
    "scrolled": true
   },
   "outputs": [
    {
     "name": "stderr",
     "output_type": "stream",
     "text": [
      "/home/ikenna/anaconda3/envs/dub/lib/python3.6/site-packages/ipykernel_launcher.py:4: TqdmDeprecationWarning: This function will be removed in tqdm==5.0.0\n",
      "Please use `tqdm.notebook.tqdm` instead of `tqdm.tqdm_notebook`\n",
      "  after removing the cwd from sys.path.\n"
     ]
    },
    {
     "data": {
      "application/vnd.jupyter.widget-view+json": {
       "model_id": "7bed88e3f31d4528818947933405f5b5",
       "version_major": 2,
       "version_minor": 0
      },
      "text/plain": [
       "HBox(children=(FloatProgress(value=0.0, max=12.0), HTML(value='')))"
      ]
     },
     "metadata": {},
     "output_type": "display_data"
    },
    {
     "name": "stdout",
     "output_type": "stream",
     "text": [
      "\n"
     ]
    }
   ],
   "source": [
    "# Your code here\n",
    "inertia = []\n",
    "inertia = []\n",
    "for k in tqdm_notebook(range(1, n_classes + 1)):\n",
    "    kmeans = KMeans(n_clusters=k, n_init=100, \n",
    "                    random_state=RANDOM_STATE, n_jobs=1).fit(X_pca)\n",
    "    inertia.append(np.sqrt(kmeans.inertia_))"
   ]
  },
  {
   "cell_type": "code",
   "execution_count": 81,
   "metadata": {},
   "outputs": [
    {
     "data": {
      "image/png": "[encoded data removed]",
      "text/plain": [
       "<Figure size 864x648 with 1 Axes>"
      ]
     },
     "metadata": {},
     "output_type": "display_data"
    }
   ],
   "source": [
    "plt.plot(range(1, 13), inertia, marker='s');"
   ]
  },
  {
   "cell_type": "markdown",
   "metadata": {},
   "source": [
    "\n",
    "\n",
    "We calculate $ D(k) $, as described in the lecture"
   ]
  },
  {
   "cell_type": "code",
   "execution_count": 82,
   "metadata": {},
   "outputs": [
    {
     "data": {
      "text/plain": [
       "{2: 0.2073755620633009,\n",
       " 3: 0.4564330457819787,\n",
       " 4: 0.7578856842055329,\n",
       " 5: 0.9936721502242696,\n",
       " 6: 0.5972318772911571,\n",
       " 7: 0.7753819018340392,\n",
       " 8: 0.8526100012439105,\n",
       " 9: 0.8205497685490369,\n",
       " 10: 0.9771017014750712,\n",
       " 11: 0.954244349809707}"
      ]
     },
     "execution_count": 82,
     "metadata": {},
     "output_type": "execute_result"
    }
   ],
   "source": [
    "# Your code here\n",
    "d = {}\n",
    "for k in range(2, 12):\n",
    "    i = k - 1\n",
    "    d[k] = (inertia[i] - inertia[i + 1]) / (inertia[i - 1] - inertia[i])\n",
    "d"
   ]
  },
  {
   "cell_type": "markdown",
   "metadata": {},
   "source": [
    "** Question 5: ** <br>\n",
    "How many clusters can we choose according to the elbow method? <br>\n",
    "\n",
    "**Answer options:**\n",
    "- 1\n",
    "- **2**\n",
    "- 3\n",
    "- 4\n",
    "- 5\n",
    "- 6\n",
    "- 7 \n",
    "\n",
    "It can be seen that the rate of decrease was significant until clusters 2 => which is the elbow if the graph"
   ]
  },
  {
   "cell_type": "markdown",
   "metadata": {},
   "source": [
    "------------------------"
   ]
  },
  {
   "cell_type": "markdown",
   "metadata": {},
   "source": [
    "Let's try another method of clustering, which was described in the article - agglomerative clustering."
   ]
  },
  {
   "cell_type": "code",
   "execution_count": 83,
   "metadata": {
    "jupyter": {
     "outputs_hidden": true
    }
   },
   "outputs": [],
   "source": [
    "ag = AgglomerativeClustering(n_clusters=n_classes, \n",
    "                             linkage='ward').fit(X_pca)"
   ]
  },
  {
   "cell_type": "markdown",
   "metadata": {},
   "source": [
    "Calculate the Adjusted Rand Index (`sklearn.metrics`) for the resulting clustering and for ` KMeans` with the parameters from the 4th question."
   ]
  },
  {
   "cell_type": "code",
   "execution_count": 84,
   "metadata": {},
   "outputs": [
    {
     "name": "stdout",
     "output_type": "stream",
     "text": [
      "KMeans: ARI = 0.4164788865432872\n",
      "Agg Clustering: ARI = 0.46574365320501654\n"
     ]
    }
   ],
   "source": [
    "# Your code here\n",
    "print('KMeans: ARI =', metrics.adjusted_rand_score(y, cluster_labels))\n",
    "print('Agg Clustering: ARI =', \n",
    "      metrics.adjusted_rand_score(y, ag.labels_))"
   ]
  },
  {
   "cell_type": "markdown",
   "metadata": {},
   "source": [
    "** Question 6: ** <br>\n",
    "Select all the correct statements. <br>\n",
    "\n",
    "** Answer options: **\n",
    "- **ARI expresses the similarity of the tags obtained after clustering, with class labels for the same sample and the higher the value of this index, the better**\n",
    "- **According to ARI, KMeans handled clustering worse than Agglomerative Clustering**\n",
    "- **For ARI, it does not matter which tags are assigned to the cluster, only the partitioning of objects into clusters is important**\n",
    "- **In case of random partitioning into clusters ARI will be close to zero**\n",
    "\n",
    "\n",
    "\n",
    "**Comment:**\n",
    "Check ARI documentation in sklearn docs\n",
    "\n",
    "**Explanation from Docs and Lectures**\n",
    "- ARI computes a similarity measure between two clusterings by considering all pairs of samples and counting pairs that are assigned in the same or different clusters in the predicted and true clusterings and its adjusted to be close to zero for random labeling independent of the number of clusters and samples.\n",
    "- In ARI The closer to 1.0 (more positive), the more consistent it is. Here KMeans is less tha Agg\n",
    "- Yes, as mentioned above it measures similarity between clusters and within clusters. The metric does not depend on the tags but on the data cluster split."
   ]
  },
  {
   "cell_type": "markdown",
   "metadata": {},
   "source": [
    "-------------------------------"
   ]
  },
  {
   "cell_type": "markdown",
   "metadata": {},
   "source": [
    "You can notice that the task is not very well solved just as a clustering task if you select several clusters (> 2). Now, let's solve the classification problem, given that the data is marked up.\n",
    "\n",
    "For classification, use the support vector machine - class `sklearn.svm.LinearSVC`. in this course, we did not review on this algorithm separately, but it is well-known and you can read about it, for example, in the materials of Yevgeny Sokolov - [here](https://github.com/esokolov/ml-course-msu/blob/master/ML16/lecture-notes/Sem11_linear.pdf).\n",
    "\n",
    "Choose the `C` hyperparameter for` LinearSVC` using `GridSearchCV`.\n",
    "\n",
    "- Train the new `StandardScaler` on the training sample (with all the original features), apply scaling to the test sample\n",
    "- In `GridSearchCV`, specify cv = 3."
   ]
  },
  {
   "cell_type": "code",
   "execution_count": 85,
   "metadata": {
    "jupyter": {
     "outputs_hidden": true
    }
   },
   "outputs": [],
   "source": [
    "# Your code here\n",
    "scaler = StandardScaler()\n",
    "X_train_scaled = scaler.fit_transform(X_train)\n",
    "X_test_scaled = scaler.transform(X_test)"
   ]
  },
  {
   "cell_type": "code",
   "execution_count": 86,
   "metadata": {
    "jupyter": {
     "outputs_hidden": true
    }
   },
   "outputs": [],
   "source": [
    "svc = LinearSVC(random_state=RANDOM_STATE)\n",
    "svc_params = {'C': [0.001, 0.01, 0.1, 1, 10]}"
   ]
  },
  {
   "cell_type": "code",
   "execution_count": 87,
   "metadata": {},
   "outputs": [
    {
     "name": "stdout",
     "output_type": "stream",
     "text": [
      "Fitting 3 folds for each of 5 candidates, totalling 15 fits\n"
     ]
    },
    {
     "name": "stderr",
     "output_type": "stream",
     "text": [
      "[Parallel(n_jobs=1)]: Using backend SequentialBackend with 1 concurrent workers.\n",
      "/home/ikenna/anaconda3/envs/dub/lib/python3.6/site-packages/sklearn/svm/_base.py:947: ConvergenceWarning: Liblinear failed to converge, increase the number of iterations.\n",
      "  \"the number of iterations.\", ConvergenceWarning)\n",
      "/home/ikenna/anaconda3/envs/dub/lib/python3.6/site-packages/sklearn/svm/_base.py:947: ConvergenceWarning: Liblinear failed to converge, increase the number of iterations.\n",
      "  \"the number of iterations.\", ConvergenceWarning)\n",
      "/home/ikenna/anaconda3/envs/dub/lib/python3.6/site-packages/sklearn/svm/_base.py:947: ConvergenceWarning: Liblinear failed to converge, increase the number of iterations.\n",
      "  \"the number of iterations.\", ConvergenceWarning)\n",
      "/home/ikenna/anaconda3/envs/dub/lib/python3.6/site-packages/sklearn/svm/_base.py:947: ConvergenceWarning: Liblinear failed to converge, increase the number of iterations.\n",
      "  \"the number of iterations.\", ConvergenceWarning)\n",
      "/home/ikenna/anaconda3/envs/dub/lib/python3.6/site-packages/sklearn/svm/_base.py:947: ConvergenceWarning: Liblinear failed to converge, increase the number of iterations.\n",
      "  \"the number of iterations.\", ConvergenceWarning)\n",
      "/home/ikenna/anaconda3/envs/dub/lib/python3.6/site-packages/sklearn/svm/_base.py:947: ConvergenceWarning: Liblinear failed to converge, increase the number of iterations.\n",
      "  \"the number of iterations.\", ConvergenceWarning)\n",
      "/home/ikenna/anaconda3/envs/dub/lib/python3.6/site-packages/sklearn/svm/_base.py:947: ConvergenceWarning: Liblinear failed to converge, increase the number of iterations.\n",
      "  \"the number of iterations.\", ConvergenceWarning)\n",
      "/home/ikenna/anaconda3/envs/dub/lib/python3.6/site-packages/sklearn/svm/_base.py:947: ConvergenceWarning: Liblinear failed to converge, increase the number of iterations.\n",
      "  \"the number of iterations.\", ConvergenceWarning)\n",
      "/home/ikenna/anaconda3/envs/dub/lib/python3.6/site-packages/sklearn/svm/_base.py:947: ConvergenceWarning: Liblinear failed to converge, increase the number of iterations.\n",
      "  \"the number of iterations.\", ConvergenceWarning)\n",
      "[Parallel(n_jobs=1)]: Done  15 out of  15 | elapsed:  1.9min finished\n"
     ]
    },
    {
     "name": "stdout",
     "output_type": "stream",
     "text": [
      "CPU times: user 2min 7s, sys: 203 ms, total: 2min 7s\n",
      "Wall time: 2min 7s\n"
     ]
    },
    {
     "name": "stderr",
     "output_type": "stream",
     "text": [
      "/home/ikenna/anaconda3/envs/dub/lib/python3.6/site-packages/sklearn/svm/_base.py:947: ConvergenceWarning: Liblinear failed to converge, increase the number of iterations.\n",
      "  \"the number of iterations.\", ConvergenceWarning)\n"
     ]
    },
    {
     "data": {
      "text/plain": [
       "GridSearchCV(cv=3, error_score=nan,\n",
       "             estimator=LinearSVC(C=1.0, class_weight=None, dual=True,\n",
       "                                 fit_intercept=True, intercept_scaling=1,\n",
       "                                 loss='squared_hinge', max_iter=1000,\n",
       "                                 multi_class='ovr', penalty='l2',\n",
       "                                 random_state=17, tol=0.0001, verbose=0),\n",
       "             iid='deprecated', n_jobs=1,\n",
       "             param_grid={'C': [0.001, 0.01, 0.1, 1, 10]},\n",
       "             pre_dispatch='2*n_jobs', refit=True, return_train_score=False,\n",
       "             scoring=None, verbose=1)"
      ]
     },
     "execution_count": 87,
     "metadata": {},
     "output_type": "execute_result"
    }
   ],
   "source": [
    "%%time\n",
    "# Your code here\n",
    "best_svc = GridSearchCV(svc, svc_params, n_jobs=1, cv=3, verbose=1)\n",
    "best_svc.fit(X_train_scaled, y_train);"
   ]
  },
  {
   "cell_type": "code",
   "execution_count": 88,
   "metadata": {},
   "outputs": [
    {
     "data": {
      "text/plain": [
       "({'C': 0.1}, 0.9289300888373889)"
      ]
     },
     "execution_count": 88,
     "metadata": {},
     "output_type": "execute_result"
    }
   ],
   "source": [
    "best_svc.best_params_, best_svc.best_score_"
   ]
  },
  {
   "cell_type": "markdown",
   "metadata": {},
   "source": [
    "**Question 7**<br>\n",
    "Which value of the hyperparameter `C` was chosen the best on the basis of cross-validation? <br>\n",
    "\n",
    "**Answer options:**\n",
    "- 0.001\n",
    "- 0.01\n",
    "- **0.1**\n",
    "- 1\n",
    "- 10"
   ]
  },
  {
   "cell_type": "code",
   "execution_count": 89,
   "metadata": {
    "jupyter": {
     "outputs_hidden": true
    }
   },
   "outputs": [],
   "source": [
    "y_predicted = best_svc.predict(X_test_scaled)"
   ]
  },
  {
   "cell_type": "code",
   "execution_count": 90,
   "metadata": {},
   "outputs": [
    {
     "data": {
      "text/html": [
       "<div>\n",
       "<style scoped>\n",
       "    .dataframe tbody tr th:only-of-type {\n",
       "        vertical-align: middle;\n",
       "    }\n",
       "\n",
       "    .dataframe tbody tr th {\n",
       "        vertical-align: top;\n",
       "    }\n",
       "\n",
       "    .dataframe thead th {\n",
       "        text-align: right;\n",
       "    }\n",
       "</style>\n",
       "<table border=\"1\" class=\"dataframe\">\n",
       "  <thead>\n",
       "    <tr style=\"text-align: right;\">\n",
       "      <th></th>\n",
       "      <th>WALKING</th>\n",
       "      <th>WALKING_UPSTAIRS</th>\n",
       "      <th>WALKING_DOWNSTAIRS</th>\n",
       "      <th>SITTING</th>\n",
       "      <th>LAYING</th>\n",
       "      <th>STAND_TO_SIT</th>\n",
       "      <th>SIT_TO_STAND</th>\n",
       "      <th>SIT_TO_STAND</th>\n",
       "      <th>SIT_TO_LIE</th>\n",
       "      <th>LIE_TO_SIT</th>\n",
       "      <th>STAND_TO_LIE</th>\n",
       "      <th>LIE_TO_STAND</th>\n",
       "      <th>all</th>\n",
       "    </tr>\n",
       "  </thead>\n",
       "  <tbody>\n",
       "    <tr>\n",
       "      <th>WALKING</th>\n",
       "      <td>495</td>\n",
       "      <td>1</td>\n",
       "      <td>0</td>\n",
       "      <td>0</td>\n",
       "      <td>0</td>\n",
       "      <td>0</td>\n",
       "      <td>0</td>\n",
       "      <td>0</td>\n",
       "      <td>0</td>\n",
       "      <td>0</td>\n",
       "      <td>0</td>\n",
       "      <td>0</td>\n",
       "      <td>496</td>\n",
       "    </tr>\n",
       "    <tr>\n",
       "      <th>WALKING_UPSTAIRS</th>\n",
       "      <td>17</td>\n",
       "      <td>450</td>\n",
       "      <td>1</td>\n",
       "      <td>1</td>\n",
       "      <td>0</td>\n",
       "      <td>0</td>\n",
       "      <td>1</td>\n",
       "      <td>0</td>\n",
       "      <td>0</td>\n",
       "      <td>0</td>\n",
       "      <td>1</td>\n",
       "      <td>0</td>\n",
       "      <td>471</td>\n",
       "    </tr>\n",
       "    <tr>\n",
       "      <th>WALKING_DOWNSTAIRS</th>\n",
       "      <td>4</td>\n",
       "      <td>3</td>\n",
       "      <td>411</td>\n",
       "      <td>0</td>\n",
       "      <td>2</td>\n",
       "      <td>0</td>\n",
       "      <td>0</td>\n",
       "      <td>0</td>\n",
       "      <td>0</td>\n",
       "      <td>0</td>\n",
       "      <td>0</td>\n",
       "      <td>0</td>\n",
       "      <td>420</td>\n",
       "    </tr>\n",
       "    <tr>\n",
       "      <th>SITTING</th>\n",
       "      <td>0</td>\n",
       "      <td>4</td>\n",
       "      <td>0</td>\n",
       "      <td>439</td>\n",
       "      <td>62</td>\n",
       "      <td>2</td>\n",
       "      <td>1</td>\n",
       "      <td>0</td>\n",
       "      <td>0</td>\n",
       "      <td>0</td>\n",
       "      <td>0</td>\n",
       "      <td>0</td>\n",
       "      <td>508</td>\n",
       "    </tr>\n",
       "    <tr>\n",
       "      <th>LAYING</th>\n",
       "      <td>0</td>\n",
       "      <td>0</td>\n",
       "      <td>0</td>\n",
       "      <td>12</td>\n",
       "      <td>543</td>\n",
       "      <td>0</td>\n",
       "      <td>1</td>\n",
       "      <td>0</td>\n",
       "      <td>0</td>\n",
       "      <td>0</td>\n",
       "      <td>0</td>\n",
       "      <td>0</td>\n",
       "      <td>556</td>\n",
       "    </tr>\n",
       "    <tr>\n",
       "      <th>STAND_TO_SIT</th>\n",
       "      <td>0</td>\n",
       "      <td>0</td>\n",
       "      <td>0</td>\n",
       "      <td>0</td>\n",
       "      <td>8</td>\n",
       "      <td>537</td>\n",
       "      <td>0</td>\n",
       "      <td>0</td>\n",
       "      <td>0</td>\n",
       "      <td>0</td>\n",
       "      <td>0</td>\n",
       "      <td>0</td>\n",
       "      <td>545</td>\n",
       "    </tr>\n",
       "    <tr>\n",
       "      <th>SIT_TO_STAND</th>\n",
       "      <td>0</td>\n",
       "      <td>0</td>\n",
       "      <td>0</td>\n",
       "      <td>1</td>\n",
       "      <td>2</td>\n",
       "      <td>0</td>\n",
       "      <td>19</td>\n",
       "      <td>0</td>\n",
       "      <td>1</td>\n",
       "      <td>0</td>\n",
       "      <td>0</td>\n",
       "      <td>0</td>\n",
       "      <td>23</td>\n",
       "    </tr>\n",
       "    <tr>\n",
       "      <th>SIT_TO_STAND</th>\n",
       "      <td>0</td>\n",
       "      <td>0</td>\n",
       "      <td>0</td>\n",
       "      <td>0</td>\n",
       "      <td>0</td>\n",
       "      <td>0</td>\n",
       "      <td>0</td>\n",
       "      <td>10</td>\n",
       "      <td>0</td>\n",
       "      <td>0</td>\n",
       "      <td>0</td>\n",
       "      <td>0</td>\n",
       "      <td>10</td>\n",
       "    </tr>\n",
       "    <tr>\n",
       "      <th>SIT_TO_LIE</th>\n",
       "      <td>0</td>\n",
       "      <td>0</td>\n",
       "      <td>0</td>\n",
       "      <td>0</td>\n",
       "      <td>2</td>\n",
       "      <td>1</td>\n",
       "      <td>2</td>\n",
       "      <td>0</td>\n",
       "      <td>21</td>\n",
       "      <td>0</td>\n",
       "      <td>6</td>\n",
       "      <td>0</td>\n",
       "      <td>32</td>\n",
       "    </tr>\n",
       "    <tr>\n",
       "      <th>LIE_TO_SIT</th>\n",
       "      <td>0</td>\n",
       "      <td>0</td>\n",
       "      <td>0</td>\n",
       "      <td>0</td>\n",
       "      <td>0</td>\n",
       "      <td>0</td>\n",
       "      <td>0</td>\n",
       "      <td>0</td>\n",
       "      <td>0</td>\n",
       "      <td>18</td>\n",
       "      <td>0</td>\n",
       "      <td>7</td>\n",
       "      <td>25</td>\n",
       "    </tr>\n",
       "    <tr>\n",
       "      <th>STAND_TO_LIE</th>\n",
       "      <td>2</td>\n",
       "      <td>1</td>\n",
       "      <td>0</td>\n",
       "      <td>2</td>\n",
       "      <td>0</td>\n",
       "      <td>1</td>\n",
       "      <td>0</td>\n",
       "      <td>0</td>\n",
       "      <td>10</td>\n",
       "      <td>1</td>\n",
       "      <td>31</td>\n",
       "      <td>1</td>\n",
       "      <td>49</td>\n",
       "    </tr>\n",
       "    <tr>\n",
       "      <th>LIE_TO_STAND</th>\n",
       "      <td>0</td>\n",
       "      <td>0</td>\n",
       "      <td>0</td>\n",
       "      <td>0</td>\n",
       "      <td>0</td>\n",
       "      <td>0</td>\n",
       "      <td>0</td>\n",
       "      <td>0</td>\n",
       "      <td>0</td>\n",
       "      <td>6</td>\n",
       "      <td>2</td>\n",
       "      <td>19</td>\n",
       "      <td>27</td>\n",
       "    </tr>\n",
       "    <tr>\n",
       "      <th>all</th>\n",
       "      <td>518</td>\n",
       "      <td>459</td>\n",
       "      <td>412</td>\n",
       "      <td>455</td>\n",
       "      <td>619</td>\n",
       "      <td>541</td>\n",
       "      <td>24</td>\n",
       "      <td>10</td>\n",
       "      <td>32</td>\n",
       "      <td>25</td>\n",
       "      <td>40</td>\n",
       "      <td>27</td>\n",
       "      <td>3162</td>\n",
       "    </tr>\n",
       "  </tbody>\n",
       "</table>\n",
       "</div>"
      ],
      "text/plain": [
       "                    WALKING  WALKING_UPSTAIRS  WALKING_DOWNSTAIRS  SITTING  \\\n",
       "WALKING                 495                 1                   0        0   \n",
       "WALKING_UPSTAIRS         17               450                   1        1   \n",
       "WALKING_DOWNSTAIRS        4                 3                 411        0   \n",
       "SITTING                   0                 4                   0      439   \n",
       "LAYING                    0                 0                   0       12   \n",
       "STAND_TO_SIT              0                 0                   0        0   \n",
       "SIT_TO_STAND              0                 0                   0        1   \n",
       "SIT_TO_STAND              0                 0                   0        0   \n",
       "SIT_TO_LIE                0                 0                   0        0   \n",
       " LIE_TO_SIT               0                 0                   0        0   \n",
       "STAND_TO_LIE              2                 1                   0        2   \n",
       "LIE_TO_STAND              0                 0                   0        0   \n",
       "all                     518               459                 412      455   \n",
       "\n",
       "                    LAYING  STAND_TO_SIT  SIT_TO_STAND  SIT_TO_STAND  \\\n",
       "WALKING                  0             0             0             0   \n",
       "WALKING_UPSTAIRS         0             0             1             0   \n",
       "WALKING_DOWNSTAIRS       2             0             0             0   \n",
       "SITTING                 62             2             1             0   \n",
       "LAYING                 543             0             1             0   \n",
       "STAND_TO_SIT             8           537             0             0   \n",
       "SIT_TO_STAND             2             0            19             0   \n",
       "SIT_TO_STAND             0             0             0            10   \n",
       "SIT_TO_LIE               2             1             2             0   \n",
       " LIE_TO_SIT              0             0             0             0   \n",
       "STAND_TO_LIE             0             1             0             0   \n",
       "LIE_TO_STAND             0             0             0             0   \n",
       "all                    619           541            24            10   \n",
       "\n",
       "                    SIT_TO_LIE   LIE_TO_SIT  STAND_TO_LIE  LIE_TO_STAND   all  \n",
       "WALKING                      0            0             0             0   496  \n",
       "WALKING_UPSTAIRS             0            0             1             0   471  \n",
       "WALKING_DOWNSTAIRS           0            0             0             0   420  \n",
       "SITTING                      0            0             0             0   508  \n",
       "LAYING                       0            0             0             0   556  \n",
       "STAND_TO_SIT                 0            0             0             0   545  \n",
       "SIT_TO_STAND                 1            0             0             0    23  \n",
       "SIT_TO_STAND                 0            0             0             0    10  \n",
       "SIT_TO_LIE                  21            0             6             0    32  \n",
       " LIE_TO_SIT                  0           18             0             7    25  \n",
       "STAND_TO_LIE                10            1            31             1    49  \n",
       "LIE_TO_STAND                 0            6             2            19    27  \n",
       "all                         32           25            40            27  3162  "
      ]
     },
     "execution_count": 90,
     "metadata": {},
     "output_type": "execute_result"
    }
   ],
   "source": [
    "tab = pd.crosstab(y_test, y_predicted, margins=True)\n",
    "tab.index = ['WALKING', 'WALKING_UPSTAIRS',\n",
    "            'WALKING_DOWNSTAIRS', 'SITTING', 'LAYING', 'STAND_TO_SIT','SIT_TO_STAND', 'SIT_TO_STAND', 'SIT_TO_LIE',' LIE_TO_SIT',\n",
    "             'STAND_TO_LIE','LIE_TO_STAND','all']\n",
    "tab.columns = ['WALKING', 'WALKING_UPSTAIRS',\n",
    "            'WALKING_DOWNSTAIRS', 'SITTING', 'LAYING', 'STAND_TO_SIT','SIT_TO_STAND', 'SIT_TO_STAND', 'SIT_TO_LIE',' LIE_TO_SIT',\n",
    "             'STAND_TO_LIE','LIE_TO_STAND','all']\n",
    "tab"
   ]
  },
  {
   "cell_type": "markdown",
   "metadata": {},
   "source": [
    "As you can see, the classification problem is solved quite well."
   ]
  },
  {
   "cell_type": "markdown",
   "metadata": {},
   "source": [
    "** Question 8: ** <br>\n",
    "Does SVM confuse the classes inside the activity groups we identified earlier (in the question 3)? We consider that it is confused, if the algorithm was wrong at least in one case. <br>\n",
    "\n",
    "**Answer options:**\n",
    "- **yes**\n",
    "- no\n",
    "\n",
    "Can be observed in the crosstab table above."
   ]
  },
  {
   "cell_type": "markdown",
   "metadata": {},
   "source": [
    "Finally, do the same thing as in Question 7, but add the PCA.\n",
    "\n",
    "- Use the samples `X_train_scaled` and` X_test_scaled`\n",
    "- Teach the same PCA as before, on a scaled training sample, apply the conversion to a test\n",
    "- Choose the hyperparameter `C` with cross-validation on the training sample with PCA-transformation. You will notice how much faster it works than before.\n",
    "\n",
    "** Question 9: ** <br>\n",
    "What is the difference between the best quality (the proportion of correct answers) for cross-validation in the case of all 561 initial characteristics and in the second case, when the principal component method was applied? Round to the nearest percent. <br>\n",
    "\n",
    "** Options: **\n",
    "- The quality is the same\n",
    "- 2%\n",
    "- **4%**\n",
    "- 10%\n",
    "- 20%"
   ]
  },
  {
   "cell_type": "code",
   "execution_count": 91,
   "metadata": {
    "jupyter": {
     "outputs_hidden": true
    }
   },
   "outputs": [],
   "source": [
    "# Your code here\n",
    "scaler = StandardScaler()\n",
    "X_train_scaled = scaler.fit_transform(X_train)\n",
    "X_test_scaled = scaler.transform(X_test)\n",
    "\n",
    "pca = PCA(n_components=0.9, random_state=RANDOM_STATE)\n",
    "X_train_pca = pca.fit_transform(X_train_scaled)\n",
    "X_test_pca = pca.transform(X_test_scaled)"
   ]
  },
  {
   "cell_type": "code",
   "execution_count": 92,
   "metadata": {},
   "outputs": [
    {
     "name": "stdout",
     "output_type": "stream",
     "text": [
      "Fitting 3 folds for each of 5 candidates, totalling 15 fits\n"
     ]
    },
    {
     "name": "stderr",
     "output_type": "stream",
     "text": [
      "[Parallel(n_jobs=1)]: Using backend SequentialBackend with 1 concurrent workers.\n",
      "/home/ikenna/anaconda3/envs/dub/lib/python3.6/site-packages/sklearn/svm/_base.py:947: ConvergenceWarning: Liblinear failed to converge, increase the number of iterations.\n",
      "  \"the number of iterations.\", ConvergenceWarning)\n",
      "/home/ikenna/anaconda3/envs/dub/lib/python3.6/site-packages/sklearn/svm/_base.py:947: ConvergenceWarning: Liblinear failed to converge, increase the number of iterations.\n",
      "  \"the number of iterations.\", ConvergenceWarning)\n",
      "/home/ikenna/anaconda3/envs/dub/lib/python3.6/site-packages/sklearn/svm/_base.py:947: ConvergenceWarning: Liblinear failed to converge, increase the number of iterations.\n",
      "  \"the number of iterations.\", ConvergenceWarning)\n",
      "/home/ikenna/anaconda3/envs/dub/lib/python3.6/site-packages/sklearn/svm/_base.py:947: ConvergenceWarning: Liblinear failed to converge, increase the number of iterations.\n",
      "  \"the number of iterations.\", ConvergenceWarning)\n",
      "/home/ikenna/anaconda3/envs/dub/lib/python3.6/site-packages/sklearn/svm/_base.py:947: ConvergenceWarning: Liblinear failed to converge, increase the number of iterations.\n",
      "  \"the number of iterations.\", ConvergenceWarning)\n",
      "/home/ikenna/anaconda3/envs/dub/lib/python3.6/site-packages/sklearn/svm/_base.py:947: ConvergenceWarning: Liblinear failed to converge, increase the number of iterations.\n",
      "  \"the number of iterations.\", ConvergenceWarning)\n",
      "/home/ikenna/anaconda3/envs/dub/lib/python3.6/site-packages/sklearn/svm/_base.py:947: ConvergenceWarning: Liblinear failed to converge, increase the number of iterations.\n",
      "  \"the number of iterations.\", ConvergenceWarning)\n",
      "/home/ikenna/anaconda3/envs/dub/lib/python3.6/site-packages/sklearn/svm/_base.py:947: ConvergenceWarning: Liblinear failed to converge, increase the number of iterations.\n",
      "  \"the number of iterations.\", ConvergenceWarning)\n",
      "/home/ikenna/anaconda3/envs/dub/lib/python3.6/site-packages/sklearn/svm/_base.py:947: ConvergenceWarning: Liblinear failed to converge, increase the number of iterations.\n",
      "  \"the number of iterations.\", ConvergenceWarning)\n",
      "/home/ikenna/anaconda3/envs/dub/lib/python3.6/site-packages/sklearn/svm/_base.py:947: ConvergenceWarning: Liblinear failed to converge, increase the number of iterations.\n",
      "  \"the number of iterations.\", ConvergenceWarning)\n",
      "/home/ikenna/anaconda3/envs/dub/lib/python3.6/site-packages/sklearn/svm/_base.py:947: ConvergenceWarning: Liblinear failed to converge, increase the number of iterations.\n",
      "  \"the number of iterations.\", ConvergenceWarning)\n",
      "[Parallel(n_jobs=1)]: Done  15 out of  15 | elapsed:   25.3s finished\n"
     ]
    },
    {
     "name": "stdout",
     "output_type": "stream",
     "text": [
      "CPU times: user 27.6 s, sys: 0 ns, total: 27.6 s\n",
      "Wall time: 27.5 s\n"
     ]
    },
    {
     "name": "stderr",
     "output_type": "stream",
     "text": [
      "/home/ikenna/anaconda3/envs/dub/lib/python3.6/site-packages/sklearn/svm/_base.py:947: ConvergenceWarning: Liblinear failed to converge, increase the number of iterations.\n",
      "  \"the number of iterations.\", ConvergenceWarning)\n"
     ]
    },
    {
     "data": {
      "text/plain": [
       "GridSearchCV(cv=3, error_score=nan,\n",
       "             estimator=LinearSVC(C=1.0, class_weight=None, dual=True,\n",
       "                                 fit_intercept=True, intercept_scaling=1,\n",
       "                                 loss='squared_hinge', max_iter=1000,\n",
       "                                 multi_class='ovr', penalty='l2',\n",
       "                                 random_state=17, tol=0.0001, verbose=0),\n",
       "             iid='deprecated', n_jobs=1,\n",
       "             param_grid={'C': [0.001, 0.01, 0.1, 1, 10]},\n",
       "             pre_dispatch='2*n_jobs', refit=True, return_train_score=False,\n",
       "             scoring=None, verbose=1)"
      ]
     },
     "execution_count": 92,
     "metadata": {},
     "output_type": "execute_result"
    }
   ],
   "source": [
    "%%time\n",
    "svc = LinearSVC(random_state=RANDOM_STATE)\n",
    "svc_params = {'C': [0.001, 0.01, 0.1, 1, 10]}\n",
    "best_svc_pca = GridSearchCV(svc, svc_params, n_jobs=1, cv=3, verbose=1)\n",
    "best_svc_pca.fit(X_train_pca, y_train);"
   ]
  },
  {
   "cell_type": "code",
   "execution_count": 93,
   "metadata": {},
   "outputs": [
    {
     "data": {
      "text/plain": [
       "({'C': 0.1}, 0.8842538946826316)"
      ]
     },
     "execution_count": 93,
     "metadata": {},
     "output_type": "execute_result"
    }
   ],
   "source": [
    "best_svc_pca.best_params_, best_svc_pca.best_score_"
   ]
  },
  {
   "cell_type": "code",
   "execution_count": 94,
   "metadata": {},
   "outputs": [
    {
     "data": {
      "text/plain": [
       "4.0"
      ]
     },
     "execution_count": 94,
     "metadata": {},
     "output_type": "execute_result"
    }
   ],
   "source": [
    "round(100 * (best_svc.best_score_ - best_svc_pca.best_score_ ))\n"
   ]
  },
  {
   "cell_type": "markdown",
   "metadata": {},
   "source": [
    "** Question 10: ** <br>\n",
    "Select all the correct statements:\n",
    "\n",
    "** Answer options: **\n",
    "- Principal component analysis in this case allowed to reduce the model training time, while the quality (the proportion of correct responses on cross-validation) suffered greatly, by more than 10%\n",
    "- **PCA can be used to visualize data, but there are better methods for this task, for example, tSNE. But PCA has less computational complexity**\n",
    "- **PCA builds linear combinations of initial characteristics that are poorly interpreted by humans**\n",
    "- SVM works better than kMeans, since it clearly reduces the algorithm to the optimization problem\n",
    "\n",
    "**Explanations**\n",
    "- Yes the PCA allowed for reduced training time but quality only dropped by 4%\n",
    "- Yes, As can be seen in different scatter plot in thsi notebook, PCA reduces the dimension enough for data to be visualized, but tSNE is much better method because it is manifold but more complex than PCA.\n",
    "- It is difficult for humans to interprete the new independent variables created by PCA. PCA should be used cautiously if feature intepretabilty in model building is of high imporatnce\n",
    "- SVM is a supervised learning algorithm whilst KMeans is an unsupervised learning algorithm. So can not be easily compared. "
   ]
  },
  {
   "cell_type": "code",
   "execution_count": null,
   "metadata": {},
   "outputs": [],
   "source": []
  }
 ],
 "metadata": {
  "anaconda-cloud": {},
  "kernelspec": {
   "display_name": "Python 3",
   "language": "python",
   "name": "python3"
  },
  "language_info": {
   "codemirror_mode": {
    "name": "ipython",
    "version": 3
   },
   "file_extension": ".py",
   "mimetype": "text/x-python",
   "name": "python",
   "nbconvert_exporter": "python",
   "pygments_lexer": "ipython3",
   "version": "3.6.10"
  }
 },
 "nbformat": 4,
 "nbformat_minor": 4
}
