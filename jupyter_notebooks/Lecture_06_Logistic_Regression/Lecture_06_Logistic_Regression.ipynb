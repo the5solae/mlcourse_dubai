{
  "nbformat": 4,
  "nbformat_minor": 0,
  "metadata": {
    "kernelspec": {
      "display_name": "Python 3",
      "language": "python",
      "name": "python3"
    },
    "language_info": {
      "codemirror_mode": {
        "name": "ipython",
        "version": 3
      },
      "file_extension": ".py",
      "mimetype": "text/x-python",
      "name": "python",
      "nbconvert_exporter": "python",
      "pygments_lexer": "ipython3",
      "version": "3.7.7"
    },
    "colab": {
      "name": "Lecture_06_Logistic_Regression.ipynb",
      "provenance": [],
      "include_colab_link": true
    }
  },
  "cells": [
    {
      "cell_type": "markdown",
      "metadata": {
        "id": "view-in-github",
        "colab_type": "text"
      },
      "source": [
        "<a href=\"https://colab.research.google.com/github/DmitriiDenisov/mlcourse_dubai/blob/master/jupyter_notebooks/Lecture_06_Logistic_Regression/Lecture_06_Logistic_Regression.ipynb\" target=\"_parent\"><img src=\"https://colab.research.google.com/assets/colab-badge.svg\" alt=\"Open In Colab\"/></a>"
      ]
    },
    {
      "cell_type": "code",
      "metadata": {
        "id": "nK2tn0AqUrDU",
        "colab_type": "code",
        "outputId": "8f74d0e2-a394-4ef5-a0f5-38f06cb2cc01",
        "colab": {}
      },
      "source": [
        "from IPython.core.display import display, HTML\n",
        "display(HTML(\"<style>.container { width:100% !important; }</style>\"))"
      ],
      "execution_count": 0,
      "outputs": [
        {
          "output_type": "display_data",
          "data": {
            "text/html": [
              "<style>.container { width:100% !important; }</style>"
            ],
            "text/plain": [
              "<IPython.core.display.HTML object>"
            ]
          },
          "metadata": {
            "tags": []
          }
        }
      ]
    },
    {
      "cell_type": "markdown",
      "metadata": {
        "id": "5UWtO4eZUrDf",
        "colab_type": "text"
      },
      "source": [
        "# <center>Topic 6. Logistic Regression\n",
        "    \n",
        "## Article outline\n",
        "1. [Linear Classifier](#1.-Linear-Classifier)\n",
        "2. [Mathematical Justification and MLE](#2.-Mathematical-Justification-and-MLE)\n",
        "3. [$L_2$-Regularization of Logistic Loss](#3.-$L_2$-Regularization-of-Logistic-Loss)\n",
        "4. [Practice](#4.-Practice)\n",
        "5. [Demo assignment](#5.-Demo-assignment)\n",
        "6. [Useful resources](#6.-Useful-resources)"
      ]
    },
    {
      "cell_type": "markdown",
      "metadata": {
        "id": "aHQD5EbrUrDh",
        "colab_type": "text"
      },
      "source": [
        "## 1. Linear Classifier"
      ]
    },
    {
      "cell_type": "markdown",
      "metadata": {
        "id": "D_WKwaQ7UrDi",
        "colab_type": "text"
      },
      "source": [
        "The basic idea behind a linear classifier two target classes can be separated by a hyperplane in the feature space. If this can be done without error, the training set is called *linearly separable*.\n",
        "\n",
        "<img src=\"https://github.com/DmitriiDenisov/mlcourse_dubai/blob/master/img/logit.png?raw=1\"/>\n",
        "\n",
        "We have already seen linear regression and Ordinary Least Squares (OLS). Let's consider a binary classification problem, and denote target classes to be \"+1\" (positive examples) and \"-1\" (negative examples). One of the simplest linear classifiers can be defined using regression as follows:\n",
        "\n",
        "$$\\Large a(\\textbf{x}) = w_0 + w_1 x_1 + w_2 x_2 + ... +w_n x_n = \\text{sign}(\\textbf{w}^\\text{T}\\textbf x),$$\n",
        "\n",
        "where\n",
        " - $\\textbf{x}$ –  is a feature vector (along with identity);\n",
        " - $\\textbf{w}$ – is a vector of weights in the linear model (with bias $w_0$);\n",
        " - $\\text{sign}(\\bullet)$ – is the signum function that returns the sign of its argument;\n",
        " - $a(\\textbf{x})$ – is a classifier response for $\\textbf{x}$."
      ]
    },
    {
      "cell_type": "markdown",
      "metadata": {
        "id": "3fq2EEkvUrDk",
        "colab_type": "text"
      },
      "source": [
        "Meanwhile in regression there can we infinitely many answers in classification task there may be only finite number of answers. \n",
        "\n",
        "In regression task we do not require exact answer, we have measure funtion, meanwhile for Classification task it is much more simplier:"
      ]
    },
    {
      "cell_type": "markdown",
      "metadata": {
        "id": "_IiuAgcJUrDl",
        "colab_type": "text"
      },
      "source": [
        "This function is called Accuracy:\n",
        "$$ \\Large\n",
        "       Q(a, X)\n",
        "    =\n",
        "    \\frac{1}{\\ell}\n",
        "    \\sum_{i = 1}^{\\ell}\n",
        "        [a(x_i) = y_i]     \\to\n",
        "    \\max_w\n",
        "$$\n",
        "where $[..]$ is called *indicator* (for example, [13=13] = 1 and [12=13] = 0)"
      ]
    },
    {
      "cell_type": "markdown",
      "metadata": {
        "id": "vusvalNpUrDm",
        "colab_type": "text"
      },
      "source": [
        "Because we usually solve minimization task then:\n",
        "$$ \\Large\n",
        "\\begin{equation}\n",
        "\\label{eq:errCnt}\n",
        "    Q(a, X)\n",
        "    =\n",
        "    \\frac{1}{\\ell}\n",
        "    \\sum_{i = 1}^{\\ell}\n",
        "        [a(x_i) \\neq y_i]\n",
        "    =\n",
        "    \\frac{1}{\\ell}\n",
        "    \\sum_{i = 1}^{\\ell}\n",
        "        [\\text{sign}( w^Tx) \\neq y_i]\n",
        "    \\to\n",
        "    \\min_w\n",
        "\\end{equation}\n",
        "$$"
      ]
    },
    {
      "cell_type": "markdown",
      "metadata": {
        "id": "9kJ_b5G5UrDm",
        "colab_type": "text"
      },
      "source": [
        "First let's rewrite it in the following way:\n",
        "$$ \\Large\n",
        "    Q(a, X)\n",
        "    =\n",
        "    \\frac{1}{\\ell}\n",
        "    \\sum_{i = 1}^{\\ell}\n",
        "        [\\underbrace{y_i w^Tx}_{M_i} < 0]\n",
        "    \\to\n",
        "    \\min_w\n",
        "$$"
      ]
    },
    {
      "cell_type": "markdown",
      "metadata": {
        "id": "KRMOc26rUrDn",
        "colab_type": "text"
      },
      "source": [
        "Here $M_i$ is called **margin**: $M_i = y_i w^T x$\n",
        "Sign of $M_i $ tells us if it is our prediction is correct or wrong, namely if $M_i < 0$ then our prediction is wrong. The absolute value of it shows us the degree of confidence of our prediction but we will discuss the geometrical explanation of it later"
      ]
    },
    {
      "cell_type": "markdown",
      "metadata": {
        "collapsed": true,
        "id": "JpO-zEJ7UrDo",
        "colab_type": "text"
      },
      "source": [
        "First, I would recommend looking at a classic, introductory problem in linear algebra: find the distance from the point with a radius-vector $\\textbf{x}_A$ to a plane defined by the equation $\\textbf{w}^\\text{T}\\textbf{x} = 0.$\n",
        "\n",
        "Answer:\n",
        "$$\\rho(\\textbf{x}_A, \\textbf{w}^\\text{T}\\textbf{x} = 0) = \\frac{\\textbf{w}^\\text{T}\\textbf{x}_A}{||\\textbf{w}||}$$"
      ]
    },
    {
      "cell_type": "markdown",
      "metadata": {
        "id": "ypBTQzJmUrDp",
        "colab_type": "text"
      },
      "source": [
        "<img src='https://github.com/DmitriiDenisov/mlcourse_dubai/blob/master/img/simple_linal_task.png?raw=1' width=60% />"
      ]
    },
    {
      "cell_type": "markdown",
      "metadata": {
        "id": "ZIPUkwD0UrDp",
        "colab_type": "text"
      },
      "source": [
        "When we get to the answer, we will understand that the greater the absolute value of the expression $\\textbf{w}^\\text{T}\\textbf{x}_\\text{i}$, the farther the point $\\textbf{x}_\\text{i}$ is from the plane $\\textbf{w}^\\text{T}\\textbf{x} = 0.$\n",
        "\n",
        "Hence, our expression $M(\\textbf{x}_\\text{i}) = y_i\\textbf{w}^\\text{T}\\textbf{x}_\\text{i}$ is a kind of \"confidence\" in our model's classification of the object $\\textbf{x}_\\text{i}$:\n",
        "\n",
        "- if the margin is large (in absolute value) and positive, the class label is set correctly, and the object is far away from the separating hyperplane i.e. classified confidently. See Point $x_3$ on the picture;\n",
        "- if the margin is large (in absolute value) and negative, then class label is set incorrectly, and the object is far from the separating hyperplane (the object is most likely an anomaly; for example, it could be improperly labeled in the training set). See Point $x_1$ on the picture;\n",
        "- if the margin is small (in absolute value), then the object is close to the separating hyperplane, and the margin sign determines whether the object is correctly classified. See Points $x_2$ and $x_4$ on the plot;"
      ]
    },
    {
      "cell_type": "markdown",
      "metadata": {
        "id": "OYNR4JIwUrDq",
        "colab_type": "text"
      },
      "source": [
        "<img src='https://github.com/DmitriiDenisov/mlcourse_dubai/blob/master/img/margin.png?raw=1' width=60% />"
      ]
    },
    {
      "cell_type": "markdown",
      "metadata": {
        "id": "AVrqBqpd289q",
        "colab_type": "text"
      },
      "source": [
        "### Main idea: hyperplane with $w^Tx = 0$, the closer point is to hyperplane the less is $w^Tx$, the further we are from hyperplane the bigger is $w^Tx$"
      ]
    },
    {
      "cell_type": "markdown",
      "metadata": {
        "id": "UnSpQBO9UrDr",
        "colab_type": "text"
      },
      "source": [
        "Let's remind that our loss function is: \n",
        "First let's rewrite it in the following way:\n",
        "$$ \\Large\n",
        "    Q(a, X)\n",
        "    =\n",
        "    \\frac{1}{\\ell}\n",
        "    \\sum_{i = 1}^{\\ell}\n",
        "        [\\underbrace{y_i w^Tx}_{M_i} < 0] = \\frac{1}{\\ell}\n",
        "    \\sum_{i = 1}^{\\ell}\n",
        "        [{M_i} < 0]\n",
        "    \\to\n",
        "    \\min_w\n",
        "$$\n",
        "\n",
        "Or more short:\n",
        "\n",
        "$$\n",
        "\\Large\n",
        "Q(M) = \\sum_{i = 1}^{\\ell}\n",
        "        [{M_i} < 0]\n",
        "    \\to\n",
        "    \\min_w\n",
        "$$\n",
        "\n",
        "\n",
        "Problem is that this function does not take into account how far is our point from the hyperplane.\n",
        "Also this is discrete function (not smooth one) that's why it's difficult to solve it with derivatives. In order to solve this problem we will replace our function with another one which will be **smooth** and that's why we will be able to optimize it\n",
        "So let's make upper bound function for: \n",
        "$$\n",
        "\\Large Q(M) \\leq \\tilde Q(M)\n",
        "$$\n",
        "\n",
        "Look at the graph:"
      ]
    },
    {
      "cell_type": "markdown",
      "metadata": {
        "id": "j0QlxyPsUrDr",
        "colab_type": "text"
      },
      "source": [
        "<img src='https://github.com/DmitriiDenisov/mlcourse_dubai/blob/master/img/classificationlosses.png?raw=1' width=60% />"
      ]
    },
    {
      "cell_type": "markdown",
      "metadata": {
        "id": "o64oM3YEUrDs",
        "colab_type": "text"
      },
      "source": [
        "$$ \\Large\n",
        "\\begin{array}{c}\n",
        "\\tilde L(M) = \\log \\left(1 + e^{-M} \\right) \\\\\\\n",
        "\\tilde L(M) = (1 - M)_+ = \\max(0, 1 - M) \\\\\\\n",
        "\\tilde L(M) = e^{-M}\n",
        "\\end{array}\n",
        "$$"
      ]
    },
    {
      "cell_type": "markdown",
      "metadata": {
        "id": "BEI6edL6UrDt",
        "colab_type": "text"
      },
      "source": [
        "But someone can ask a question: Why do we take this function ?"
      ]
    },
    {
      "cell_type": "markdown",
      "metadata": {
        "id": "beleaq1DUrDt",
        "colab_type": "text"
      },
      "source": [
        "##  2. Mathematical Justification and MLE"
      ]
    },
    {
      "cell_type": "markdown",
      "metadata": {
        "id": "EjKudYK5UrDu",
        "colab_type": "text"
      },
      "source": [
        "We will again rely on [maximum likelihood estimation ](https://en.wikipedia.org/wiki/Maximum_likelihood_estimation)"
      ]
    },
    {
      "cell_type": "markdown",
      "metadata": {
        "id": "sPehljd6UrDu",
        "colab_type": "text"
      },
      "source": [
        "Let's consider **any** binary classification task as a random binary random variable which is:\n",
        "- with probability $b(x_i)$ it is +1\n",
        "- with probability $1-b(x_i)$ it is -1\n",
        "\n",
        "Let's rewrite it in mathematical language, i.e write probability function for this:"
      ]
    },
    {
      "cell_type": "markdown",
      "metadata": {
        "id": "fxpuXDj8UrDv",
        "colab_type": "text"
      },
      "source": [
        "$$ \\Large P(y | x_i) = b(x_i)^{[y_i = +1]} (1 - b(x_i))^{[y_i = -1]} $$"
      ]
    },
    {
      "cell_type": "markdown",
      "metadata": {
        "id": "KlmAQPTzUrDw",
        "colab_type": "text"
      },
      "source": [
        "$$ \\Large\n",
        "    Q(a, X)\n",
        "    =\n",
        "    \\prod_{i = 1}^{\\ell}\n",
        "        b(x_i)^{[y_i = +1]} (1 - b(x_i))^{[y_i = -1]} \\to \\max\n",
        "$$"
      ]
    },
    {
      "cell_type": "markdown",
      "metadata": {
        "id": "SYoYR3fIUrDw",
        "colab_type": "text"
      },
      "source": [
        "What is equivalent to:"
      ]
    },
    {
      "cell_type": "markdown",
      "metadata": {
        "id": "-Ne3Y6BaUrDx",
        "colab_type": "text"
      },
      "source": [
        "$$\n",
        "\\Large\n",
        "\\sum_{i = 1}^{\\ell} \\left(\n",
        "        [y_i = +1] \\log b(x_i)\n",
        "        +\n",
        "        [y_i = -1] \\log (1 - b(x_i))\n",
        "    \\right)\n",
        "    \\to\n",
        "    \\max\n",
        "$$"
      ]
    },
    {
      "cell_type": "markdown",
      "metadata": {
        "id": "yd57HYnqUrDy",
        "colab_type": "text"
      },
      "source": [
        "And finally:"
      ]
    },
    {
      "cell_type": "markdown",
      "metadata": {
        "id": "uxgppetKUrDy",
        "colab_type": "text"
      },
      "source": [
        "$$\n",
        "\\Large\n",
        "- \\sum_{i = 1}^{\\ell} \\left(\n",
        "        [y_i = +1] \\log b(x_i)\n",
        "        +\n",
        "        [y_i = -1] \\log (1 - b(x_i))\n",
        "    \\right)\n",
        "    \\to\n",
        "    \\min\n",
        "$$"
      ]
    },
    {
      "cell_type": "markdown",
      "metadata": {
        "id": "wYp5ztksUrDz",
        "colab_type": "text"
      },
      "source": [
        "This function is called **Log-loss**"
      ]
    },
    {
      "cell_type": "markdown",
      "metadata": {
        "id": "68NnrChhUrD0",
        "colab_type": "text"
      },
      "source": [
        "Now let's think how about how we are going to implement prediction of probabilities of LogisticRegression"
      ]
    },
    {
      "cell_type": "markdown",
      "metadata": {
        "id": "2GYAp94cUrD0",
        "colab_type": "text"
      },
      "source": [
        "Logistic regression is a special case of the linear classifier, but it has an added benefit of predicting a probability $p_+$ of referring example $\\textbf{x}_\\text{i}$ to the class \"+\":\n",
        "$$\\Large p_+ = P\\left(y_i = 1 \\mid \\textbf{x}_\\text{i}, \\textbf{w}\\right) $$\n",
        "\n",
        "Being able to predict not just a response ( \"+1\" or \"-1\") but the *probability* of assignment to class \"+1\" is a very important requirement in many business problems e.g. credit scoring where logistic regression is traditionally used. Customers who have applied for a loan are ranked based on this predicted probability (in descending order) to obtain a scoreboard that rates customers from bad to good. Below is an example of such a toy scoreboard.\n",
        "\n",
        "<img src='https://github.com/DmitriiDenisov/mlcourse_dubai/blob/master/img/toy_scorecard_eng.png?raw=1' width=60% />\n",
        "\n",
        "The bank chooses a threshold $p_*$ to predict the probability of loan default (in the picture it's $0.15$) and stops approving loans starting from that value. Moreover, it is possible to multiply this predicted probability by the loan amount to get the expectation of losses from the client, which can also constitute good business metrics (scoring experts may have more to add, but the main gist is this)."
      ]
    },
    {
      "cell_type": "markdown",
      "metadata": {
        "id": "-19nQ8UoUrD1",
        "colab_type": "text"
      },
      "source": [
        "To predict the probability $p_+ \\in [0,1]$, we can start by constructing a linear prediction using OLS: $b(\\textbf{x}) = \\textbf{w}^\\text{T} \\textbf{x} \\in \\mathbb{R}$. But converting the resulting value to the probability within in the [0, 1] range requires some function $f: \\mathbb{R} \\rightarrow [0,1]$. Logistic regression uses a specific function for this: $\\sigma(z) = \\frac{1}{1 + \\exp^{-z}}$. Now let's understand what the prerequisites are.\n",
        "\n",
        "<img src='https://github.com/DmitriiDenisov/mlcourse_dubai/blob/master/img/sigmoid.png?raw=1' width=50% />"
      ]
    },
    {
      "cell_type": "markdown",
      "metadata": {
        "id": "1PcEOI52UrD2",
        "colab_type": "text"
      },
      "source": [
        "So, logistic regression predicts the probability of assigning an example to the \"+\" class (assuming that we know the features and weights of the model) as a sigmoid transformation of a linear combination of the weight vector and the feature vector:\n",
        "\n",
        "$$\\large p_+(\\textbf{x}_\\text{i}) = P\\left(y_i = 1 \\mid \\textbf{x}_\\text{i}, \\textbf{w}\\right) = \\sigma(\\textbf{w}^\\text{T}\\textbf{x}_\\text{i}) = b(x_i) $$\n",
        "\n",
        "Next, we will see how the model is trained"
      ]
    },
    {
      "cell_type": "markdown",
      "metadata": {
        "id": "5HGEiG9hUrD3",
        "colab_type": "text"
      },
      "source": [
        "Let's remind that we are going to solve following optimization task:"
      ]
    },
    {
      "cell_type": "markdown",
      "metadata": {
        "id": "18hOF1zaUrD3",
        "colab_type": "text"
      },
      "source": [
        "$$ \\Large\n",
        "- \\sum_{i = 1}^{\\ell} \\left(\n",
        "        [y_i = +1] \\log b(x_i)\n",
        "        +\n",
        "        [y_i = -1] \\log (1 - b(x_i))\n",
        "    \\right)\n",
        "    \\to\n",
        "    \\min\n",
        "$$"
      ]
    },
    {
      "cell_type": "markdown",
      "metadata": {
        "id": "ctJlBB0VUrD4",
        "colab_type": "text"
      },
      "source": [
        "$$ \\Large \\begin{align*}\n",
        "-\\sum_{i = 1}^{\\ell} &\\left(\n",
        "        [y_i = +1]\n",
        "        \\log \\frac{1}{1 + \\exp(-\\textbf{w}^\\text{T}\\textbf{x}_\\text{i})}\n",
        "        +\n",
        "        [y_i = -1]\n",
        "        \\log \\frac{\\exp(-\\textbf{w}^\\text{T} \\textbf{x}_\\text{i})}{1 + \\exp(-\\textbf{w}^\\text{T}\\textbf{x}_\\text{i})}\n",
        "    \\right)\n",
        "    =\\\\\n",
        "    &=\n",
        "    -\\sum_{i = 1}^{\\ell} \\left(\n",
        "        [y_i = +1]\n",
        "        \\log \\frac{1}{1 + \\exp(-\\textbf{w}^\\text{T}\\textbf{x}_\\text{i})}\n",
        "        +\n",
        "        [y_i = -1]\n",
        "        \\log \\frac{1}{1 + \\exp(\\textbf{w}^\\text{T}\\textbf{x}_\\text{i})}\n",
        "    \\right)\n",
        "    =\\\\\n",
        "    &=\n",
        "    \\sum_{i = 1}^{\\ell}\n",
        "        \\log \\left(\n",
        "            1 + \\exp(-y_i \\textbf{w}^\\text{T}\\textbf{x}_\\text{i})\n",
        "        \\right) =     \\sum_{i = 1}^{\\ell}\n",
        "        \\log \\left(\n",
        "            1 + \\exp(-M_i)\n",
        "        \\right).\n",
        "\\end{align*} $$"
      ]
    },
    {
      "cell_type": "markdown",
      "metadata": {
        "id": "57q5fYdoUrD4",
        "colab_type": "text"
      },
      "source": [
        "## 3. $L_2$-Regularization of Logistic Loss\n",
        "$L_2$-regularization of logistic regression is almost the same as in the case of ridge regression. Instead of minimizing the function $\\mathcal{L_{\\log}} (\\textbf X, \\textbf{y}, \\textbf{w})$ we minimize the following:\n",
        "\n",
        "$$\\Large \\mathcal{J}(\\textbf X, \\textbf{y}, \\textbf{w}) = \\mathcal{L_{\\log}} (\\textbf X, \\textbf{y}, \\textbf{w}) + \\lambda |\\textbf{w}|^2$$\n",
        "\n",
        "In the case of logistic regression, a reverse regularization coefficient $C = \\frac{1}{\\lambda}$ is typically introduced. Then the solution to the problem would be:\n",
        "\n",
        "$$\\Large \\widehat{\\textbf w}  = \\arg \\min_{\\textbf{w}} \\mathcal{J}(\\textbf X, \\textbf{y}, \\textbf{w}) =  \\arg \\min_{\\textbf{w}}\\ (\\sum_{i=1}^{\\ell} \\log (1 + \\exp^{-y_i\\textbf{w}^\\text{T}\\textbf{x}_\\text{i}})+ \\frac{1}{C}|\\textbf{w}|^2)$$ \n",
        "\n",
        "Next, we'll look at an example that allows us to intuitively understand one of the interpretations of regularization."
      ]
    },
    {
      "cell_type": "markdown",
      "metadata": {
        "id": "GbaPmsVqUrD5",
        "colab_type": "text"
      },
      "source": [
        "## 4. Practice"
      ]
    },
    {
      "cell_type": "markdown",
      "metadata": {
        "id": "Mt0tffyAUrD6",
        "colab_type": "text"
      },
      "source": [
        "Let's demonstrate how polynomial features allow linear models to build nonlinear separating surfaces. Let's now show this visually.\n",
        "\n",
        "Let's see how regularization affects the quality of classification on a dataset on microchip testing from Andrew Ng's course on machine learning. We will use logistic regression with polynomial features and vary the regularization parameter $C$. First, we will see how regularization affects the separating border of the classifier and intuitively recognize under- and overfitting. Then, we will choose the regularization parameter to be numerically close to the optimal value via (`cross-validation`) and (`GridSearch`)."
      ]
    },
    {
      "cell_type": "code",
      "metadata": {
        "id": "L_eJTIR7UrD6",
        "colab_type": "code",
        "colab": {}
      },
      "source": [
        "# we don't like warnings\n",
        "# you can comment the following 2 lines if you'd like to\n",
        "import warnings\n",
        "warnings.filterwarnings('ignore')\n",
        "\n",
        "%matplotlib inline\n",
        "from matplotlib import pyplot as plt\n",
        "import seaborn as sns\n",
        "\n",
        "import numpy as np\n",
        "import pandas as pd\n",
        "from sklearn.preprocessing import PolynomialFeatures\n",
        "from sklearn.linear_model import LogisticRegression, LogisticRegressionCV\n",
        "from sklearn.model_selection import cross_val_score, StratifiedKFold\n",
        "from sklearn.model_selection import GridSearchCV"
      ],
      "execution_count": 0,
      "outputs": []
    },
    {
      "cell_type": "markdown",
      "metadata": {
        "id": "UiUEOwinUrD_",
        "colab_type": "text"
      },
      "source": [
        "Let's load the data using `read_csv` from the `pandas` library. In this dataset on 118 microchips (objects), there are results for two tests of quality control (two numerical variables) and information whether the microchip went into production. Variables are already centered, meaning that the column values have had their own mean values subtracted. Thus, the \"average\" microchip corresponds to a zero value in the test results.  "
      ]
    },
    {
      "cell_type": "code",
      "metadata": {
        "id": "UAewUaU7UrD_",
        "colab_type": "code",
        "outputId": "6e90bcca-24f4-4c7d-bf98-dbf4b77d3760",
        "colab": {}
      },
      "source": [
        "# loading data\n",
        "data = pd.read_csv('../../data/microchip_tests.txt',\n",
        "                   header=None, names = ('test1','test2','released'))\n",
        "# getting some info about dataframe\n",
        "data.info()"
      ],
      "execution_count": 0,
      "outputs": [
        {
          "output_type": "stream",
          "text": [
            "<class 'pandas.core.frame.DataFrame'>\n",
            "RangeIndex: 118 entries, 0 to 117\n",
            "Data columns (total 3 columns):\n",
            " #   Column    Non-Null Count  Dtype  \n",
            "---  ------    --------------  -----  \n",
            " 0   test1     118 non-null    float64\n",
            " 1   test2     118 non-null    float64\n",
            " 2   released  118 non-null    int64  \n",
            "dtypes: float64(2), int64(1)\n",
            "memory usage: 2.9 KB\n"
          ],
          "name": "stdout"
        }
      ]
    },
    {
      "cell_type": "markdown",
      "metadata": {
        "id": "6VxW8SM7UrED",
        "colab_type": "text"
      },
      "source": [
        "Let's inspect at the first and last 5 lines."
      ]
    },
    {
      "cell_type": "code",
      "metadata": {
        "id": "QBwAFuGkUrEE",
        "colab_type": "code",
        "outputId": "eabb911f-c657-423e-a5ae-f609f067457b",
        "colab": {}
      },
      "source": [
        "data.head(5)"
      ],
      "execution_count": 0,
      "outputs": [
        {
          "output_type": "execute_result",
          "data": {
            "text/html": [
              "<div>\n",
              "<style scoped>\n",
              "    .dataframe tbody tr th:only-of-type {\n",
              "        vertical-align: middle;\n",
              "    }\n",
              "\n",
              "    .dataframe tbody tr th {\n",
              "        vertical-align: top;\n",
              "    }\n",
              "\n",
              "    .dataframe thead th {\n",
              "        text-align: right;\n",
              "    }\n",
              "</style>\n",
              "<table border=\"1\" class=\"dataframe\">\n",
              "  <thead>\n",
              "    <tr style=\"text-align: right;\">\n",
              "      <th></th>\n",
              "      <th>test1</th>\n",
              "      <th>test2</th>\n",
              "      <th>released</th>\n",
              "    </tr>\n",
              "  </thead>\n",
              "  <tbody>\n",
              "    <tr>\n",
              "      <th>0</th>\n",
              "      <td>0.051267</td>\n",
              "      <td>0.69956</td>\n",
              "      <td>1</td>\n",
              "    </tr>\n",
              "    <tr>\n",
              "      <th>1</th>\n",
              "      <td>-0.092742</td>\n",
              "      <td>0.68494</td>\n",
              "      <td>1</td>\n",
              "    </tr>\n",
              "    <tr>\n",
              "      <th>2</th>\n",
              "      <td>-0.213710</td>\n",
              "      <td>0.69225</td>\n",
              "      <td>1</td>\n",
              "    </tr>\n",
              "    <tr>\n",
              "      <th>3</th>\n",
              "      <td>-0.375000</td>\n",
              "      <td>0.50219</td>\n",
              "      <td>1</td>\n",
              "    </tr>\n",
              "    <tr>\n",
              "      <th>4</th>\n",
              "      <td>-0.513250</td>\n",
              "      <td>0.46564</td>\n",
              "      <td>1</td>\n",
              "    </tr>\n",
              "  </tbody>\n",
              "</table>\n",
              "</div>"
            ],
            "text/plain": [
              "      test1    test2  released\n",
              "0  0.051267  0.69956         1\n",
              "1 -0.092742  0.68494         1\n",
              "2 -0.213710  0.69225         1\n",
              "3 -0.375000  0.50219         1\n",
              "4 -0.513250  0.46564         1"
            ]
          },
          "metadata": {
            "tags": []
          },
          "execution_count": 32
        }
      ]
    },
    {
      "cell_type": "code",
      "metadata": {
        "id": "sQydNRg1UrEH",
        "colab_type": "code",
        "outputId": "7226ef4a-6027-44af-878c-19b18aefa4f6",
        "colab": {}
      },
      "source": [
        "data.tail(5)"
      ],
      "execution_count": 0,
      "outputs": [
        {
          "output_type": "execute_result",
          "data": {
            "text/html": [
              "<div>\n",
              "<style scoped>\n",
              "    .dataframe tbody tr th:only-of-type {\n",
              "        vertical-align: middle;\n",
              "    }\n",
              "\n",
              "    .dataframe tbody tr th {\n",
              "        vertical-align: top;\n",
              "    }\n",
              "\n",
              "    .dataframe thead th {\n",
              "        text-align: right;\n",
              "    }\n",
              "</style>\n",
              "<table border=\"1\" class=\"dataframe\">\n",
              "  <thead>\n",
              "    <tr style=\"text-align: right;\">\n",
              "      <th></th>\n",
              "      <th>test1</th>\n",
              "      <th>test2</th>\n",
              "      <th>released</th>\n",
              "    </tr>\n",
              "  </thead>\n",
              "  <tbody>\n",
              "    <tr>\n",
              "      <th>113</th>\n",
              "      <td>-0.720620</td>\n",
              "      <td>0.538740</td>\n",
              "      <td>0</td>\n",
              "    </tr>\n",
              "    <tr>\n",
              "      <th>114</th>\n",
              "      <td>-0.593890</td>\n",
              "      <td>0.494880</td>\n",
              "      <td>0</td>\n",
              "    </tr>\n",
              "    <tr>\n",
              "      <th>115</th>\n",
              "      <td>-0.484450</td>\n",
              "      <td>0.999270</td>\n",
              "      <td>0</td>\n",
              "    </tr>\n",
              "    <tr>\n",
              "      <th>116</th>\n",
              "      <td>-0.006336</td>\n",
              "      <td>0.999270</td>\n",
              "      <td>0</td>\n",
              "    </tr>\n",
              "    <tr>\n",
              "      <th>117</th>\n",
              "      <td>0.632650</td>\n",
              "      <td>-0.030612</td>\n",
              "      <td>0</td>\n",
              "    </tr>\n",
              "  </tbody>\n",
              "</table>\n",
              "</div>"
            ],
            "text/plain": [
              "        test1     test2  released\n",
              "113 -0.720620  0.538740         0\n",
              "114 -0.593890  0.494880         0\n",
              "115 -0.484450  0.999270         0\n",
              "116 -0.006336  0.999270         0\n",
              "117  0.632650 -0.030612         0"
            ]
          },
          "metadata": {
            "tags": []
          },
          "execution_count": 33
        }
      ]
    },
    {
      "cell_type": "markdown",
      "metadata": {
        "id": "g62cGzSyUrEK",
        "colab_type": "text"
      },
      "source": [
        "Now we should save the training set and the target class labels in separate NumPy arrays."
      ]
    },
    {
      "cell_type": "code",
      "metadata": {
        "id": "PrKlRHKrUrEL",
        "colab_type": "code",
        "colab": {}
      },
      "source": [
        "y = data['released'].values\n",
        "X = data[['test1', 'test2']].values"
      ],
      "execution_count": 0,
      "outputs": []
    },
    {
      "cell_type": "code",
      "metadata": {
        "id": "hIuGq7H-UrEO",
        "colab_type": "code",
        "colab": {}
      },
      "source": [
        "from sklearn.tree import DecisionTreeClassifier"
      ],
      "execution_count": 0,
      "outputs": []
    },
    {
      "cell_type": "code",
      "metadata": {
        "id": "8Fg1mWC7UrEQ",
        "colab_type": "code",
        "colab": {}
      },
      "source": [
        "X_train = X[:90]\n",
        "X_test = X[90:]\n",
        "y_train = y[:90]\n",
        "y_test = y[90:]"
      ],
      "execution_count": 0,
      "outputs": []
    },
    {
      "cell_type": "code",
      "metadata": {
        "id": "xwI6sjvPUrEU",
        "colab_type": "code",
        "colab": {}
      },
      "source": [
        "a = DecisionTreeClassifier()\n",
        "a.fit(X_train, y_train)\n",
        "y_pred = a.predict(X_test)"
      ],
      "execution_count": 0,
      "outputs": []
    },
    {
      "cell_type": "code",
      "metadata": {
        "id": "nkcKyX7qUrEX",
        "colab_type": "code",
        "outputId": "df8273ee-1422-49ef-a418-efc9bdcd78cc",
        "colab": {}
      },
      "source": [
        "(y_pred == y_test).sum() / y_pred.shape[0]"
      ],
      "execution_count": 0,
      "outputs": [
        {
          "output_type": "execute_result",
          "data": {
            "text/plain": [
              "0.6071428571428571"
            ]
          },
          "metadata": {
            "tags": []
          },
          "execution_count": 50
        }
      ]
    },
    {
      "cell_type": "markdown",
      "metadata": {
        "id": "02TS4HIOUrEZ",
        "colab_type": "text"
      },
      "source": [
        "As an intermediate step, we can plot the data. Orange points correspond to defective chips, blue to normal ones."
      ]
    },
    {
      "cell_type": "code",
      "metadata": {
        "id": "N-fghqx1UrEa",
        "colab_type": "code",
        "outputId": "24d0d4e6-b4d0-4e8c-83c6-31c4c4cb6f06",
        "colab": {}
      },
      "source": [
        "plt.scatter(X[y == 1, 0], X[y == 1, 1], c='blue', label='Released')\n",
        "plt.scatter(X[y == 0, 0], X[y == 0, 1], c='orange', label='Faulty')\n",
        "plt.xlabel(\"Test 1\")\n",
        "plt.ylabel(\"Test 2\")\n",
        "plt.title('2 tests of microchips. Logit with C=1')\n",
        "plt.legend();"
      ],
      "execution_count": 0,
      "outputs": [
        {
          "output_type": "display_data",
          "data": {
            "image/png": "[encoded data removed]",
            "text/plain": [
              "<Figure size 432x288 with 1 Axes>"
            ]
          },
          "metadata": {
            "tags": [],
            "needs_background": "light"
          }
        }
      ]
    },
    {
      "cell_type": "markdown",
      "metadata": {
        "id": "uEMYW9PqUrEf",
        "colab_type": "text"
      },
      "source": [
        "Let's define a function to display the separating curve of the classifier."
      ]
    },
    {
      "cell_type": "code",
      "metadata": {
        "id": "h8JNxmKtUrEg",
        "colab_type": "code",
        "colab": {}
      },
      "source": [
        "def plot_boundary(clf, X, y, grid_step=.01, poly_featurizer=None):\n",
        "    x_min, x_max = X[:, 0].min() - .1, X[:, 0].max() + .1\n",
        "    y_min, y_max = X[:, 1].min() - .1, X[:, 1].max() + .1\n",
        "    xx, yy = np.meshgrid(np.arange(x_min, x_max, grid_step),\n",
        "                         np.arange(y_min, y_max, grid_step))\n",
        "\n",
        "\n",
        "    # to every point from [x_min, m_max]x[y_min, y_max]\n",
        "    # we put in correspondence its own color\n",
        "    Z = clf.predict(poly_featurizer.transform(np.c_[xx.ravel(), yy.ravel()]))\n",
        "    Z = Z.reshape(xx.shape)\n",
        "    plt.contour(xx, yy, Z, cmap=plt.cm.Paired)"
      ],
      "execution_count": 0,
      "outputs": []
    },
    {
      "cell_type": "markdown",
      "metadata": {
        "id": "woPUJzDPUrEj",
        "colab_type": "text"
      },
      "source": [
        "We define the following polynomial features of degree $d$ for two variables $x_1$ and $x_2$:\n",
        "\n",
        "$$\\large \\{x_1^d, x_1^{d-1}x_2, \\ldots x_2^d\\} =  \\{x_1^ix_2^j\\}_{i+j=d, i,j \\in \\mathbb{N}}$$\n",
        "\n",
        "For example, for $d=3$, this will be the following features:\n",
        "\n",
        "$$\\large 1, x_1, x_2,  x_1^2, x_1x_2, x_2^2, x_1^3, x_1^2x_2, x_1x_2^2, x_2^3$$\n",
        "\n",
        "Drawing a Pythagorean Triangle would show how many of these features there will be for $d=4,5...$ and so on.\n",
        "The number of such features is exponentially large, and it can be costly to build polynomial features of large degree (e.g $d=10$) for 100 variables. More importantly, it's not needed. \n"
      ]
    },
    {
      "cell_type": "markdown",
      "metadata": {
        "id": "yHhQgWH3UrEj",
        "colab_type": "text"
      },
      "source": [
        "We will use `sklearn`'s implementation of logistic regression. So, we create an object that will add polynomial features up to degree 7 to matrix $X$."
      ]
    },
    {
      "cell_type": "code",
      "metadata": {
        "id": "9B_rHORvUrEk",
        "colab_type": "code",
        "colab": {}
      },
      "source": [
        "poly = PolynomialFeatures(degree=7)\n",
        "X_poly = poly.fit_transform(X)"
      ],
      "execution_count": 0,
      "outputs": []
    },
    {
      "cell_type": "code",
      "metadata": {
        "id": "usITxuOjUrEm",
        "colab_type": "code",
        "outputId": "ad8fd238-5a0c-4de6-ed56-4cc1de741a57",
        "colab": {}
      },
      "source": [
        "X_poly.shape"
      ],
      "execution_count": 0,
      "outputs": [
        {
          "output_type": "execute_result",
          "data": {
            "text/plain": [
              "(118, 36)"
            ]
          },
          "metadata": {
            "tags": []
          },
          "execution_count": 58
        }
      ]
    },
    {
      "cell_type": "markdown",
      "metadata": {
        "id": "b9Z7GnKvUrEq",
        "colab_type": "text"
      },
      "source": [
        "Let's train logistic regression with regularization parameter $C = 10^{-2}$."
      ]
    },
    {
      "cell_type": "code",
      "metadata": {
        "id": "oXeI7rr9UrEq",
        "colab_type": "code",
        "outputId": "770e98f1-9c77-409a-cb72-ef00e2d1127f",
        "colab": {}
      },
      "source": [
        "C = 0.01\n",
        "logit = LogisticRegression(C=C, random_state=17)\n",
        "logit.fit(X_poly, y)\n",
        "\n",
        "plot_boundary(logit, X, y, grid_step=.01, poly_featurizer=poly)\n",
        "\n",
        "plt.scatter(X[y == 1, 0], X[y == 1, 1], c='blue', label='Released')\n",
        "plt.scatter(X[y == 0, 0], X[y == 0, 1], c='orange', label='Faulty')\n",
        "plt.xlabel(\"Test 1\")\n",
        "plt.ylabel(\"Test 2\")\n",
        "plt.title('2 tests of microchips. Logit with C=%s' % C)\n",
        "plt.legend();\n",
        "\n",
        "print(\"Accuracy on training set:\", \n",
        "      round(logit.score(X_poly, y), 3))"
      ],
      "execution_count": 0,
      "outputs": [
        {
          "output_type": "stream",
          "text": [
            "Accuracy on training set: 0.627\n"
          ],
          "name": "stdout"
        },
        {
          "output_type": "display_data",
          "data": {
            "image/png": "[encoded data removed]",
            "text/plain": [
              "<Figure size 432x288 with 1 Axes>"
            ]
          },
          "metadata": {
            "tags": [],
            "needs_background": "light"
          }
        }
      ]
    },
    {
      "cell_type": "markdown",
      "metadata": {
        "id": "-ZXqgdC7UrEt",
        "colab_type": "text"
      },
      "source": [
        "We could now try increasing $C$ to 1. In doing this, we weaken regularization, and the solution can now have greater values (in absolute value) of model weights than previously. Now the accuracy of the classifier on the training set improves to 0.831."
      ]
    },
    {
      "cell_type": "code",
      "metadata": {
        "id": "RwSHN3oLUrEu",
        "colab_type": "code",
        "outputId": "7fdd754c-65e3-4ac5-a208-a47a1db68668",
        "colab": {}
      },
      "source": [
        "C = 1\n",
        "logit = LogisticRegression(C=C, random_state=17)\n",
        "logit.fit(X_poly, y)\n",
        "\n",
        "plot_boundary(logit, X, y, grid_step=.005, poly_featurizer=poly)\n",
        "\n",
        "plt.scatter(X[y == 1, 0], X[y == 1, 1], c='blue', label='Released')\n",
        "plt.scatter(X[y == 0, 0], X[y == 0, 1], c='orange', label='Faulty')\n",
        "plt.xlabel(\"Test 1\")\n",
        "plt.ylabel(\"Test 2\")\n",
        "plt.title('2 tests of microchips. Logit with C=%s' % C)\n",
        "plt.legend();\n",
        "\n",
        "print(\"Accuracy on training set:\", \n",
        "      round(logit.score(X_poly, y), 3))"
      ],
      "execution_count": 0,
      "outputs": [
        {
          "output_type": "stream",
          "text": [
            "Accuracy on training set: 0.831\n"
          ],
          "name": "stdout"
        },
        {
          "output_type": "display_data",
          "data": {
            "image/png": "[encoded data removed]",
            "text/plain": [
              "<Figure size 432x288 with 1 Axes>"
            ]
          },
          "metadata": {
            "tags": [],
            "needs_background": "light"
          }
        }
      ]
    },
    {
      "cell_type": "markdown",
      "metadata": {
        "id": "ICSwxxR0UrEz",
        "colab_type": "text"
      },
      "source": [
        "Then, why don't we increase $C$ even more - up to 10,000? Now, regularization is clearly not strong enough, and we see overfitting. Note that, with $C$=1 and a \"smooth\" boundary, the share of correct answers on the training set is not much lower than here. But one can easily imagine how our second model will work much better on new data."
      ]
    },
    {
      "cell_type": "code",
      "metadata": {
        "id": "UtOfiqIdUrE0",
        "colab_type": "code",
        "outputId": "b665d408-c76c-4ec0-b9e3-3be555d3e45f",
        "colab": {}
      },
      "source": [
        "C = 1e4\n",
        "logit = LogisticRegression(C=C, random_state=17)\n",
        "logit.fit(X_poly, y)\n",
        "\n",
        "plot_boundary(logit, X, y, grid_step=.005, poly_featurizer=poly)\n",
        "\n",
        "plt.scatter(X[y == 1, 0], X[y == 1, 1], c='blue', label='Released')\n",
        "plt.scatter(X[y == 0, 0], X[y == 0, 1], c='orange', label='Faulty')\n",
        "plt.xlabel(\"Test 1\")\n",
        "plt.ylabel(\"Test 2\")\n",
        "plt.title('2 tests of microchips. Logit with C=%s' % C)\n",
        "plt.legend();\n",
        "\n",
        "print(\"Accuracy on training set:\", \n",
        "      round(logit.score(X_poly, y), 3))"
      ],
      "execution_count": 0,
      "outputs": [
        {
          "output_type": "stream",
          "text": [
            "Accuracy on training set: 0.873\n"
          ],
          "name": "stdout"
        },
        {
          "output_type": "display_data",
          "data": {
            "image/png": "[encoded data removed]",
            "text/plain": [
              "<Figure size 432x288 with 1 Axes>"
            ]
          },
          "metadata": {
            "tags": [],
            "needs_background": "light"
          }
        }
      ]
    },
    {
      "cell_type": "markdown",
      "metadata": {
        "id": "XOjcgVMnUrE2",
        "colab_type": "text"
      },
      "source": [
        "To discuss the results, let's rewrite the function that is optimized in logistic regression with the form:\n",
        "\n",
        "$$\\large J(X,y,w) = \\mathcal{L} + \\frac{1}{C}||w||^2,$$\n",
        "\n",
        "where\n",
        "\n",
        "- $\\mathcal{L}$ is the logistic loss function summed over the entire dataset\n",
        "- $C$ is the reverse regularization coefficient (the very same $C$ from `sklearn`'s implementation of `LogisticRegression`)"
      ]
    },
    {
      "cell_type": "markdown",
      "metadata": {
        "id": "vtxuD0eCUrE2",
        "colab_type": "text"
      },
      "source": [
        "**Subtotals**:\n",
        "- the larger the parameter $C$, the more complex the relationships in the data that the model can recover (intuitively $C$ corresponds to the \"complexity\" of the model - model capacity)\n",
        "- if regularization is too strong i.e. the values of $C$ are small, the solution to the problem of minimizing the logistic loss function may be the one where many of the weights are too small or zeroed. The model is also not sufficiently \"penalized\" for errors (i.e. in the function $J$, the sum of the squares of the weights \"outweighs\", and the error $\\mathcal{L}$ can be relatively large). In this case, the model will underfit as we saw in our first case.\n",
        "- on the contrary, if regularization is too weak i.e. the values of $C$ are large, a vector $w$ with high absolute value components can become the solution to the optimization problem. In this case, $\\mathcal{L}$ has a greater contribution to the optimized functional $J$. Loosely speaking, the model is too \"afraid\" to be mistaken on the objects from the training set and will therefore overfit as we saw in the third case.\n",
        "- logistic regression will not \"understand\" (or \"learn\") what value of $C$ to choose as it does with the weights $w$. That is to say, it can not be determined by solving the optimization problem in logistic regression. We have seen a similar situation before -- a decision tree can not \"learn\" what depth limit to choose during the training process. Therefore, $C$ is the a model hyperparameter that is tuned on cross-validation; so is the max_depth in a tree."
      ]
    },
    {
      "cell_type": "markdown",
      "metadata": {
        "id": "N-ePJDR-UrE3",
        "colab_type": "text"
      },
      "source": [
        "**Regularization parameter tuning**"
      ]
    },
    {
      "cell_type": "markdown",
      "metadata": {
        "id": "ZkEmYy9AUrE3",
        "colab_type": "text"
      },
      "source": [
        "Using this example, let's identify the optimal value of the regularization parameter $C$. This can be done using `LogisticRegressionCV` - a grid search of parameters followed by cross-validation. This class is designed specifically for logistic regression (effective algorithms with well-known search parameters). For an arbitrary model, use `GridSearchCV`, `RandomizedSearchCV`, or special algorithms for hyperparameter optimization such as the one implemented in `hyperopt`."
      ]
    },
    {
      "cell_type": "code",
      "metadata": {
        "id": "oJYnEmkQUrE4",
        "colab_type": "code",
        "outputId": "8d32805b-4076-4d95-cc65-1314bf0d77dc",
        "colab": {}
      },
      "source": [
        "skf = StratifiedKFold(n_splits=5, shuffle=True, random_state=17)\n",
        "\n",
        "c_values = np.logspace(-2, 3, 500)\n",
        "\n",
        "logit_searcher = LogisticRegressionCV(Cs=c_values, cv=skf, verbose=1, n_jobs=-1)\n",
        "logit_searcher.fit(X_poly, y)"
      ],
      "execution_count": 0,
      "outputs": [
        {
          "output_type": "stream",
          "text": [
            "[Parallel(n_jobs=-1)]: Using backend LokyBackend with 4 concurrent workers.\n",
            "[Parallel(n_jobs=-1)]: Done   5 out of   5 | elapsed:   11.8s finished\n"
          ],
          "name": "stderr"
        },
        {
          "output_type": "execute_result",
          "data": {
            "text/plain": [
              "LogisticRegressionCV(Cs=array([1.00000000e-02, 1.02334021e-02, 1.04722519e-02, 1.07166765e-02,\n",
              "       1.09668060e-02, 1.12227736e-02, 1.14847155e-02, 1.17527712e-02,\n",
              "       1.20270833e-02, 1.23077980e-02, 1.25950646e-02, 1.28890361e-02,\n",
              "       1.31898690e-02, 1.34977233e-02, 1.38127630e-02, 1.41351558e-02,\n",
              "       1.44650734e-02, 1.48026913e-02, 1.51481892e-02, 1.55017512e-02,\n",
              "       1.58635653e-02, 1.62...\n",
              "       8.50863158e+02, 8.70722485e+02, 8.91045332e+02, 9.11842520e+02,\n",
              "       9.33125118e+02, 9.54904456e+02, 9.77192128e+02, 1.00000000e+03]),\n",
              "                     class_weight=None,\n",
              "                     cv=StratifiedKFold(n_splits=5, random_state=17, shuffle=True),\n",
              "                     dual=False, fit_intercept=True, intercept_scaling=1.0,\n",
              "                     l1_ratios=None, max_iter=100, multi_class='auto',\n",
              "                     n_jobs=-1, penalty='l2', random_state=None, refit=True,\n",
              "                     scoring=None, solver='lbfgs', tol=0.0001, verbose=1)"
            ]
          },
          "metadata": {
            "tags": []
          },
          "execution_count": 26
        }
      ]
    },
    {
      "cell_type": "code",
      "metadata": {
        "id": "VTvIQdCXUrE6",
        "colab_type": "code",
        "outputId": "ed9038d3-1f07-4ead-afc2-a0260ddc17db",
        "colab": {}
      },
      "source": [
        "logit_searcher.C_"
      ],
      "execution_count": 0,
      "outputs": [
        {
          "output_type": "execute_result",
          "data": {
            "text/plain": [
              "array([150.78450459])"
            ]
          },
          "metadata": {
            "tags": []
          },
          "execution_count": 27
        }
      ]
    },
    {
      "cell_type": "markdown",
      "metadata": {
        "id": "ULwrseFGUrE8",
        "colab_type": "text"
      },
      "source": [
        "To see how the quality of the model (percentage of correct responses on the training and validation sets) varies with the hyperparameter $C$, we can plot the graph. "
      ]
    },
    {
      "cell_type": "code",
      "metadata": {
        "id": "Q0ksfmX4UrE9",
        "colab_type": "code",
        "outputId": "475bde44-6f5a-49fe-a48c-08622801ed13",
        "colab": {}
      },
      "source": [
        "plt.plot(c_values, np.mean(logit_searcher.scores_[1], axis=0))\n",
        "plt.xlabel('C')\n",
        "plt.ylabel('Mean CV-accuracy');"
      ],
      "execution_count": 0,
      "outputs": [
        {
          "output_type": "display_data",
          "data": {
            "image/png": "[encoded data removed]",
            "text/plain": [
              "<Figure size 432x288 with 1 Axes>"
            ]
          },
          "metadata": {
            "tags": [],
            "needs_background": "light"
          }
        }
      ]
    },
    {
      "cell_type": "markdown",
      "metadata": {
        "id": "lsopI1yyUrFA",
        "colab_type": "text"
      },
      "source": [
        "Finally, select the area with the \"best\" values of $C$."
      ]
    },
    {
      "cell_type": "code",
      "metadata": {
        "id": "p6Zw6IMHUrFA",
        "colab_type": "code",
        "outputId": "473ea143-a2bb-4758-8179-21ff747f2269",
        "colab": {}
      },
      "source": [
        "plt.plot(c_values, np.mean(logit_searcher.scores_[1], axis=0))\n",
        "plt.xlabel('C')\n",
        "plt.ylabel('Mean CV-accuracy');\n",
        "plt.xlim((0,10));"
      ],
      "execution_count": 0,
      "outputs": [
        {
          "output_type": "display_data",
          "data": {
            "image/png": "[encoded data removed]",
            "text/plain": [
              "<Figure size 432x288 with 1 Axes>"
            ]
          },
          "metadata": {
            "tags": [],
            "needs_background": "light"
          }
        }
      ]
    },
    {
      "cell_type": "markdown",
      "metadata": {
        "id": "XFEeP4vaUrFE",
        "colab_type": "text"
      },
      "source": [
        "## 5. Demo assignment\n",
        "To practice with linear models, you can complete [this assignment](https://www.kaggle.com/kashnitsky/a4-demo-sarcasm-detection-with-logit) where you'll build a sarcasm detection model. The assignment is just for you to practice, and goes with [solution](https://www.kaggle.com/kashnitsky/a4-demo-sarcasm-detection-with-logit-solution).\n",
        "\n",
        "## 6. Useful resources\n",
        "- Medium [\"story\"](https://medium.com/open-machine-learning-course/open-machine-learning-course-topic-4-linear-classification-and-regression-44a41b9b5220) based on this notebook\n",
        "- If you read Russian: an [article](https://habrahabr.ru/company/ods/blog/323890/) on Habr.com with ~ the same material. And a [lecture](https://youtu.be/oTXGQ-_oqvI) on YouTube\n",
        "- A nice and concise overview of linear models is given in the book [\"Deep Learning\"](http://www.deeplearningbook.org) (I. Goodfellow, Y. Bengio, and A. Courville).\n",
        "- Linear models are covered practically in every ML book. We recommend \"Pattern Recognition and Machine Learning\" (C. Bishop) and \"Machine Learning: A Probabilistic Perspective\" (K. Murphy).\n",
        "- If you prefer a thorough overview of linear model from a statistician's viewpoint, then look at \"The elements of statistical learning\" (T. Hastie, R. Tibshirani, and J. Friedman).\n",
        "- The book \"Machine Learning in Action\" (P. Harrington) will walk you through implementations of classic ML algorithms in pure Python.\n",
        "- [Scikit-learn](http://scikit-learn.org/stable/documentation.html) library. These guys work hard on writing really clear documentation.\n",
        "- Scipy 2017 [scikit-learn tutorial](https://github.com/amueller/scipy-2017-sklearn) by Alex Gramfort and Andreas Mueller.\n",
        "- One more [ML course](https://github.com/diefimov/MTH594_MachineLearning) with very good materials.\n",
        "- [Implementations](https://github.com/rushter/MLAlgorithms) of many ML algorithms. Search for linear regression and logistic regression."
      ]
    }
  ]
}