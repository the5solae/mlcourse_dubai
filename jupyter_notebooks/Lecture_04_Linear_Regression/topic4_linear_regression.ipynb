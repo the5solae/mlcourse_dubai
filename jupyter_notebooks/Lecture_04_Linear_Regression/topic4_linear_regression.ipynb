{
 "cells": [
  {
   "cell_type": "markdown",
   "metadata": {
    "colab_type": "text",
    "id": "view-in-github"
   },
   "source": [
    "<a href=\"https://colab.research.google.com/github/DmitriiDenisov/mlcourse_dubai/blob/master/jupyter_notebooks/Lecture_04_Linear_Regression/topic4_linear_regression.ipynb\" target=\"_parent\"><img src=\"https://colab.research.google.com/assets/colab-badge.svg\" alt=\"Open In Colab\"/></a>"
   ]
  },
  {
   "cell_type": "code",
   "execution_count": 53,
   "metadata": {
    "colab": {
     "base_uri": "https://localhost:8080/",
     "height": 17
    },
    "colab_type": "code",
    "id": "VJzVHkAnT-i6",
    "outputId": "2b0a1b06-90d1-4039-db9f-8181df41a934"
   },
   "outputs": [
    {
     "data": {
      "text/html": [
       "<style>.container { width:100% !important; }</style>"
      ],
      "text/plain": [
       "<IPython.core.display.HTML object>"
      ]
     },
     "metadata": {},
     "output_type": "display_data"
    }
   ],
   "source": [
    "from IPython.core.display import display, HTML\n",
    "display(HTML(\"<style>.container { width:100% !important; }</style>\"))"
   ]
  },
  {
   "cell_type": "markdown",
   "metadata": {
    "colab_type": "text",
    "id": "E_7owyw3E2IG"
   },
   "source": [
    "# <center>Topic 4. Linear Regression\n",
    "## <center> Part 1. Ordinary Least Squares\n",
    "\n",
    "\n",
    "## Article outline\n",
    "1. [Recap](#1.-Recap)\n",
    "2. [Introduction](#2.-Introduction)\n",
    "3. [Maximum Likelihood Estimation](#3.-Maximum-Likelihood-Estimation)\n",
    "4. [Bias-Variance Decomposition](#4.-Bias-Variance-Decomposition)\n",
    "5. [Regularization of Linear Regression](#5.-Regularization-of-Linear-Regression)\n",
    "6. [Practice](#6.Practice)\n",
    "7. [Practice.Lasso Regression](#7.Practice.Lasso-Regression)\n",
    "8. [Practice.Ridge Regression](#8.Practice.Ridge-Regression)\n",
    "9. [References](#9.-References)\n",
    "10. [Demo assignment](#10.-Demo-assignment)\n",
    "11. [Useful resources](#11.-Useful-resources)\n"
   ]
  },
  {
   "cell_type": "markdown",
   "metadata": {
    "colab_type": "text",
    "id": "bA51pV1sE2IH"
   },
   "source": [
    "## 1. Recap\n",
    "\n",
    "### 1.1 Dimentions:\n",
    "<img src=\"https://github.com/DmitriiDenisov/mlcourse_dubai/blob/master/img/dimentions.gif?raw=1\">\n",
    "\n",
    "### 1.2 Derivative:\n",
    "<img src=\"https://github.com/DmitriiDenisov/mlcourse_dubai/blob/master/img/derivative_1.gif?raw=1\">\n",
    "\n",
    "<img src=\"https://github.com/DmitriiDenisov/mlcourse_dubai/blob/master/img/corona_1.png?raw=1\" width=\"800\"/>\n",
    "<img src=\"https://github.com/DmitriiDenisov/mlcourse_dubai/blob/master/img/corona_2.png?raw=1\" width=\"800\"/>\n",
    "\n",
    "### 1.3 How to find min/max of a function?\n",
    "With the help of derivative!\n",
    "\n",
    "<img src=\"https://github.com/DmitriiDenisov/mlcourse_dubai/blob/master/img/min_max.png?raw=1\" width=\"800\"/>\n",
    "\n",
    "\n",
    "### 1.4 Maximum Likelyhood Estimation (MLE)\n",
    "Maximum likelihood estimation is a method that determines values for the parameters of a model. The parameter values are found such that they maximise the likelihood that the process described by the model produced the data that were actually observed.\n",
    "\n",
    "It seems reasonable that a good estimate of the unknown parameter $\\theta$ would be the value of $\\theta$ that maximizes the probability of getting the data we observed. (So, do you see from where the name \"maximum likelihood\" comes?) So, that is, in a nutshell, the idea behind the method of maximum likelihood estimation. \n",
    "\n",
    "But how would we implement the method in practice? Well, suppose we have a random sample $X_1, X_2,..., X_n$ for which the probability density (or mass) function of each $X_i$ is $f(x_i; \\theta)$. Then, the joint probability mass (or density) function of $X_1, X_2,..., X_n$, which we'll (not so arbitrarily) call $L(\\theta)$ is:\n",
    "\n",
    "$$\\Large L(\\theta)=P(X_1=x_1,X_2=x_2,…,X_n=x_n)=f(x_1; \\theta) \\cdot f(x_2;\\theta)... \\cdot f(x_n; \\theta)= \\prod_{i=1}^{\\infty}  f(x_i; \\theta)$$\n",
    " \n",
    "**Example**:\n",
    "Many people probably remember the formula of ethyl alcohol, so I decided to do an experiment to determine whether people remember a simpler formula for methanol: $CH_3OH$. We surveyed 400 people to find that only 117 people remembered the formula. Then, it is reasonable to assume that the probability that the next respondent knows the formula of methyl alcohol is $\\frac{117}{400} \\approx 29\\%$. Let's show that this intuitive assessment is not only good but also a maximum likelihood estimate. Where this estimate come from? Recall the definition of the Bernoulli distribution: a random variable has a <a href=\"https://en.wikipedia.org/wiki/Bernoulli_distribution\">Bernoulli distribution</a> if it takes only two values ($1$ and $0$ with probability $\\theta$ and $1 - \\theta$, respectively) and has the following probability distribution function:\n",
    "\n",
    "$$\\Large p\\left(\\theta, x\\right) = \\theta^x \\left(1 - \\theta\\right)^\\left(1 - x\\right), x \\in \\left\\{0, 1\\right\\}$$\n",
    "\n",
    "This distribution is exactly what we need, and the distribution parameter $\\theta$ is the estimate of the probability that a person knows the formula of methyl alcohol. In our $400$ *independent* experiments, let's denote their outcomes as $\\textbf{x} = \\left(x_1, x_2, \\ldots, x_{400}\\right)$. Let's write down the likelihood of our data (observations), i.e. the probability of observing exactly these 117 realizations of the random variable $x = 1$ and 283 realizations of $x = 0$:\n",
    "\n",
    "$$\\Large p(\\textbf{x}; \\theta) = \\prod_{i=1}^{400} \\theta^{x_i} \\left(1 - \\theta\\right)^{\\left(1 - x_i\\right)} = \\theta^{117} \\left(1 - \\theta\\right)^{283}$$\n",
    "\n",
    "Next, we will maximize the expression with respect to $\\theta$. Most often this is not done with the likelihood $p(\\textbf{x}; \\theta)$ but with its logarithm (the monotonic transformation does not change the solution but simplifies calculation greatly):\n",
    "\n",
    "$$\\Large \\log p(\\textbf{x}; \\theta) = \\log \\prod_{i=1}^{400} \\theta^{x_i} \\left(1 - \\theta\\right)^{\\left(1 - x_i\\right)} = $$\n",
    "$$ \\large = \\log \\theta^{117} \\left(1 - \\theta\\right)^{283} =  117 \\log \\theta + 283 \\log \\left(1 - \\theta\\right)$$\n",
    "\n",
    "Now, we want to find such a value of $\\theta$ that will maximize the likelihood. For this purpose, we'll take the derivative with respect to $\\theta$, set it to zero, and solve the resulting equation:\n",
    "\n",
    "$$\\Large  \\frac{\\partial \\log p(\\textbf{x}; \\theta)}{\\partial \\theta} = \\frac{\\partial}{\\partial \\theta} \\left(117 \\log \\theta + 283 \\log \\left(1 - \\theta\\right)\\right) = \\frac{117}{\\theta} - \\frac{283}{1 - \\theta};$$\n",
    "\n",
    "Now let's find such $\\theta$ that the equation above is equal to zero:\n",
    "\n",
    "$$ \\Large \\frac{117}{\\theta} - \\frac{283}{1 - \\theta} = 0 \\Leftrightarrow  \\frac{117}{\\theta} = \\frac{283}{1 - \\theta} \\Leftrightarrow 117(1-\\theta) = 283 \\theta \\Leftrightarrow \\theta = \\frac{117}{400}$$\n",
    "\n",
    "\n",
    "It turns out that our intuitive assessment is exactly the maximum likelihood estimate. Now let us apply the same reasoning to the linear regression problem and try to find out what lies beyond the mean squared error. To do this, we'll need to look at linear regression from a probabilistic perspective. \n",
    " \n",
    "\n",
    "### 1.5 What is Expected value and Variance?\n",
    "Definition of expected value: \n",
    "\n",
    "$$\\large E[X] = \\sum_{i=0}^N x_i \\cdot p(x_i) $$\n",
    "\n",
    "Another informal way to think of the expectation of a random variable is to notice that it gives a measure of the center of the associated distribution.\n",
    "\n",
    "$$\\large Var[X] = E[(X-E[X])^2] = \\sum_{i=0}^N (x_i-E[X])^2 \\cdot p(x_i) $$\n",
    "In other words Variance is a measurement of the spread between numbers in a data set\n",
    "\n",
    "#### Example-1, fair coint: \n",
    "Suppose we play a game: I flip a coin and if it is Heads then I pay you 10\\\\$ and if it is Tails then I pay you 100\\\\$\n",
    "\n",
    "| 10 \\$ (Heads) | 100 \\$ (Tails) |\n",
    "| --- | --- |\n",
    "| 0.5 | 0.5 |\n",
    "\n",
    "Then $E[X] = 0.5 \\cdot 10 + 0.5 \\cdot 100 = 55\\$ $\n",
    "\n",
    "$Var[X] = (10-55)^2 \\cdot 0.5 + (100-55)^2 \\cdot 0.5 = 2025\\$ $\n",
    "\n",
    "#### Example-2, unfair coint: \n",
    "\n",
    "| 10 \\$ (Heads) | 100 \\$ (Tails) |\n",
    "| --- | --- |\n",
    "| 0.9 | 0.1 |\n",
    "\n",
    "Then $E[X] = 0.9 \\cdot 10 + 0.1 \\cdot 100 = 19\\$ $\n",
    "\n",
    "$Var[X] = (10-19)^2 \\cdot 0.9 + (100-19)^2 \\cdot 0.1 = 729 \\$ $\n",
    "\n",
    "#### Properties of Expected Value and Variance:\n",
    "$$\\Large E[c] = c$$\n",
    "\n",
    " $$\\Large E[X+Y] = E[X] + E[Y]$$\n",
    "\n",
    " $$\\Large E[cX] = cE[X]$$\n",
    "\n",
    " $$\\Large Var[X] = E[X^2] - E[X]^2$$"
   ]
  },
  {
   "cell_type": "markdown",
   "metadata": {
    "colab_type": "text",
    "id": "yes5nLiIE2II"
   },
   "source": [
    "## 2. Introduction \n",
    "We will start studying linear models with linear regression. First of all, you must specify a model that relates the dependent variable $y$ to the explanatory factors (or features); for linear models, the dependency function will take the following form: $\\large y = w_0 + \\sum_{i=1}^m w_i x_i$, where $m$ is the number of features. If we add a fictitious dimension $x_0 = 1$ (called _bias_ or _intercept_ term) for each observation, then the linear form can be rewritten in a slightly more compact way by pulling the absolute term $w_0$ into the sum: $\\large y = \\sum_{i=0}^m w_i x_i = \\textbf{w}^\\text{T} \\textbf{x}$. If we have a matrix of $n$ observations, where the rows are observations from a data set, we need to add a single column of ones on the left. We define the model as follows:\n",
    "\n",
    "$$\\large \\textbf y = \\textbf X \\textbf w + \\epsilon,$$\n",
    "\n",
    "where\n",
    "\n",
    "- $\\textbf w \\in \\mathbb{R}^{m+1}$ – is a $(m+1) \\times 1$ column-vector of the model parameters (in machine learning, these parameters are often referred to as *weights*);\n",
    "- $\\textbf X \\in \\mathbb{R}^{n \\times (m+1)}$ – is a $n \\times (m+1)$ matrix of observations and their features, (including the fictitious column on the left) with full column [rank](https://en.wikipedia.org/wiki/Rank_(linear_algebra)):  $\\text{rank}\\left(\\textbf X\\right) = m + 1 $;\n",
    "- $\\epsilon \\in \\mathbb{R}^n$ – is a $n \\times 1$ random column-vector, referred to as *error* or *noise*;\n",
    "- $\\textbf y \\in \\mathbb{R}^n$ – is a $n \\times 1$ column-vector - the dependent (or *target*) variable.\n",
    "\n",
    "We can also write this expression out for each observation\n",
    "\n",
    "$$\\large y_i = \\sum_{j=0}^m w_j X_{ij} + \\epsilon_i$$\n",
    "\n",
    "Will apply the following restrictions to the set of random errors $\\epsilon_i$ (see [Gauss-Markov](https://en.wikipedia.org/wiki/Gauss%E2%80%93Markov_theorem) theorem for deeper statistical motivation):\n",
    "\n",
    "- expectation of all random errors is zero:  $\\forall i: \\mathbb{E}\\left[\\epsilon_i\\right] = 0 $;\n",
    "- all random errors have the same finite variance, this property is called <a href=\"https://en.wikipedia.org/wiki/Homoscedasticity\">homoscedasticity</a>:  $\\forall i: \\text{Var}\\left(\\epsilon_i\\right) = \\sigma^2 < \\infty $;\n",
    "- random errors are uncorrelated:  $\\forall i \\neq j: \\text{Cov}\\left(\\epsilon_i, \\epsilon_j\\right) = 0 $.\n",
    "\n",
    "**Disclaimer:** at this point, it's time to say that we don't plan to squeeze a whole statistics course into one article, so we try to provide the general idea of the math behind OLS."
   ]
  },
  {
   "cell_type": "markdown",
   "metadata": {
    "colab_type": "text",
    "id": "smvIul9IE2IJ"
   },
   "source": [
    "<img src=\"https://github.com/DmitriiDenisov/mlcourse_dubai/blob/master/img/LR_1.jpg?raw=1\" width=\"800\"/>\n",
    "<img src=\"https://github.com/DmitriiDenisov/mlcourse_dubai/blob/master/img/LR_2.png?raw=1\" width=\"800\"/>\n",
    "<img src=\"https://github.com/DmitriiDenisov/mlcourse_dubai/blob/master/img/LR_5.png?raw=1\" width=\"800\"/>\n",
    "\n",
    "But how are we going to build this line/plane?\n",
    "\n",
    "<img src=\"https://github.com/DmitriiDenisov/mlcourse_dubai/blob/master/img/LR_3.png?raw=1\" width=\"800\"/>"
   ]
  },
  {
   "cell_type": "markdown",
   "metadata": {
    "colab_type": "text",
    "id": "U3X0UCvHE2IJ"
   },
   "source": [
    "One of the ways to calculate those weights is with the ordinary least squares method (OLS), which minimizes the mean squared error between the actual value of the dependent variable and the predicted value given by the model:\n",
    "\n",
    "$$ \\Large \\begin{array}{rcl} MSE = \\mathcal{L}\\left(\\textbf X, \\textbf{y}, \\textbf{w} \\right) &=& \\frac{1}{2n} \\sum_{i=1}^n \\left(y_i - \\textbf{w}^\\text{T} \\textbf{x}_i\\right)^2 \\\\\n",
    "&=& \\frac{1}{2n} \\left\\| \\textbf{y} - \\textbf X \\textbf{w} \\right\\|_2^2 \\\\\n",
    "&=& \\frac{1}{2n} \\left(\\textbf{y} - \\textbf X \\textbf{w}\\right)^\\text{T} \\left(\\textbf{y} - \\textbf X \\textbf{w}\\right)\n",
    "\\end{array}$$\n",
    "\n",
    "\n",
    "Where $\\left\\| x \\right\\|_2$ <a href=\"https://en.wikipedia.org/wiki/Norm_(mathematics)#Euclidean_norm\">Eucledian Norm of vector</a> x\n"
   ]
  },
  {
   "cell_type": "markdown",
   "metadata": {
    "colab_type": "text",
    "id": "xOA0BrvOE2IK"
   },
   "source": [
    "Interaction for OLS: https://seeing-theory.brown.edu/regression-analysis/index.html"
   ]
  },
  {
   "cell_type": "markdown",
   "metadata": {
    "colab_type": "text",
    "id": "anitcXvpE2II"
   },
   "source": [
    " \n",
    "### What is training? \n",
    "\n",
    "When we do\n",
    "```python\n",
    "from sklearn.tree import DecisionTreeClassifier \n",
    "DecisionTreeClassifier().fit(X_train, y_train)\n",
    "```\n",
    "then we are building a Decision Tree, i.e solving an optimization problem\n",
    "\n",
    "When we do\n",
    "```python\n",
    "from sklearn.linear_model import LinearRegression\n",
    "LinearRegression().fit(X_train, y_train)\n",
    "```\n",
    "then we are looking for coefficients $w_0, w_1, ..., w_m$, i.e solving an optimization problem\n",
    "\n",
    "When you train deep Neural Network which will detect faces of people on streets you are solving an optimization problem\n",
    "\n",
    "### Conclusion: training = solving an optimization problem\n"
   ]
  },
  {
   "cell_type": "markdown",
   "metadata": {
    "colab_type": "text",
    "id": "GLZD5j_2E2IL"
   },
   "source": [
    "To solve this optimization problem, we need to calculate derivatives with respect to the model parameters. We set them to zero and solve the resulting equation for $\\textbf w$ (matrix differentiation may seem difficult; try to do it in terms of sums to be sure of the answer).\n",
    "\n",
    "\n",
    "<br>\n",
    "<details>\n",
    "<summary>Small CheatSheet on matrix derivatives (click the triangle to extend)</summary>\n",
    "<p>\n",
    "$$\\large \\begin{array}{rcl} \n",
    "\\frac{\\partial}{\\partial \\textbf{X}} \\textbf{X}^{\\text{T}} \\textbf{A} &=& \\textbf{A} \\\\\n",
    "\\frac{\\partial}{\\partial \\textbf{X}} \\textbf{X}^{\\text{T}} \\textbf{A} \\textbf{X} &=& \\left(\\textbf{A} + \\textbf{A}^{\\text{T}}\\right)\\textbf{X} \\\\\n",
    "\\frac{\\partial}{\\partial \\textbf{A}} \\textbf{X}^{\\text{T}} \\textbf{A} \\textbf{y} &=&  \\textbf{X}^{\\text{T}} \\textbf{y}\\\\\n",
    "\\frac{\\partial}{\\partial \\textbf{X}} \\textbf{A}^{-1} &=& -\\textbf{A}^{-1} \\frac{\\partial \\textbf{A}}{\\partial \\textbf{X}} \\textbf{A}^{-1} \n",
    "\\end{array}$$\n",
    "</p>\n",
    "</details>\n",
    "\n",
    "\n",
    "What we get is:\n",
    "\n",
    "$$\\Large \\begin{array}{rcl} \\frac{\\partial \\mathcal{L}}{\\partial \\textbf{w}} &=& \\frac{\\partial}{\\partial \\textbf{w}} \\frac{1}{2n} \\left( \\textbf{y}^{\\text{T}} \\textbf{y} -2\\textbf{y}^{\\text{T}} \\textbf{X} \\textbf{w} + \\textbf{w}^{\\text{T}} \\textbf{X}^{\\text{T}} \\textbf{X} \\textbf{w}\\right) \\\\\n",
    "&=& \\frac{1}{2n} \\left(-2 \\textbf{X}^{\\text{T}} \\textbf{y} + 2\\textbf{X}^{\\text{T}} \\textbf{X} \\textbf{w}\\right)\n",
    "\\end{array}$$\n",
    "\n",
    "$$\\Large \\begin{array}{rcl} \\frac{\\partial \\mathcal{L}}{\\partial \\textbf{w}} = 0 &\\Leftrightarrow& \\frac{1}{2n} \\left(-2 \\textbf{X}^{\\text{T}} \\textbf{y} + 2\\textbf{X}^{\\text{T}} \\textbf{X} \\textbf{w}\\right) = 0 \\\\\n",
    "&\\Leftrightarrow& -\\textbf{X}^{\\text{T}} \\textbf{y} + \\textbf{X}^{\\text{T}} \\textbf{X} \\textbf{w} = 0 \\\\\n",
    "&\\Leftrightarrow& \\textbf{X}^{\\text{T}} \\textbf{X} \\textbf{w} = \\textbf{X}^{\\text{T}} \\textbf{y} \\\\\n",
    "&\\Leftrightarrow& \\textbf{w} = \\left(\\textbf{X}^{\\text{T}} \\textbf{X}\\right)^{-1} \\textbf{X}^{\\text{T}} \\textbf{y}\n",
    "\\end{array}$$\n",
    "\n",
    "Bearing in mind all the definitions and conditions described above, we can say that, based on the <a href=\"https://en.wikipedia.org/wiki/Gauss–Markov_theorem\">Gauss–Markov theorem</a>, OLS estimators of the model parameters are optimal among all linear and unbiased estimators, i.e. they give the lowest variance."
   ]
  },
  {
   "cell_type": "markdown",
   "metadata": {
    "colab_type": "text",
    "id": "x95xxkY9E2IL"
   },
   "source": [
    "## 3. Maximum Likelihood Estimation\n",
    "\n",
    "One could ask why we choose to minimize the mean square error instead of something else? After all, one can minimize the mean absolute value of the residual. The only thing that will happen, if we change the minimized value, is that we will exceed the Gauss-Markov theorem conditions, and our estimates will therefore cease to be the optimal over the linear and unbiased ones.\n",
    "\n",
    "Our model naturally remains the same:\n",
    "\n",
    "$$\\Large \\textbf y = \\textbf X \\textbf w + \\epsilon,$$\n",
    "\n",
    "but let us now assume that the random errors follow a centered [Normal distribution](https://en.wikipedia.org/wiki/Normal_distribution) (beware, it's an additional assumption, it's not a prerequisite of a Gauss-Markov theorem):\n",
    "\n",
    "<img src=\"https://github.com/DmitriiDenisov/mlcourse_dubai/blob/master/img/Galton_Board.gif?raw=1\" width=\"800\"/>"
   ]
  },
  {
   "cell_type": "markdown",
   "metadata": {
    "colab_type": "text",
    "id": "9g7sSKjIE2IM"
   },
   "source": [
    "$$\\Large \\epsilon_i \\sim \\mathcal{N}\\left(0, \\sigma^2\\right)$$\n",
    "\n",
    "Let's rewrite the model from a new perspective:\n",
    "\n",
    "$$\\Large \\begin{array}{rcl} \n",
    "y_i &=& \\sum_{j=1}^m w_j X_{ij} + \\epsilon_i \\\\\n",
    "&\\sim& \\sum_{j=1}^m w_j X_{ij} + \\mathcal{N}\\left(0, \\sigma^2\\right) \\\\\n",
    "p\\left(y_i \\mid \\textbf X; \\textbf{w}\\right) &=& \\mathcal{N}\\left(\\sum_{j=1}^m w_j X_{ij}, \\sigma^2\\right)\n",
    "\\end{array}$$\n",
    "\n",
    "Since the examples are taken independently (uncorrelated errors is one of the conditions of the Gauss-Markov theorem), the full likelihood of the data will look like a product of the density functions $p\\left(y_i\\right)$. Let's consider the log-likelihood, which allows us to switch products to sums:\n",
    "\n",
    "$$\\Large \\begin{array}{rcl} \n",
    "\\log p\\left(\\textbf{y}\\mid \\textbf X; \\textbf{w}\\right) &=& \\log \\prod_{i=1}^n \\mathcal{N}\\left(\\sum_{j=1}^m w_j X_{ij}, \\sigma^2\\right) \\\\\n",
    "&=& \\sum_{i=1}^n \\log \\mathcal{N}\\left(\\sum_{j=1}^m w_j X_{ij}, \\sigma^2\\right) \\\\\n",
    "&=& -\\frac{n}{2}\\log 2\\pi\\sigma^2 -\\frac{1}{2\\sigma^2} \\sum_{i=1}^n \\left(y_i - \\textbf{w}^\\text{T} \\textbf{x}_i\\right)^2\n",
    "\\end{array}$$\n",
    "\n",
    "We want to find the maximum likelihood hypothesis i.e. we need to maximize the expression $p\\left(\\textbf{y} \\mid \\textbf X; \\textbf{w}\\right)$ to get $\\textbf{w}_{\\text{ML}}$, which is the same as maximizing its logarithm. Note that, while maximizing the function over some parameter, you can throw away all the members that do not depend on this parameter:\n",
    "\n",
    "$$\\Large \\begin{array}{rcl} \n",
    "\\textbf{w}_{\\text{ML}} &=& \\arg \\max_{\\textbf w} p\\left(\\textbf{y}\\mid \\textbf X; \\textbf{w}\\right) = \\arg \\max_{\\textbf w} \\log p\\left(\\textbf{y}\\mid \\textbf X; \\textbf{w}\\right)\\\\\n",
    "&=& \\arg \\max_{\\textbf w} -\\frac{n}{2}\\log 2\\pi\\sigma^2 -\\frac{1}{2\\sigma^2} \\sum_{i=1}^n \\left(y_i - \\textbf{w}^{\\text{T}} \\textbf{x}_i\\right)^2 \\\\\n",
    "&=& \\arg \\max_{\\textbf w} -\\frac{1}{2\\sigma^2} \\sum_{i=1}^n \\left(y_i - \\textbf{w}^{\\text{T}} \\textbf{x}_i\\right)^2 \\\\\n",
    "&=&  \\arg \\min_{\\textbf w} \\mathcal{L}\\left(\\textbf X, \\textbf{y}, \\textbf{w} \\right)\n",
    "\\end{array}$$\n",
    "\n",
    "Thus, we have seen that the maximization of the likelihood of data is the same as the minimization of the mean squared error (given the above assumptions). It turns out that such a cost function is a consequence of the fact that the errors are distributed normally.\n"
   ]
  },
  {
   "cell_type": "markdown",
   "metadata": {
    "colab_type": "text",
    "id": "I0swpsmiE2IM"
   },
   "source": [
    "## 4. Bias-Variance Decomposition\n",
    "\n",
    "Let's talk a little about the error properties of linear regression prediction (in fact, this discussion is valid for all machine learning algorithms). We just covered the following:\n",
    "\n",
    "- true value of the target variable is the sum of a deterministic function $f\\left(\\textbf{x}\\right)$ and random error $\\epsilon$: $y = f\\left(\\textbf{x}\\right) + \\epsilon$;\n",
    "- error is normally distributed with zero mean and some variance: $\\epsilon \\sim \\mathcal{N}\\left(0, \\sigma^2\\right)$;\n",
    "- true value of the target variable is also normally distributed: $y \\sim \\mathcal{N}\\left(f\\left(\\textbf{x}\\right), \\sigma^2\\right)$;\n",
    "- we try to approximate a deterministic but unknown function $f\\left(\\textbf{x}\\right)$ using a linear function of the covariates $\\widehat{f}\\left(\\textbf{x}\\right)$, which, in turn, is a point estimate of the function $f$ in function space (specifically, the family of linear functions that we have limited our space to), i.e. a random variable that has mean and variance.\n",
    "\n",
    "So, the error at the point $\\textbf{x}$ decomposes as follows:\n",
    "\n",
    "$$\\Large \\begin{array}{rcl} \n",
    "\\text{Err}\\left(\\textbf{x}\\right) &=& \\mathbb{E}\\left[\\left(y - \\widehat{f}\\left(\\textbf{x}\\right)\\right)^2\\right] \\\\\n",
    "&=& \\mathbb{E}\\left[y^2\\right] + \\mathbb{E}\\left[\\left(\\widehat{f}\\left(\\textbf{x}\\right)\\right)^2\\right] - 2\\mathbb{E}\\left[y\\widehat{f}\\left(\\textbf{x}\\right)\\right] \\\\\n",
    "&=& \\mathbb{E}\\left[y^2\\right] + \\mathbb{E}\\left[\\widehat{f}^2\\right] - 2\\mathbb{E}\\left[y\\widehat{f}\\right] \\\\\n",
    "\\end{array}$$\n",
    "\n",
    "For clarity, we will omit the notation of the argument of the functions. Let's consider each member separately. The first two are easily decomposed according to the formula $\\text{Var}\\left(z\\right) = \\mathbb{E}\\left[z^2\\right] - \\mathbb{E}\\left[z\\right]^2$:\n",
    "\n",
    "$$\\Large \\begin{array}{rcl} \n",
    "\\mathbb{E}\\left[y^2\\right] &=& \\text{Var}\\left(y\\right) + \\mathbb{E}\\left[y\\right]^2 = \\sigma^2 + f^2\\\\\n",
    "\\mathbb{E}\\left[\\widehat{f}^2\\right] &=& \\text{Var}\\left(\\widehat{f}\\right) + \\mathbb{E}\\left[\\widehat{f}\\right]^2 \\\\\n",
    "\\end{array}$$\n",
    "\n",
    "\n",
    "\n",
    "<br>\n",
    "<details>\n",
    "<summary>Explanation for $Var(y)$ and $E[y]$</summary>\n",
    "<p>\n",
    "    \n",
    "\n",
    "$$\\Large \\begin{array}{rcl} \n",
    "\\text{Var}\\left(y\\right) &=& \\text{Var}(f+\\epsilon) = \\text{Var}(f) + \\text{Var}(\\epsilon) = 0 + \\sigma^2 = \\sigma^2\n",
    "\\end{array}$$\n",
    "\n",
    "$$\\Large \\mathbb{E}[y] = \\mathbb{E}[f + \\epsilon] = \\mathbb{E}[f] + \\mathbb{E}[\\epsilon] = f + 0 = f$$\n",
    "</p>\n",
    "</details>\n",
    "\n",
    "And finally, we get to the last term in the sum. Recall that the error and the target variable are independent of each other:\n",
    "\n",
    "$$\\Large \\begin{array}{rcl} \n",
    "\\mathbb{E}\\left[y\\widehat{f}\\right] &=& \\mathbb{E}\\left[\\left(f + \\epsilon\\right)\\widehat{f}\\right] \\\\\n",
    "&=& \\mathbb{E}\\left[f\\widehat{f}\\right] + \\mathbb{E}\\left[\\epsilon\\widehat{f}\\right] \\\\\n",
    "&=& f\\mathbb{E}\\left[\\widehat{f}\\right] + \\mathbb{E}\\left[\\epsilon\\right] \\mathbb{E}\\left[\\widehat{f}\\right]  = f\\mathbb{E}\\left[\\widehat{f}\\right]\n",
    "\\end{array}$$\n",
    "\n",
    "Finally, let's bring this all together:\n",
    "\n",
    "$$\\Large \\begin{array}{rcl} \n",
    "\\text{Err}\\left(\\textbf{x}\\right) &=& \\mathbb{E}\\left[\\left(y - \\widehat{f}\\left(\\textbf{x}\\right)\\right)^2\\right] \\\\\n",
    "&=& \\sigma^2 + f^2 + \\text{Var}\\left(\\widehat{f}\\right) + \\mathbb{E}\\left[\\widehat{f}\\right]^2 - 2f\\mathbb{E}\\left[\\widehat{f}\\right] \\\\\n",
    "&=& \\left(f - \\mathbb{E}\\left[\\widehat{f}\\right]\\right)^2 + \\text{Var}\\left(\\widehat{f}\\right) + \\sigma^2 \\\\\n",
    "&=& \\text{Bias}\\left(\\widehat{f}\\right)^2 + \\text{Var}\\left(\\widehat{f}\\right) + \\sigma^2\n",
    "\\end{array}$$\n",
    "\n",
    "With that, we have reached our ultimate goal -- the last formula tells us that the forecast error of any model of type $y = f\\left(\\textbf{x}\\right) + \\epsilon$ is composed of:\n",
    "\n",
    "- squared bias: $\\text{Bias}\\left(\\widehat{f}\\right)$ is the average error for all sets of data;\n",
    "- variance: $\\text{Var}\\left(\\widehat{f}\\right)$ is error variability, or by how much error will vary if we train the model on different sets of data;\n",
    "- irremovable error: $\\sigma^2$.\n",
    "\n",
    "While we cannot do anything with the $\\sigma^2$ term, we can influence the first two. Ideally, we'd like to negate both of these terms (upper left square of the picture), but, in practice, it is often necessary to balance between the biased and unstable estimates (high variance).\n",
    "\n",
    "<img src=\"https://github.com/DmitriiDenisov/mlcourse_dubai/blob/master/img/bvtf.png?raw=1\" width=\"480\">\n",
    "\n",
    "Generally, as the model becomes more computational (e.g. when the number of free parameters grows), the variance (dispersion) of the estimate also increases, but bias decreases. Due to the fact that the training set is memorized completely instead of generalizing, small changes lead to unexpected results (overfitting). On the other side, if the model is too weak, it will not be able to learn the pattern, resulting in learning something different that is offset with respect to the right solution.\n",
    "\n",
    "<img src=\"https://github.com/DmitriiDenisov/mlcourse_dubai/blob/master/img/biasvariance.png?raw=1\" width=\"480\">\n",
    "\n",
    "The Gauss-Markov theorem asserts that the OLS estimator of parameters of the linear model is the best for the class of linear unbiased estimator. This means that if there exists any other unbiased model $g$, from the same class of linear models, we can be sure that $Var\\left(\\widehat{f}\\right) \\leq Var\\left(g\\right)$."
   ]
  },
  {
   "cell_type": "markdown",
   "metadata": {
    "colab_type": "text",
    "id": "x4wdAt4qE2IN"
   },
   "source": [
    "## 5. Regularization of Linear Regression \n",
    "\n",
    "There are situations where we might intentionally increase the bias of the model for the sake of stability i.e. to reduce the variance of the model $\\text{Var}\\left(\\widehat{f}\\right)$. One of the conditions of the Gauss-Markov theorem is the full column rank of matrix $\\textbf{X}$. Otherwise, the OLS solution $\\textbf{w} = \\left(\\textbf{X}^\\text{T} \\textbf{X}\\right)^{-1} \\textbf{X}^\\text{T} \\textbf{y}$ does not exist since the inverse matrix $\\left(\\textbf{X}^\\text{T} \\textbf{X}\\right)^{-1}$ does not exist. In other words, matrix $\\textbf{X}^\\text{T} \\textbf{X}$ will be singular or degenerate. This problem is called an <a href=\"https://en.wikipedia.org/wiki/Well-posed_problem\"> ill-posed problem</a>. Problems like this must be corrected, namely, matrix $\\textbf{X}^\\text{T} \\textbf{X}$ needs to become non-degenerate, or regular (which is why this process is called regularization). Often we observe the so-called multicollinearity in the data: when two or more features are strongly correlated, it is manifested in the matrix $\\textbf{X}$ in the form of \"almost\" linear dependence between the columns. For example, in the problem of predicting house prices by their parameters, attributes \"area with balcony\" and \"area without balcony\" will have an \"almost\" linear relationship. Formally, matrix $\\textbf{X}^\\text{T} \\textbf{X}$ for such data is reversible, but, due to multicollinearity, some of its eigenvalues will be close to zero. In the inverse matrix $\\textbf{X}^\\text{T} \\textbf{X}$, some extremely large eigenvalues will appear, as eigenvalues of the inverse matrix are $\\frac{1}{\\lambda_i}$. The result of this vacillation of eigenvalues is an unstable estimate of model parameters, i.e. adding a new set of observations to the training data will lead to a completely different solution. \n",
    "One method of regularization is <a href=\"https://towardsdatascience.com/intuitions-on-l1-and-l2-regularisation-235f2db4c261#f810\">L2 regularization</a> (and the regression is Rigde Regression), which generally looks like the addition of a new member to the mean squared error:\n",
    "\n",
    "$$\\Large \\begin{array}{rcl} \n",
    "\\mathcal{L}\\left(\\textbf{X}, \\textbf{y}, \\textbf{w} \\right) &=& \\frac{1}{2n} \\left\\| \\textbf{y} - \\textbf{X} \\textbf{w} \\right\\|_2^2 + \\lambda \\left\\| \\textbf{w}\\right\\|^2_2\\\\\n",
    "\\end{array}$$ where $$ \\left\\| \\textbf{w} \\right\\|^2_2 = w_1^2+w_2^2+...w_n^2$$\n",
    "\n",
    "In this case, the problem of minimizing the mean squared error becomes a problem with a restriction on the $L_2$ norm. If we differentiate the new cost function with respect to the model parameters, set the resulting function to zero, and rearrange for  $\\textbf{w}$, we get the exact solution of the problem.\n",
    "\n",
    "$$\\Large \\begin{array}{rcl} \n",
    "\\textbf{w} &=& \\left(\\textbf{X}^{\\text{T}} \\textbf{X} + \\lambda \\textbf{E}\\right)^{-1} \\textbf{X}^{\\text{T}} \\textbf{y}\n",
    "\\end{array}$$\n",
    "\n",
    "This type of regression is called ridge regression. The ridge is the diagonal matrix that we add to the $\\textbf{X}^\\text{T} \\textbf{X}$ matrix to ensure that we get a regular matrix as a result.\n",
    "\n",
    "<img src=\"https://github.com/DmitriiDenisov/mlcourse_dubai/blob/master/img/ridge.png?raw=1\">\n",
    "\n",
    "Such a solution reduces dispersion but becomes biased because the norm of the vector of parameters is also minimized, which makes the solution shift towards zero. On the figure below, the OLS solution is at the intersection of the white dotted lines. Blue dots represent different solutions of ridge regression. It can be seen that by increasing the regularization parameter $\\lambda$, we shift the solution towards zero.\n",
    "\n",
    "\n",
    "<img src=\"https://github.com/DmitriiDenisov/mlcourse_dubai/blob/master/img/l2.png?raw=1\">\n",
    "\n",
    "\n",
    "Also another famous technique for regularization is L1 regularization and Lasso Regression:\n",
    "$$\\Large \\begin{array}{rcl} \n",
    "\\mathcal{L}\\left(\\textbf{X}, \\textbf{y}, \\textbf{w} \\right) &=& \\frac{1}{2n} \\left\\| \\textbf{y} - \\textbf{X} \\textbf{w} \\right\\|_2^2 + \\lambda \\left\\| \\textbf{w}\\right\\|^2_1\\\\\n",
    "\\end{array}$$ where $$ \\left\\| \\textbf{w} \\right\\|_1 = |w_1|+|w_2|+...|w_n|$$\n"
   ]
  },
  {
   "cell_type": "markdown",
   "metadata": {
    "colab_type": "text",
    "id": "XCdFAFc3E2IN"
   },
   "source": [
    "## 6.Practice"
   ]
  },
  {
   "cell_type": "code",
   "execution_count": 54,
   "metadata": {
    "colab": {},
    "colab_type": "code",
    "id": "OsoFS1csE2IO"
   },
   "outputs": [],
   "source": [
    "import numpy as np\n",
    "import pandas as pd\n",
    "\n",
    "from matplotlib import pyplot as plt\n",
    "%config InlineBackend.figure_format = 'retina'\n",
    "import seaborn as sns; sns.set() # just to use the seaborn theme\n",
    "\n",
    "\n",
    "from sklearn.datasets import load_boston\n",
    "from sklearn.linear_model import LassoCV, RidgeCV, Lasso, Ridge\n",
    "from sklearn.model_selection import cross_val_score, KFold"
   ]
  },
  {
   "cell_type": "markdown",
   "metadata": {
    "colab_type": "text",
    "id": "_hjZd2lTE2IR"
   },
   "source": [
    "**We will work with Boston house prices data (UCI repository). Download the data.**"
   ]
  },
  {
   "cell_type": "code",
   "execution_count": 55,
   "metadata": {
    "colab": {},
    "colab_type": "code",
    "id": "TeDKaD9xE2IS"
   },
   "outputs": [],
   "source": [
    "boston = load_boston()\n",
    "X, y = boston['data'], boston['target']"
   ]
  },
  {
   "cell_type": "code",
   "execution_count": 38,
   "metadata": {
    "colab": {},
    "colab_type": "code",
    "id": "N4jsZf2NE2IU",
    "outputId": "95bc4172-8f66-4572-dbb1-97ff91364463"
   },
   "outputs": [
    {
     "name": "stdout",
     "output_type": "stream",
     "text": [
      ".. _boston_dataset:\n",
      "\n",
      "Boston house prices dataset\n",
      "---------------------------\n",
      "\n",
      "**Data Set Characteristics:**  \n",
      "\n",
      "    :Number of Instances: 506 \n",
      "\n",
      "    :Number of Attributes: 13 numeric/categorical predictive. Median Value (attribute 14) is usually the target.\n",
      "\n",
      "    :Attribute Information (in order):\n",
      "        - CRIM     per capita crime rate by town\n",
      "        - ZN       proportion of residential land zoned for lots over 25,000 sq.ft.\n",
      "        - INDUS    proportion of non-retail business acres per town\n",
      "        - CHAS     Charles River dummy variable (= 1 if tract bounds river; 0 otherwise)\n",
      "        - NOX      nitric oxides concentration (parts per 10 million)\n",
      "        - RM       average number of rooms per dwelling\n",
      "        - AGE      proportion of owner-occupied units built prior to 1940\n",
      "        - DIS      weighted distances to five Boston employment centres\n",
      "        - RAD      index of accessibility to radial highways\n",
      "        - TAX      full-value property-tax rate per $10,000\n",
      "        - PTRATIO  pupil-teacher ratio by town\n",
      "        - B        1000(Bk - 0.63)^2 where Bk is the proportion of blacks by town\n",
      "        - LSTAT    % lower status of the population\n",
      "        - MEDV     Median value of owner-occupied homes in $1000's\n",
      "\n",
      "    :Missing Attribute Values: None\n",
      "\n",
      "    :Creator: Harrison, D. and Rubinfeld, D.L.\n",
      "\n",
      "This is a copy of UCI ML housing dataset.\n",
      "https://archive.ics.uci.edu/ml/machine-learning-databases/housing/\n",
      "\n",
      "\n",
      "This dataset was taken from the StatLib library which is maintained at Carnegie Mellon University.\n",
      "\n",
      "The Boston house-price data of Harrison, D. and Rubinfeld, D.L. 'Hedonic\n",
      "prices and the demand for clean air', J. Environ. Economics & Management,\n",
      "vol.5, 81-102, 1978.   Used in Belsley, Kuh & Welsch, 'Regression diagnostics\n",
      "...', Wiley, 1980.   N.B. Various transformations are used in the table on\n",
      "pages 244-261 of the latter.\n",
      "\n",
      "The Boston house-price data has been used in many machine learning papers that address regression\n",
      "problems.   \n",
      "     \n",
      ".. topic:: References\n",
      "\n",
      "   - Belsley, Kuh & Welsch, 'Regression diagnostics: Identifying Influential Data and Sources of Collinearity', Wiley, 1980. 244-261.\n",
      "   - Quinlan,R. (1993). Combining Instance-Based and Model-Based Learning. In Proceedings on the Tenth International Conference of Machine Learning, 236-243, University of Massachusetts, Amherst. Morgan Kaufmann.\n",
      "\n"
     ]
    }
   ],
   "source": [
    "print(boston.DESCR)"
   ]
  },
  {
   "cell_type": "code",
   "execution_count": 8,
   "metadata": {
    "colab": {},
    "colab_type": "code",
    "id": "_Ihm_WNjE2IY",
    "outputId": "f4f5e511-28b6-48ef-a9d5-c911c3f2dccd"
   },
   "outputs": [
    {
     "data": {
      "text/html": [
       "<div>\n",
       "<style scoped>\n",
       "    .dataframe tbody tr th:only-of-type {\n",
       "        vertical-align: middle;\n",
       "    }\n",
       "\n",
       "    .dataframe tbody tr th {\n",
       "        vertical-align: top;\n",
       "    }\n",
       "\n",
       "    .dataframe thead th {\n",
       "        text-align: right;\n",
       "    }\n",
       "</style>\n",
       "<table border=\"1\" class=\"dataframe\">\n",
       "  <thead>\n",
       "    <tr style=\"text-align: right;\">\n",
       "      <th></th>\n",
       "      <th>0</th>\n",
       "      <th>1</th>\n",
       "      <th>2</th>\n",
       "      <th>3</th>\n",
       "      <th>4</th>\n",
       "      <th>5</th>\n",
       "      <th>6</th>\n",
       "      <th>7</th>\n",
       "      <th>8</th>\n",
       "      <th>9</th>\n",
       "      <th>10</th>\n",
       "      <th>11</th>\n",
       "      <th>12</th>\n",
       "    </tr>\n",
       "  </thead>\n",
       "  <tbody>\n",
       "    <tr>\n",
       "      <th>0</th>\n",
       "      <td>0.00632</td>\n",
       "      <td>18.0</td>\n",
       "      <td>2.31</td>\n",
       "      <td>0.0</td>\n",
       "      <td>0.538</td>\n",
       "      <td>6.575</td>\n",
       "      <td>65.2</td>\n",
       "      <td>4.0900</td>\n",
       "      <td>1.0</td>\n",
       "      <td>296.0</td>\n",
       "      <td>15.3</td>\n",
       "      <td>396.90</td>\n",
       "      <td>4.98</td>\n",
       "    </tr>\n",
       "    <tr>\n",
       "      <th>1</th>\n",
       "      <td>0.02731</td>\n",
       "      <td>0.0</td>\n",
       "      <td>7.07</td>\n",
       "      <td>0.0</td>\n",
       "      <td>0.469</td>\n",
       "      <td>6.421</td>\n",
       "      <td>78.9</td>\n",
       "      <td>4.9671</td>\n",
       "      <td>2.0</td>\n",
       "      <td>242.0</td>\n",
       "      <td>17.8</td>\n",
       "      <td>396.90</td>\n",
       "      <td>9.14</td>\n",
       "    </tr>\n",
       "    <tr>\n",
       "      <th>2</th>\n",
       "      <td>0.02729</td>\n",
       "      <td>0.0</td>\n",
       "      <td>7.07</td>\n",
       "      <td>0.0</td>\n",
       "      <td>0.469</td>\n",
       "      <td>7.185</td>\n",
       "      <td>61.1</td>\n",
       "      <td>4.9671</td>\n",
       "      <td>2.0</td>\n",
       "      <td>242.0</td>\n",
       "      <td>17.8</td>\n",
       "      <td>392.83</td>\n",
       "      <td>4.03</td>\n",
       "    </tr>\n",
       "    <tr>\n",
       "      <th>3</th>\n",
       "      <td>0.03237</td>\n",
       "      <td>0.0</td>\n",
       "      <td>2.18</td>\n",
       "      <td>0.0</td>\n",
       "      <td>0.458</td>\n",
       "      <td>6.998</td>\n",
       "      <td>45.8</td>\n",
       "      <td>6.0622</td>\n",
       "      <td>3.0</td>\n",
       "      <td>222.0</td>\n",
       "      <td>18.7</td>\n",
       "      <td>394.63</td>\n",
       "      <td>2.94</td>\n",
       "    </tr>\n",
       "    <tr>\n",
       "      <th>4</th>\n",
       "      <td>0.06905</td>\n",
       "      <td>0.0</td>\n",
       "      <td>2.18</td>\n",
       "      <td>0.0</td>\n",
       "      <td>0.458</td>\n",
       "      <td>7.147</td>\n",
       "      <td>54.2</td>\n",
       "      <td>6.0622</td>\n",
       "      <td>3.0</td>\n",
       "      <td>222.0</td>\n",
       "      <td>18.7</td>\n",
       "      <td>396.90</td>\n",
       "      <td>5.33</td>\n",
       "    </tr>\n",
       "    <tr>\n",
       "      <th>...</th>\n",
       "      <td>...</td>\n",
       "      <td>...</td>\n",
       "      <td>...</td>\n",
       "      <td>...</td>\n",
       "      <td>...</td>\n",
       "      <td>...</td>\n",
       "      <td>...</td>\n",
       "      <td>...</td>\n",
       "      <td>...</td>\n",
       "      <td>...</td>\n",
       "      <td>...</td>\n",
       "      <td>...</td>\n",
       "      <td>...</td>\n",
       "    </tr>\n",
       "    <tr>\n",
       "      <th>501</th>\n",
       "      <td>0.06263</td>\n",
       "      <td>0.0</td>\n",
       "      <td>11.93</td>\n",
       "      <td>0.0</td>\n",
       "      <td>0.573</td>\n",
       "      <td>6.593</td>\n",
       "      <td>69.1</td>\n",
       "      <td>2.4786</td>\n",
       "      <td>1.0</td>\n",
       "      <td>273.0</td>\n",
       "      <td>21.0</td>\n",
       "      <td>391.99</td>\n",
       "      <td>9.67</td>\n",
       "    </tr>\n",
       "    <tr>\n",
       "      <th>502</th>\n",
       "      <td>0.04527</td>\n",
       "      <td>0.0</td>\n",
       "      <td>11.93</td>\n",
       "      <td>0.0</td>\n",
       "      <td>0.573</td>\n",
       "      <td>6.120</td>\n",
       "      <td>76.7</td>\n",
       "      <td>2.2875</td>\n",
       "      <td>1.0</td>\n",
       "      <td>273.0</td>\n",
       "      <td>21.0</td>\n",
       "      <td>396.90</td>\n",
       "      <td>9.08</td>\n",
       "    </tr>\n",
       "    <tr>\n",
       "      <th>503</th>\n",
       "      <td>0.06076</td>\n",
       "      <td>0.0</td>\n",
       "      <td>11.93</td>\n",
       "      <td>0.0</td>\n",
       "      <td>0.573</td>\n",
       "      <td>6.976</td>\n",
       "      <td>91.0</td>\n",
       "      <td>2.1675</td>\n",
       "      <td>1.0</td>\n",
       "      <td>273.0</td>\n",
       "      <td>21.0</td>\n",
       "      <td>396.90</td>\n",
       "      <td>5.64</td>\n",
       "    </tr>\n",
       "    <tr>\n",
       "      <th>504</th>\n",
       "      <td>0.10959</td>\n",
       "      <td>0.0</td>\n",
       "      <td>11.93</td>\n",
       "      <td>0.0</td>\n",
       "      <td>0.573</td>\n",
       "      <td>6.794</td>\n",
       "      <td>89.3</td>\n",
       "      <td>2.3889</td>\n",
       "      <td>1.0</td>\n",
       "      <td>273.0</td>\n",
       "      <td>21.0</td>\n",
       "      <td>393.45</td>\n",
       "      <td>6.48</td>\n",
       "    </tr>\n",
       "    <tr>\n",
       "      <th>505</th>\n",
       "      <td>0.04741</td>\n",
       "      <td>0.0</td>\n",
       "      <td>11.93</td>\n",
       "      <td>0.0</td>\n",
       "      <td>0.573</td>\n",
       "      <td>6.030</td>\n",
       "      <td>80.8</td>\n",
       "      <td>2.5050</td>\n",
       "      <td>1.0</td>\n",
       "      <td>273.0</td>\n",
       "      <td>21.0</td>\n",
       "      <td>396.90</td>\n",
       "      <td>7.88</td>\n",
       "    </tr>\n",
       "  </tbody>\n",
       "</table>\n",
       "<p>506 rows × 13 columns</p>\n",
       "</div>"
      ],
      "text/plain": [
       "           0     1      2    3      4      5     6       7    8      9    10  \\\n",
       "0    0.00632  18.0   2.31  0.0  0.538  6.575  65.2  4.0900  1.0  296.0  15.3   \n",
       "1    0.02731   0.0   7.07  0.0  0.469  6.421  78.9  4.9671  2.0  242.0  17.8   \n",
       "2    0.02729   0.0   7.07  0.0  0.469  7.185  61.1  4.9671  2.0  242.0  17.8   \n",
       "3    0.03237   0.0   2.18  0.0  0.458  6.998  45.8  6.0622  3.0  222.0  18.7   \n",
       "4    0.06905   0.0   2.18  0.0  0.458  7.147  54.2  6.0622  3.0  222.0  18.7   \n",
       "..       ...   ...    ...  ...    ...    ...   ...     ...  ...    ...   ...   \n",
       "501  0.06263   0.0  11.93  0.0  0.573  6.593  69.1  2.4786  1.0  273.0  21.0   \n",
       "502  0.04527   0.0  11.93  0.0  0.573  6.120  76.7  2.2875  1.0  273.0  21.0   \n",
       "503  0.06076   0.0  11.93  0.0  0.573  6.976  91.0  2.1675  1.0  273.0  21.0   \n",
       "504  0.10959   0.0  11.93  0.0  0.573  6.794  89.3  2.3889  1.0  273.0  21.0   \n",
       "505  0.04741   0.0  11.93  0.0  0.573  6.030  80.8  2.5050  1.0  273.0  21.0   \n",
       "\n",
       "         11    12  \n",
       "0    396.90  4.98  \n",
       "1    396.90  9.14  \n",
       "2    392.83  4.03  \n",
       "3    394.63  2.94  \n",
       "4    396.90  5.33  \n",
       "..      ...   ...  \n",
       "501  391.99  9.67  \n",
       "502  396.90  9.08  \n",
       "503  396.90  5.64  \n",
       "504  393.45  6.48  \n",
       "505  396.90  7.88  \n",
       "\n",
       "[506 rows x 13 columns]"
      ]
     },
     "execution_count": 8,
     "metadata": {},
     "output_type": "execute_result"
    }
   ],
   "source": [
    "pd.DataFrame(X)"
   ]
  },
  {
   "cell_type": "code",
   "execution_count": 9,
   "metadata": {
    "colab": {},
    "colab_type": "code",
    "id": "t1A6GUaaE2Ib",
    "outputId": "53d6564c-64f9-4847-a219-0335d9386ed8"
   },
   "outputs": [
    {
     "data": {
      "text/html": [
       "<div>\n",
       "<style scoped>\n",
       "    .dataframe tbody tr th:only-of-type {\n",
       "        vertical-align: middle;\n",
       "    }\n",
       "\n",
       "    .dataframe tbody tr th {\n",
       "        vertical-align: top;\n",
       "    }\n",
       "\n",
       "    .dataframe thead th {\n",
       "        text-align: right;\n",
       "    }\n",
       "</style>\n",
       "<table border=\"1\" class=\"dataframe\">\n",
       "  <thead>\n",
       "    <tr style=\"text-align: right;\">\n",
       "      <th></th>\n",
       "      <th>0</th>\n",
       "    </tr>\n",
       "  </thead>\n",
       "  <tbody>\n",
       "    <tr>\n",
       "      <th>0</th>\n",
       "      <td>24.0</td>\n",
       "    </tr>\n",
       "    <tr>\n",
       "      <th>1</th>\n",
       "      <td>21.6</td>\n",
       "    </tr>\n",
       "    <tr>\n",
       "      <th>2</th>\n",
       "      <td>34.7</td>\n",
       "    </tr>\n",
       "    <tr>\n",
       "      <th>3</th>\n",
       "      <td>33.4</td>\n",
       "    </tr>\n",
       "    <tr>\n",
       "      <th>4</th>\n",
       "      <td>36.2</td>\n",
       "    </tr>\n",
       "    <tr>\n",
       "      <th>...</th>\n",
       "      <td>...</td>\n",
       "    </tr>\n",
       "    <tr>\n",
       "      <th>501</th>\n",
       "      <td>22.4</td>\n",
       "    </tr>\n",
       "    <tr>\n",
       "      <th>502</th>\n",
       "      <td>20.6</td>\n",
       "    </tr>\n",
       "    <tr>\n",
       "      <th>503</th>\n",
       "      <td>23.9</td>\n",
       "    </tr>\n",
       "    <tr>\n",
       "      <th>504</th>\n",
       "      <td>22.0</td>\n",
       "    </tr>\n",
       "    <tr>\n",
       "      <th>505</th>\n",
       "      <td>11.9</td>\n",
       "    </tr>\n",
       "  </tbody>\n",
       "</table>\n",
       "<p>506 rows × 1 columns</p>\n",
       "</div>"
      ],
      "text/plain": [
       "        0\n",
       "0    24.0\n",
       "1    21.6\n",
       "2    34.7\n",
       "3    33.4\n",
       "4    36.2\n",
       "..    ...\n",
       "501  22.4\n",
       "502  20.6\n",
       "503  23.9\n",
       "504  22.0\n",
       "505  11.9\n",
       "\n",
       "[506 rows x 1 columns]"
      ]
     },
     "execution_count": 9,
     "metadata": {},
     "output_type": "execute_result"
    }
   ],
   "source": [
    "pd.DataFrame(y)"
   ]
  },
  {
   "cell_type": "code",
   "execution_count": 10,
   "metadata": {
    "colab": {},
    "colab_type": "code",
    "id": "ObXNdsB_E2Id",
    "outputId": "a0b892d2-ab12-4430-a8f9-294ed3faf849"
   },
   "outputs": [
    {
     "data": {
      "text/plain": [
       "array(['CRIM', 'ZN', 'INDUS', 'CHAS', 'NOX', 'RM', 'AGE', 'DIS', 'RAD',\n",
       "       'TAX', 'PTRATIO', 'B', 'LSTAT'], dtype='<U7')"
      ]
     },
     "execution_count": 10,
     "metadata": {},
     "output_type": "execute_result"
    }
   ],
   "source": [
    "boston.feature_names"
   ]
  },
  {
   "cell_type": "markdown",
   "metadata": {
    "colab_type": "text",
    "id": "HETfchBQE2Ig"
   },
   "source": [
    "## 7.Practice.Lasso Regression"
   ]
  },
  {
   "cell_type": "markdown",
   "metadata": {
    "colab_type": "text",
    "id": "RBgaFMaIE2Ig"
   },
   "source": [
    "Lasso regression minimizes mean squared error with L1 regularization:\n",
    "$$\\Large error(X, y, w) = \\frac{1}{2} \\sum_{i=1}^\\ell {(y_i - w^Tx_i)}^2 + \\alpha \\sum_{i=1}^d |w_i|$$\n",
    "\n",
    "where $y = w^Tx$ hyperplane equation depending on model parameters $w$, $\\ell$ is number of observations in data $X$, $d$ is number of features, $y$ target values, $\\alpha$ regularization coefficient."
   ]
  },
  {
   "cell_type": "markdown",
   "metadata": {
    "colab_type": "text",
    "id": "eauaxrcvE2Ig"
   },
   "source": [
    "**Let's fit Lasso Regression with the small $\\alpha$ coefficient (weak regularization). Coefficient related to NOX feature (nitric oxides concentration) will be zero. It means that this feature is the least important for median house prices prediction in this region.**"
   ]
  },
  {
   "cell_type": "code",
   "execution_count": 39,
   "metadata": {
    "colab": {},
    "colab_type": "code",
    "id": "dNeoswMAE2Ih",
    "outputId": "1fb00874-4052-471e-93b8-521a019f21ab"
   },
   "outputs": [
    {
     "data": {
      "text/plain": [
       "array([-0.09789363,  0.04921111, -0.03661906,  0.95519003, -0.        ,\n",
       "        3.70320175, -0.01003698, -1.16053834,  0.27470721, -0.01457017,\n",
       "       -0.77065434,  0.01024917, -0.56876914])"
      ]
     },
     "execution_count": 39,
     "metadata": {},
     "output_type": "execute_result"
    }
   ],
   "source": [
    "lasso = Lasso(alpha=0.1)\n",
    "lasso.fit(X,y)\n",
    "lasso.coef_"
   ]
  },
  {
   "cell_type": "code",
   "execution_count": 0,
   "metadata": {
    "colab": {},
    "colab_type": "code",
    "id": "H5MehV3TE2Ij",
    "outputId": "50e4150e-2fc4-4921-c29a-30c8b586b8db"
   },
   "outputs": [
    {
     "data": {
      "text/plain": [
       "array(['CRIM', 'ZN', 'INDUS', 'CHAS', 'NOX', 'RM', 'AGE', 'DIS', 'RAD',\n",
       "       'TAX', 'PTRATIO', 'B', 'LSTAT'], dtype='<U7')"
      ]
     },
     "execution_count": 73,
     "metadata": {
      "tags": []
     },
     "output_type": "execute_result"
    }
   ],
   "source": [
    "boston.feature_names"
   ]
  },
  {
   "cell_type": "markdown",
   "metadata": {
    "colab_type": "text",
    "id": "5LpLjyt1E2In"
   },
   "source": [
    "**Let's train Lasso Regression with $\\alpha=10$. All of the coefficients are equal to zero except features ZN (proportion of residential land zoned for lots over 25,000 sq.ft.), TAX (full-value property-tax rate), B (proportion of blacks by town) and LSTAT (% of lower status of the population).**"
   ]
  },
  {
   "cell_type": "code",
   "execution_count": 40,
   "metadata": {
    "colab": {},
    "colab_type": "code",
    "id": "RqNk9WWQE2In",
    "outputId": "68d8c5ad-4faf-4e79-ab72-82d4b9fe4658"
   },
   "outputs": [
    {
     "data": {
      "text/plain": [
       "array([-0.        ,  0.02614602, -0.        ,  0.        ,  0.        ,\n",
       "        0.        ,  0.        , -0.        ,  0.        , -0.00928242,\n",
       "       -0.        ,  0.00749584, -0.56403807])"
      ]
     },
     "execution_count": 40,
     "metadata": {},
     "output_type": "execute_result"
    }
   ],
   "source": [
    "lasso = Lasso(alpha=10)\n",
    "lasso.fit(X,y)\n",
    "lasso.coef_"
   ]
  },
  {
   "cell_type": "markdown",
   "metadata": {
    "colab_type": "text",
    "id": "DuLMtPALE2Iq"
   },
   "source": [
    "**It means that Lasso Regression may serve as a feature selection method.**"
   ]
  },
  {
   "cell_type": "code",
   "execution_count": 56,
   "metadata": {},
   "outputs": [
    {
     "data": {
      "text/plain": [
       "array([ 0.1       ,  0.14974874,  0.19949749,  0.24924623,  0.29899497,\n",
       "        0.34874372,  0.39849246,  0.44824121,  0.49798995,  0.54773869,\n",
       "        0.59748744,  0.64723618,  0.69698492,  0.74673367,  0.79648241,\n",
       "        0.84623116,  0.8959799 ,  0.94572864,  0.99547739,  1.04522613,\n",
       "        1.09497487,  1.14472362,  1.19447236,  1.24422111,  1.29396985,\n",
       "        1.34371859,  1.39346734,  1.44321608,  1.49296482,  1.54271357,\n",
       "        1.59246231,  1.64221106,  1.6919598 ,  1.74170854,  1.79145729,\n",
       "        1.84120603,  1.89095477,  1.94070352,  1.99045226,  2.04020101,\n",
       "        2.08994975,  2.13969849,  2.18944724,  2.23919598,  2.28894472,\n",
       "        2.33869347,  2.38844221,  2.43819095,  2.4879397 ,  2.53768844,\n",
       "        2.58743719,  2.63718593,  2.68693467,  2.73668342,  2.78643216,\n",
       "        2.8361809 ,  2.88592965,  2.93567839,  2.98542714,  3.03517588,\n",
       "        3.08492462,  3.13467337,  3.18442211,  3.23417085,  3.2839196 ,\n",
       "        3.33366834,  3.38341709,  3.43316583,  3.48291457,  3.53266332,\n",
       "        3.58241206,  3.6321608 ,  3.68190955,  3.73165829,  3.78140704,\n",
       "        3.83115578,  3.88090452,  3.93065327,  3.98040201,  4.03015075,\n",
       "        4.0798995 ,  4.12964824,  4.17939698,  4.22914573,  4.27889447,\n",
       "        4.32864322,  4.37839196,  4.4281407 ,  4.47788945,  4.52763819,\n",
       "        4.57738693,  4.62713568,  4.67688442,  4.72663317,  4.77638191,\n",
       "        4.82613065,  4.8758794 ,  4.92562814,  4.97537688,  5.02512563,\n",
       "        5.07487437,  5.12462312,  5.17437186,  5.2241206 ,  5.27386935,\n",
       "        5.32361809,  5.37336683,  5.42311558,  5.47286432,  5.52261307,\n",
       "        5.57236181,  5.62211055,  5.6718593 ,  5.72160804,  5.77135678,\n",
       "        5.82110553,  5.87085427,  5.92060302,  5.97035176,  6.0201005 ,\n",
       "        6.06984925,  6.11959799,  6.16934673,  6.21909548,  6.26884422,\n",
       "        6.31859296,  6.36834171,  6.41809045,  6.4678392 ,  6.51758794,\n",
       "        6.56733668,  6.61708543,  6.66683417,  6.71658291,  6.76633166,\n",
       "        6.8160804 ,  6.86582915,  6.91557789,  6.96532663,  7.01507538,\n",
       "        7.06482412,  7.11457286,  7.16432161,  7.21407035,  7.2638191 ,\n",
       "        7.31356784,  7.36331658,  7.41306533,  7.46281407,  7.51256281,\n",
       "        7.56231156,  7.6120603 ,  7.66180905,  7.71155779,  7.76130653,\n",
       "        7.81105528,  7.86080402,  7.91055276,  7.96030151,  8.01005025,\n",
       "        8.05979899,  8.10954774,  8.15929648,  8.20904523,  8.25879397,\n",
       "        8.30854271,  8.35829146,  8.4080402 ,  8.45778894,  8.50753769,\n",
       "        8.55728643,  8.60703518,  8.65678392,  8.70653266,  8.75628141,\n",
       "        8.80603015,  8.85577889,  8.90552764,  8.95527638,  9.00502513,\n",
       "        9.05477387,  9.10452261,  9.15427136,  9.2040201 ,  9.25376884,\n",
       "        9.30351759,  9.35326633,  9.40301508,  9.45276382,  9.50251256,\n",
       "        9.55226131,  9.60201005,  9.65175879,  9.70150754,  9.75125628,\n",
       "        9.80100503,  9.85075377,  9.90050251,  9.95025126, 10.        ])"
      ]
     },
     "execution_count": 56,
     "metadata": {},
     "output_type": "execute_result"
    }
   ],
   "source": [
    "np.linspace(0.1, 10, n_alphas)"
   ]
  },
  {
   "cell_type": "code",
   "execution_count": null,
   "metadata": {},
   "outputs": [],
   "source": [
    "# 1. send about motivation for larger weights\n",
    "# 2. линии уровня для lassoo \n",
    "# 3. correlation between features\n",
    "\n",
    "df.correlations()"
   ]
  },
  {
   "cell_type": "code",
   "execution_count": 41,
   "metadata": {
    "colab": {},
    "colab_type": "code",
    "id": "XEhKDD9yE2Ir",
    "outputId": "b37e67c9-d992-4c14-d027-a1c107eefed5"
   },
   "outputs": [
    {
     "data": {
      "image/png": "[encoded data removed]",
      "text/plain": [
       "<Figure size 864x576 with 1 Axes>"
      ]
     },
     "metadata": {
      "image/png": {
       "height": 504,
       "width": 721
      }
     },
     "output_type": "display_data"
    }
   ],
   "source": [
    "n_alphas = 200\n",
    "alphas = np.linspace(0.1, 10, n_alphas)\n",
    "model = Lasso()\n",
    "\n",
    "coefs = []\n",
    "for a in alphas:\n",
    "    model.set_params(alpha=a)\n",
    "    model.fit(X, y)\n",
    "    coefs.append(model.coef_)\n",
    "\n",
    "plt.rcParams['figure.figsize'] = (12, 8)\n",
    "\n",
    "ax = plt.gca()\n",
    "# ax.set_color_cycle(['b', 'r', 'g', 'c', 'k', 'y', 'm'])\n",
    "\n",
    "ax.plot(alphas, coefs)\n",
    "ax.set_xscale('log')\n",
    "ax.set_xlim(ax.get_xlim())\n",
    "plt.xlabel('alpha')\n",
    "plt.ylabel('weights')\n",
    "plt.title('Lasso coefficients as a function of the regularization')\n",
    "plt.axis('tight')\n",
    "plt.show();"
   ]
  },
  {
   "cell_type": "markdown",
   "metadata": {
    "colab_type": "text",
    "id": "63EVZhMcE2It"
   },
   "source": [
    "**Now let's find the best value of $\\alpha$ during cross-validation.**"
   ]
  },
  {
   "cell_type": "code",
   "execution_count": 57,
   "metadata": {
    "colab": {},
    "colab_type": "code",
    "id": "HfAvk_KCE2It"
   },
   "outputs": [
    {
     "data": {
      "text/plain": [
       "array([ 0.1       ,  0.14974874,  0.19949749,  0.24924623,  0.29899497,\n",
       "        0.34874372,  0.39849246,  0.44824121,  0.49798995,  0.54773869,\n",
       "        0.59748744,  0.64723618,  0.69698492,  0.74673367,  0.79648241,\n",
       "        0.84623116,  0.8959799 ,  0.94572864,  0.99547739,  1.04522613,\n",
       "        1.09497487,  1.14472362,  1.19447236,  1.24422111,  1.29396985,\n",
       "        1.34371859,  1.39346734,  1.44321608,  1.49296482,  1.54271357,\n",
       "        1.59246231,  1.64221106,  1.6919598 ,  1.74170854,  1.79145729,\n",
       "        1.84120603,  1.89095477,  1.94070352,  1.99045226,  2.04020101,\n",
       "        2.08994975,  2.13969849,  2.18944724,  2.23919598,  2.28894472,\n",
       "        2.33869347,  2.38844221,  2.43819095,  2.4879397 ,  2.53768844,\n",
       "        2.58743719,  2.63718593,  2.68693467,  2.73668342,  2.78643216,\n",
       "        2.8361809 ,  2.88592965,  2.93567839,  2.98542714,  3.03517588,\n",
       "        3.08492462,  3.13467337,  3.18442211,  3.23417085,  3.2839196 ,\n",
       "        3.33366834,  3.38341709,  3.43316583,  3.48291457,  3.53266332,\n",
       "        3.58241206,  3.6321608 ,  3.68190955,  3.73165829,  3.78140704,\n",
       "        3.83115578,  3.88090452,  3.93065327,  3.98040201,  4.03015075,\n",
       "        4.0798995 ,  4.12964824,  4.17939698,  4.22914573,  4.27889447,\n",
       "        4.32864322,  4.37839196,  4.4281407 ,  4.47788945,  4.52763819,\n",
       "        4.57738693,  4.62713568,  4.67688442,  4.72663317,  4.77638191,\n",
       "        4.82613065,  4.8758794 ,  4.92562814,  4.97537688,  5.02512563,\n",
       "        5.07487437,  5.12462312,  5.17437186,  5.2241206 ,  5.27386935,\n",
       "        5.32361809,  5.37336683,  5.42311558,  5.47286432,  5.52261307,\n",
       "        5.57236181,  5.62211055,  5.6718593 ,  5.72160804,  5.77135678,\n",
       "        5.82110553,  5.87085427,  5.92060302,  5.97035176,  6.0201005 ,\n",
       "        6.06984925,  6.11959799,  6.16934673,  6.21909548,  6.26884422,\n",
       "        6.31859296,  6.36834171,  6.41809045,  6.4678392 ,  6.51758794,\n",
       "        6.56733668,  6.61708543,  6.66683417,  6.71658291,  6.76633166,\n",
       "        6.8160804 ,  6.86582915,  6.91557789,  6.96532663,  7.01507538,\n",
       "        7.06482412,  7.11457286,  7.16432161,  7.21407035,  7.2638191 ,\n",
       "        7.31356784,  7.36331658,  7.41306533,  7.46281407,  7.51256281,\n",
       "        7.56231156,  7.6120603 ,  7.66180905,  7.71155779,  7.76130653,\n",
       "        7.81105528,  7.86080402,  7.91055276,  7.96030151,  8.01005025,\n",
       "        8.05979899,  8.10954774,  8.15929648,  8.20904523,  8.25879397,\n",
       "        8.30854271,  8.35829146,  8.4080402 ,  8.45778894,  8.50753769,\n",
       "        8.55728643,  8.60703518,  8.65678392,  8.70653266,  8.75628141,\n",
       "        8.80603015,  8.85577889,  8.90552764,  8.95527638,  9.00502513,\n",
       "        9.05477387,  9.10452261,  9.15427136,  9.2040201 ,  9.25376884,\n",
       "        9.30351759,  9.35326633,  9.40301508,  9.45276382,  9.50251256,\n",
       "        9.55226131,  9.60201005,  9.65175879,  9.70150754,  9.75125628,\n",
       "        9.80100503,  9.85075377,  9.90050251,  9.95025126, 10.        ])"
      ]
     },
     "execution_count": 57,
     "metadata": {},
     "output_type": "execute_result"
    }
   ],
   "source": [
    "alphas"
   ]
  },
  {
   "cell_type": "code",
   "execution_count": 43,
   "metadata": {
    "colab": {},
    "colab_type": "code",
    "id": "rvBdTc-QE2Iv",
    "outputId": "7c88966c-bbf7-4218-ff1f-d9cbcc1aeab4"
   },
   "outputs": [
    {
     "data": {
      "text/plain": [
       "LassoCV(alphas=array([ 0.1       ,  0.14974874,  0.19949749,  0.24924623,  0.29899497,\n",
       "        0.34874372,  0.39849246,  0.44824121,  0.49798995,  0.54773869,\n",
       "        0.59748744,  0.64723618,  0.69698492,  0.74673367,  0.79648241,\n",
       "        0.84623116,  0.8959799 ,  0.94572864,  0.99547739,  1.04522613,\n",
       "        1.09497487,  1.14472362,  1.19447236,  1.24422111,  1.29396985,\n",
       "        1.34371859,  1.39346734,  1.44321608,  1.49296482,  1.54271357,\n",
       "        1.5924...\n",
       "        9.30351759,  9.35326633,  9.40301508,  9.45276382,  9.50251256,\n",
       "        9.55226131,  9.60201005,  9.65175879,  9.70150754,  9.75125628,\n",
       "        9.80100503,  9.85075377,  9.90050251,  9.95025126, 10.        ]),\n",
       "        copy_X=True, cv=3, eps=0.001, fit_intercept=True, max_iter=1000,\n",
       "        n_alphas=100, n_jobs=None, normalize=False, positive=False,\n",
       "        precompute='auto', random_state=17, selection='cyclic', tol=0.0001,\n",
       "        verbose=False)"
      ]
     },
     "execution_count": 43,
     "metadata": {},
     "output_type": "execute_result"
    }
   ],
   "source": [
    "from sklearn.linear_model import LassoCV, RidgeCV, Lasso, Ridge\n",
    "\n",
    "lasso_cv = LassoCV(alphas=alphas, \n",
    "                   cv=3, \n",
    "                   random_state=17)\n",
    "lasso_cv.fit(X, y)"
   ]
  },
  {
   "cell_type": "code",
   "execution_count": 44,
   "metadata": {
    "colab": {},
    "colab_type": "code",
    "id": "B-60ResZE2Ix",
    "outputId": "4ae44040-0925-48f2-b96b-a8c4ee92134a"
   },
   "outputs": [
    {
     "data": {
      "text/plain": [
       "array([-0.09739888,  0.04946381, -0.02749478,  0.16060406, -0.        ,\n",
       "        3.55971374, -0.00726968, -1.13393157,  0.28096773, -0.01503453,\n",
       "       -0.77985441,  0.01025033, -0.58259584])"
      ]
     },
     "execution_count": 44,
     "metadata": {},
     "output_type": "execute_result"
    }
   ],
   "source": [
    "lasso_cv.coef_"
   ]
  },
  {
   "cell_type": "code",
   "execution_count": 45,
   "metadata": {
    "colab": {},
    "colab_type": "code",
    "id": "QfhKuSz_E2Iz",
    "outputId": "838db2be-62ef-4dca-ec21-86c178eb55bd"
   },
   "outputs": [
    {
     "data": {
      "text/plain": [
       "0.14974874371859298"
      ]
     },
     "execution_count": 45,
     "metadata": {},
     "output_type": "execute_result"
    }
   ],
   "source": [
    "lasso_cv.alpha_"
   ]
  },
  {
   "cell_type": "code",
   "execution_count": 75,
   "metadata": {},
   "outputs": [
    {
     "data": {
      "text/plain": [
       "Lasso(alpha=0.14974874371859298, copy_X=True, fit_intercept=True, max_iter=1000,\n",
       "      normalize=False, positive=False, precompute=False, random_state=None,\n",
       "      selection='cyclic', tol=0.0001, warm_start=False)"
      ]
     },
     "execution_count": 75,
     "metadata": {},
     "output_type": "execute_result"
    }
   ],
   "source": [
    "Lasso(alpha=lasso_cv.alpha_).fit(X, y)"
   ]
  },
  {
   "cell_type": "code",
   "execution_count": 0,
   "metadata": {
    "colab": {},
    "colab_type": "code",
    "id": "TLnrNWZEE2I1"
   },
   "outputs": [],
   "source": [
    "#abs(cross_val_score(Lasso(lasso_cv.alpha_), X, y, cv=3, \n",
    "#                        scoring='neg_mean_squared_error').mean())"
   ]
  },
  {
   "cell_type": "markdown",
   "metadata": {
    "colab_type": "text",
    "id": "VRaIzOERE2I3"
   },
   "source": [
    "## 8.Practice.Ridge Regression"
   ]
  },
  {
   "cell_type": "markdown",
   "metadata": {
    "colab_type": "text",
    "id": "0rxvRYBkE2I4"
   },
   "source": [
    "Ridge regression minimizes mean squared error with L2 regularization:\n",
    "$$\\Large error(X, y, w) = \\frac{1}{2} \\sum_{i=1}^\\ell {(y_i - w^Tx_i)}^2 + \\alpha \\sum_{i=1}^d w_i^2$$\n",
    "\n",
    "where $y = w^Tx$ hyperplane equation depending on model parameters $w$, $\\ell$ is number of observations in data $X$, $d$ is number of features, $y$ target values, $\\alpha$ regularization coefficient."
   ]
  },
  {
   "cell_type": "markdown",
   "metadata": {
    "colab_type": "text",
    "id": "zLJUJ1jKE2I4"
   },
   "source": [
    "There is a special class [RidgeCV](http://scikit-learn.org/stable/modules/generated/sklearn.linear_model.RidgeCV.html#sklearn.linear_model.RidgeCV) for Ridge regression cross-validation."
   ]
  },
  {
   "cell_type": "code",
   "execution_count": 48,
   "metadata": {
    "colab": {},
    "colab_type": "code",
    "id": "oIF4zObjE2I5"
   },
   "outputs": [],
   "source": [
    "n_alphas = 200\n",
    "ridge_alphas = np.logspace(-2, 6, n_alphas)"
   ]
  },
  {
   "cell_type": "code",
   "execution_count": 72,
   "metadata": {},
   "outputs": [],
   "source": [
    "ridge_alphas = np.array([500, 600])"
   ]
  },
  {
   "cell_type": "code",
   "execution_count": 73,
   "metadata": {
    "colab": {},
    "colab_type": "code",
    "id": "jmoUk5oWE2I6",
    "outputId": "001566c3-ba50-4c80-9597-5d28ada6a9a7"
   },
   "outputs": [
    {
     "data": {
      "text/plain": [
       "RidgeCV(alphas=array([500, 600]), cv=3, fit_intercept=True, gcv_mode=None,\n",
       "        normalize=False, scoring='neg_mean_squared_error',\n",
       "        store_cv_values=False)"
      ]
     },
     "execution_count": 73,
     "metadata": {},
     "output_type": "execute_result"
    }
   ],
   "source": [
    "ridge_cv = RidgeCV(alphas=ridge_alphas, \n",
    "                   scoring='neg_mean_squared_error',\n",
    "                   cv=3)\n",
    "ridge_cv.fit(X, y)"
   ]
  },
  {
   "cell_type": "code",
   "execution_count": 74,
   "metadata": {
    "colab": {},
    "colab_type": "code",
    "id": "m5DlYPttE2I8",
    "outputId": "40dbdfcb-67f5-474e-8d3b-8ab7e90d7a9c"
   },
   "outputs": [
    {
     "data": {
      "text/plain": [
       "500"
      ]
     },
     "execution_count": 74,
     "metadata": {},
     "output_type": "execute_result"
    }
   ],
   "source": [
    "ridge_cv.alpha_"
   ]
  },
  {
   "cell_type": "code",
   "execution_count": 0,
   "metadata": {
    "colab": {},
    "colab_type": "code",
    "id": "30TntIB5E2I-"
   },
   "outputs": [],
   "source": [
    "#abs(cross_val_score(Ridge(ridge_cv.alpha_), X, y, cv=3, \n",
    "#                        scoring='neg_mean_squared_error').mean())"
   ]
  },
  {
   "cell_type": "code",
   "execution_count": 0,
   "metadata": {
    "colab": {},
    "colab_type": "code",
    "id": "NIUM4OKLE2JA"
   },
   "outputs": [],
   "source": [
    "#abs(cross_val_score(Ridge(270), X, y, cv=3, \n",
    "#                        scoring='neg_mean_squared_error').mean())"
   ]
  },
  {
   "cell_type": "markdown",
   "metadata": {
    "colab_type": "text",
    "id": "JMCA3U31E2JC"
   },
   "source": [
    "**In case of Ridge Regression neither of the parameters are reducing to zero. It can be small value but non-zero.**"
   ]
  },
  {
   "cell_type": "code",
   "execution_count": 51,
   "metadata": {
    "colab": {},
    "colab_type": "code",
    "id": "g-U2ShwoE2JC",
    "outputId": "fee18743-4c59-4832-f864-ab30e3ed82b0"
   },
   "outputs": [
    {
     "data": {
      "text/plain": [
       "array([-0.09975818,  0.05562804, -0.05006572,  0.30202744, -0.09151777,\n",
       "        1.42295311,  0.01289136, -0.99866364,  0.33080392, -0.01661515,\n",
       "       -0.81984784,  0.00876309, -0.72318342])"
      ]
     },
     "execution_count": 51,
     "metadata": {},
     "output_type": "execute_result"
    }
   ],
   "source": [
    "ridge_cv.coef_"
   ]
  },
  {
   "cell_type": "code",
   "execution_count": 25,
   "metadata": {
    "colab": {},
    "colab_type": "code",
    "id": "ipe4QiEiE2JF",
    "outputId": "c8b2363b-7b26-4c91-f218-5aa1dc5b108b"
   },
   "outputs": [
    {
     "data": {
      "image/png": "[encoded data removed]",
      "text/plain": [
       "<Figure size 864x576 with 1 Axes>"
      ]
     },
     "metadata": {
      "image/png": {
       "height": 504,
       "width": 727
      }
     },
     "output_type": "display_data"
    }
   ],
   "source": [
    "n_alphas = 200\n",
    "ridge_alphas = np.logspace(-2, 6, n_alphas)\n",
    "model = Ridge()\n",
    "\n",
    "coefs = []\n",
    "for a in ridge_alphas:\n",
    "    model.set_params(alpha=a)\n",
    "    model.fit(X, y)\n",
    "    coefs.append(model.coef_)\n",
    "    \n",
    "ax = plt.gca()\n",
    "# ax.set_color_cycle(['b', 'r', 'g', 'c', 'k', 'y', 'm'])\n",
    "\n",
    "ax.plot(ridge_alphas, coefs)\n",
    "ax.set_xscale('log')\n",
    "ax.set_xlim(ax.get_xlim())\n",
    "plt.xlabel('alpha')\n",
    "plt.ylabel('weights')\n",
    "plt.title('Ridge coefficients as a function of the regularization')\n",
    "plt.axis('tight')\n",
    "plt.show()"
   ]
  },
  {
   "cell_type": "code",
   "execution_count": 32,
   "metadata": {},
   "outputs": [
    {
     "data": {
      "text/plain": [
       "array([-1.39333559e-04,  3.66277587e-04, -1.38867649e-04,  2.03778014e-06,\n",
       "       -2.05651587e-06,  2.20609342e-05, -4.47184760e-04,  2.08741899e-05,\n",
       "       -1.30267771e-04, -3.16070375e-03, -4.80593626e-05,  1.24966837e-03,\n",
       "       -2.32180205e-04])"
      ]
     },
     "execution_count": 32,
     "metadata": {},
     "output_type": "execute_result"
    }
   ],
   "source": [
    "regr = Ridge(100000000)\n",
    "regr.fit(X, y)\n",
    "regr.coef_"
   ]
  },
  {
   "cell_type": "markdown",
   "metadata": {
    "colab_type": "text",
    "id": "eQi6u1pKE2JH"
   },
   "source": [
    "## 9. References\n",
    "- [Generalized linear models](http://scikit-learn.org/stable/modules/linear_model.html) (Generalized Linear Models, GLM) in Scikit-learn\n",
    "- [LinearRegression](http://scikit-learn.org/stable/modules/generated/sklearn.linear_model.LinearRegression.html#sklearn.linear_model.LinearRegression), [Lasso](http://scikit-learn.org/stable/modules/generated/sklearn.linear_model.Lasso.html#sklearn.linear_model.Lasso), [LassoCV](http://scikit-learn.org/stable/modules/generated/sklearn.linear_model.LassoCV.html#sklearn.linear_model.LassoCV), [Ridge](http://scikit-learn.org/stable/modules/generated/sklearn.linear_model.Ridge.html) and [RidgeCV](http://scikit-learn.org/stable/modules/generated/sklearn.linear_model.RidgeCV.html#sklearn.linear_model.RidgeCV) in Scikit-learn"
   ]
  },
  {
   "cell_type": "markdown",
   "metadata": {
    "colab_type": "text",
    "id": "Z22_QJ1SE2JH"
   },
   "source": [
    "## 10. Demo assignment\n",
    "To practice with linear models, you can complete [this assignment](https://www.kaggle.com/kashnitsky/a4-demo-sarcasm-detection-with-logit) where you'll build a sarcasm detection model. The assignment is just for you to practice, and goes with [solution](https://www.kaggle.com/kashnitsky/a4-demo-sarcasm-detection-with-logit-solution).\n",
    "\n",
    "## 11. Useful resources\n",
    "- Medium [\"story\"](https://medium.com/open-machine-learning-course/open-machine-learning-course-topic-4-linear-classification-and-regression-44a41b9b5220) based on this notebook\n",
    "- mlcourse.ai [site](https://mlcourse.ai), [course repo](https://github.com/Yorko/mlcourse.ai), and YouTube [channel](https://www.youtube.com/watch?v=QKTuw4PNOsU&list=PLVlY_7IJCMJeRfZ68eVfEcu-UcN9BbwiX)\n",
    "- Course materials as a [Kaggle Dataset](https://www.kaggle.com/kashnitsky/mlcourse)\n",
    "- If you read Russian: an [article](https://habrahabr.ru/company/ods/blog/323890/) on Habrahabr with ~ the same material. And a [lecture](https://youtu.be/oTXGQ-_oqvI) on YouTube\n",
    "- A nice and concise overview of linear models is given in the book [\"Deep Learning\"](http://www.deeplearningbook.org) (I. Goodfellow, Y. Bengio, and A. Courville).\n",
    "- Linear models are covered practically in every ML book. We recommend \"Pattern Recognition and Machine Learning\" (C. Bishop) and \"Machine Learning: A Probabilistic Perspective\" (K. Murphy).\n",
    "- If you prefer a thorough overview of linear model from a statistician's viewpoint, then look at \"The elements of statistical learning\" (T. Hastie, R. Tibshirani, and J. Friedman).\n",
    "- The book \"Machine Learning in Action\" (P. Harrington) will walk you through implementations of classic ML algorithms in pure Python.\n",
    "- [Scikit-learn](http://scikit-learn.org/stable/documentation.html) library. These guys work hard on writing really clear documentation.\n",
    "- Scipy 2017 [scikit-learn tutorial](https://github.com/amueller/scipy-2017-sklearn) by Alex Gramfort and Andreas Mueller.\n",
    "- One more [ML course](https://github.com/diefimov/MTH594_MachineLearning) with very good materials.\n",
    "- [Implementations](https://github.com/rushter/MLAlgorithms) of many ML algorithms. Search for linear regression and logistic regression."
   ]
  }
 ],
 "metadata": {
  "colab": {
   "include_colab_link": true,
   "name": "topic4_linear_regression.ipynb",
   "provenance": []
  },
  "kernelspec": {
   "display_name": "Python 3",
   "language": "python",
   "name": "python3"
  },
  "language_info": {
   "codemirror_mode": {
    "name": "ipython",
    "version": 3
   },
   "file_extension": ".py",
   "mimetype": "text/x-python",
   "name": "python",
   "nbconvert_exporter": "python",
   "pygments_lexer": "ipython3",
   "version": "3.7.7"
  }
 },
 "nbformat": 4,
 "nbformat_minor": 1
}
