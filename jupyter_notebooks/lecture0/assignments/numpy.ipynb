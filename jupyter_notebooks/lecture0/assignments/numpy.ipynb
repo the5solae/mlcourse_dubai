{
 "cells": [
  {
   "cell_type": "markdown",
   "metadata": {},
   "source": [
    "# Numpy\n",
    "- based on https://github.com/mephistopheies/mlworkshop39_042017/blob/master/0_python_intro/%D0%A3%D0%BF%D1%80%D0%B0%D0%B6%D0%BD%D0%B5%D0%BD%D0%B8%D1%8F.ipynb\n",
    "\n",
    "<img src=\"trainings1.jpg\" />"
   ]
  },
  {
   "cell_type": "markdown",
   "metadata": {},
   "source": [
    "## Task 0\n",
    "- import numpy"
   ]
  },
  {
   "cell_type": "code",
   "execution_count": 1,
   "metadata": {
    "collapsed": true
   },
   "outputs": [],
   "source": [
    "import numpy as np"
   ]
  },
  {
   "cell_type": "markdown",
   "metadata": {},
   "source": [
    "## Task 1\n",
    "- print version of numpy"
   ]
  },
  {
   "cell_type": "code",
   "execution_count": 2,
   "metadata": {
    "collapsed": false
   },
   "outputs": [
    {
     "name": "stdout",
     "output_type": "stream",
     "text": [
      "1.15.4\n"
     ]
    }
   ],
   "source": [
    "print (np.version.full_version)"
   ]
  },
  {
   "cell_type": "markdown",
   "metadata": {},
   "source": [
    "## Task 2\n",
    "- create 1d vector of zeros of size 10"
   ]
  },
  {
   "cell_type": "code",
   "execution_count": 3,
   "metadata": {
    "collapsed": false
   },
   "outputs": [
    {
     "name": "stdout",
     "output_type": "stream",
     "text": [
      "[[0. 0. 0. 0. 0. 0. 0. 0. 0. 0.]]\n",
      "10\n"
     ]
    }
   ],
   "source": [
    "a = np.zeros((1,10))\n",
    "print (a)\n",
    "print (a.size)"
   ]
  },
  {
   "cell_type": "code",
   "execution_count": 4,
   "metadata": {
    "collapsed": false
   },
   "outputs": [
    {
     "data": {
      "text/plain": [
       "array([0., 0., 0., 0., 0., 0., 0., 0., 0., 0.])"
      ]
     },
     "execution_count": 4,
     "metadata": {},
     "output_type": "execute_result"
    }
   ],
   "source": [
    "np.zeros((10))"
   ]
  },
  {
   "cell_type": "markdown",
   "metadata": {},
   "source": [
    "## Task 3\n",
    "- create 1d vector filled with ones of size 10"
   ]
  },
  {
   "cell_type": "code",
   "execution_count": 5,
   "metadata": {
    "collapsed": false
   },
   "outputs": [
    {
     "name": "stdout",
     "output_type": "stream",
     "text": [
      "[[1. 1. 1. 1. 1. 1. 1. 1. 1. 1.]]\n",
      "10\n"
     ]
    }
   ],
   "source": [
    "a = np.ones((1,10))\n",
    "print (a)\n",
    "print (a.size)"
   ]
  },
  {
   "cell_type": "markdown",
   "metadata": {},
   "source": [
    "## Task 4\n",
    "- create 1d vector filled with ones of size 10,"
   ]
  },
  {
   "cell_type": "code",
   "execution_count": 6,
   "metadata": {
    "collapsed": false
   },
   "outputs": [
    {
     "name": "stdout",
     "output_type": "stream",
     "text": [
      "[0. 0. 0. 0. 0. 0. 0. 0. 0. 0.]\n",
      "(10,)\n"
     ]
    }
   ],
   "source": [
    "a = np.zeros((10,))\n",
    "print (a)\n",
    "print (a.shape)"
   ]
  },
  {
   "cell_type": "markdown",
   "metadata": {},
   "source": [
    "## Task 5\n",
    "- crete 1d vector filled with numbers from 10 to 49"
   ]
  },
  {
   "cell_type": "code",
   "execution_count": 7,
   "metadata": {
    "collapsed": false
   },
   "outputs": [
    {
     "name": "stdout",
     "output_type": "stream",
     "text": [
      "[10 11 12 13 14 15 16 17 18 19 20 21 22 23 24 25 26 27 28 29 30 31 32 33\n",
      " 34 35 36 37 38 39 40 41 42 43 44 45 46 47 48 49]\n",
      "40\n"
     ]
    }
   ],
   "source": [
    "a = np.array((range(10,50)))\n",
    "print (a)\n",
    "print (a.size)"
   ]
  },
  {
   "cell_type": "markdown",
   "metadata": {},
   "source": [
    "## Task 6\n",
    "- create any 1d vector, then reverse it, such that last element will be on the first position"
   ]
  },
  {
   "cell_type": "code",
   "execution_count": 8,
   "metadata": {
    "collapsed": false
   },
   "outputs": [
    {
     "name": "stdout",
     "output_type": "stream",
     "text": [
      "[49 48 47 46 45 44 43 42 41 40 39 38 37 36 35 34 33 32 31 30 29 28 27 26\n",
      " 25 24 23 22 21 20 19 18 17 16 15 14 13 12 11 10]\n",
      "40\n"
     ]
    }
   ],
   "source": [
    "a = np.array((range(10,50)))\n",
    "a = np.flip(a)\n",
    "print (a)\n",
    "print (a.size)"
   ]
  },
  {
   "cell_type": "markdown",
   "metadata": {},
   "source": [
    "## Task 7\n",
    "- create 2d 3x3 array / matrix, filled with numbers from 0 to 8"
   ]
  },
  {
   "cell_type": "code",
   "execution_count": 9,
   "metadata": {
    "collapsed": false
   },
   "outputs": [
    {
     "data": {
      "text/plain": [
       "array([[0, 1, 2],\n",
       "       [3, 4, 5],\n",
       "       [6, 7, 8]])"
      ]
     },
     "execution_count": 9,
     "metadata": {},
     "output_type": "execute_result"
    }
   ],
   "source": [
    "a = np.arange(0,9).reshape(3,3)\n",
    "a"
   ]
  },
  {
   "cell_type": "markdown",
   "metadata": {},
   "source": [
    "## Task 8\n",
    "- create 3x3 matrix filled with ones"
   ]
  },
  {
   "cell_type": "code",
   "execution_count": 10,
   "metadata": {
    "collapsed": false
   },
   "outputs": [
    {
     "name": "stdout",
     "output_type": "stream",
     "text": [
      "[[1. 1. 1.]\n",
      " [1. 1. 1.]\n",
      " [1. 1. 1.]]\n"
     ]
    }
   ],
   "source": [
    "a = np.ones((1,9)).reshape(3,3)\n",
    "print (a)"
   ]
  },
  {
   "cell_type": "code",
   "execution_count": 11,
   "metadata": {
    "collapsed": false
   },
   "outputs": [
    {
     "data": {
      "text/plain": [
       "array([[1, 1, 1],\n",
       "       [1, 1, 1],\n",
       "       [1, 1, 1]])"
      ]
     },
     "execution_count": 11,
     "metadata": {},
     "output_type": "execute_result"
    }
   ],
   "source": [
    "a= np.full((3,3),1)\n",
    "a"
   ]
  },
  {
   "cell_type": "markdown",
   "metadata": {},
   "source": [
    "## Task 9\n",
    "- create 3x3 matrix filled with random numbers"
   ]
  },
  {
   "cell_type": "code",
   "execution_count": 12,
   "metadata": {
    "collapsed": false
   },
   "outputs": [
    {
     "data": {
      "text/plain": [
       "array([[0.55738881, 0.89029387, 0.80307691],\n",
       "       [0.68098605, 0.61154305, 0.28631332],\n",
       "       [0.61679116, 0.77192261, 0.91308787]])"
      ]
     },
     "execution_count": 12,
     "metadata": {},
     "output_type": "execute_result"
    }
   ],
   "source": [
    "e = np.random.random((3,3))\n",
    "e"
   ]
  },
  {
   "cell_type": "code",
   "execution_count": 13,
   "metadata": {
    "collapsed": false
   },
   "outputs": [
    {
     "data": {
      "text/plain": [
       "array([[ 2, 77, 19],\n",
       "       [90, 64, 39],\n",
       "       [58, 95, 40]])"
      ]
     },
     "execution_count": 13,
     "metadata": {},
     "output_type": "execute_result"
    }
   ],
   "source": [
    "a = np.random.randint(0,99,(3,3))\n",
    "a"
   ]
  },
  {
   "cell_type": "markdown",
   "metadata": {},
   "source": [
    "## Task 10\n",
    "- create 3x3x3 array filled with random numbers"
   ]
  },
  {
   "cell_type": "code",
   "execution_count": 14,
   "metadata": {
    "collapsed": false
   },
   "outputs": [
    {
     "data": {
      "text/plain": [
       "array([[[0., 0., 0.],\n",
       "        [0., 0., 0.],\n",
       "        [0., 0., 0.]],\n",
       "\n",
       "       [[0., 0., 0.],\n",
       "        [0., 0., 0.],\n",
       "        [0., 0., 0.]],\n",
       "\n",
       "       [[0., 0., 0.],\n",
       "        [0., 0., 0.],\n",
       "        [0., 0., 0.]]])"
      ]
     },
     "execution_count": 14,
     "metadata": {},
     "output_type": "execute_result"
    }
   ],
   "source": [
    "np.zeros((3,3,3))"
   ]
  },
  {
   "cell_type": "markdown",
   "metadata": {},
   "source": [
    "## Task 11\n",
    "- create 10x10 matrix filled with random numbers and find minimal and maximal elements"
   ]
  },
  {
   "cell_type": "code",
   "execution_count": 15,
   "metadata": {
    "collapsed": false
   },
   "outputs": [
    {
     "name": "stdout",
     "output_type": "stream",
     "text": [
      "[[61  6 65 67 59 21  8 71 73 49]\n",
      " [46 48  4 72 45 19 79 86 81 27]\n",
      " [52 61 19 98 95 44 17 42 30 76]\n",
      " [23 84 14 79 41 98  1 41 23 80]\n",
      " [58 41 79 86 36 63 51 51  7 50]\n",
      " [21 80 39 61 84 49 52 65 95 17]\n",
      " [48  2 46 93 95 74  0 90 67 28]\n",
      " [52  1 72 27 56  3 82 40 88 22]\n",
      " [53  5 42 69 64 81 59 80  2 50]\n",
      " [44  4  6 56 53 86  2 68 12 64]]\n",
      "98\n",
      "0\n"
     ]
    }
   ],
   "source": [
    "a = np.random.randint(0,99,(10,10))\n",
    "print(a)\n",
    "print(a.max())\n",
    "print(a.min())"
   ]
  },
  {
   "cell_type": "markdown",
   "metadata": {},
   "source": [
    "## Task 12\n",
    "- create a random 1d vector of size 30 and find average of them"
   ]
  },
  {
   "cell_type": "code",
   "execution_count": 16,
   "metadata": {
    "collapsed": false
   },
   "outputs": [
    {
     "name": "stdout",
     "output_type": "stream",
     "text": [
      "[142 149  50 116  61 130  78   8  76 115   0  62  27  48 125  47 136  69\n",
      "  23  93  42  57  27  92  18  10   2  68 136  13]\n"
     ]
    },
    {
     "data": {
      "text/plain": [
       "67.33333333333333"
      ]
     },
     "execution_count": 16,
     "metadata": {},
     "output_type": "execute_result"
    }
   ],
   "source": [
    "a = np.random.randint(0,150,(30))\n",
    "print(a)\n",
    "a.mean()"
   ]
  },
  {
   "cell_type": "markdown",
   "metadata": {},
   "source": [
    "## Task 13\n",
    "- create 5x5 matrix, which has ones on a \"frame\" and zeros inside"
   ]
  },
  {
   "cell_type": "code",
   "execution_count": 17,
   "metadata": {
    "collapsed": false
   },
   "outputs": [
    {
     "name": "stdout",
     "output_type": "stream",
     "text": [
      "Original array:\n",
      "[[1. 1. 1. 1. 1.]\n",
      " [1. 1. 1. 1. 1.]\n",
      " [1. 1. 1. 1. 1.]\n",
      " [1. 1. 1. 1. 1.]\n",
      " [1. 1. 1. 1. 1.]]\n",
      "1 on the border and 0 inside in the array\n",
      "[[1. 1. 1. 1. 1.]\n",
      " [1. 0. 0. 0. 1.]\n",
      " [1. 0. 0. 0. 1.]\n",
      " [1. 0. 0. 0. 1.]\n",
      " [1. 1. 1. 1. 1.]]\n"
     ]
    }
   ],
   "source": [
    "import numpy as np\n",
    "x = np.ones((5,5))\n",
    "print(\"Original array:\")\n",
    "print(x)\n",
    "print(\"1 on the border and 0 inside in the array\")\n",
    "x[1:-1,1:-1] = 0\n",
    "print(x)\n"
   ]
  },
  {
   "cell_type": "markdown",
   "metadata": {},
   "source": [
    "## Task 14\n",
    "- create 8x8 matrix\n",
    "- fill it with ones and zeros in a \"chess\" order\n",
    "- **don't use** `tile` funtion"
   ]
  },
  {
   "cell_type": "code",
   "execution_count": 18,
   "metadata": {
    "collapsed": false
   },
   "outputs": [
    {
     "data": {
      "text/plain": [
       "array([[1, 0, 1, 0, 1, 0, 1, 0],\n",
       "       [0, 1, 0, 1, 0, 1, 0, 1],\n",
       "       [1, 0, 1, 0, 1, 0, 1, 0],\n",
       "       [0, 1, 0, 1, 0, 1, 0, 1],\n",
       "       [1, 0, 1, 0, 1, 0, 1, 0],\n",
       "       [0, 1, 0, 1, 0, 1, 0, 1],\n",
       "       [1, 0, 1, 0, 1, 0, 1, 0],\n",
       "       [0, 1, 0, 1, 0, 1, 0, 1]], dtype=int32)"
      ]
     },
     "execution_count": 18,
     "metadata": {},
     "output_type": "execute_result"
    }
   ],
   "source": [
    "board = np.zeros((8,8), np.int32)\n",
    "board[::2,::2] = 1\n",
    "board[1::2,1::2] = 1\n",
    "board"
   ]
  },
  {
   "cell_type": "markdown",
   "metadata": {},
   "source": [
    "## Task 15\n",
    "- create 8x8 matrix\n",
    "- fill it with ones and zeros in a \"chess\" order\n",
    "- **use** `tile` funtion"
   ]
  },
  {
   "cell_type": "code",
   "execution_count": 19,
   "metadata": {
    "collapsed": false,
    "scrolled": true
   },
   "outputs": [
    {
     "data": {
      "text/plain": [
       "array([[1, 0, 1, 0, 1, 0, 1, 0],\n",
       "       [0, 1, 0, 1, 0, 1, 0, 1],\n",
       "       [1, 0, 1, 0, 1, 0, 1, 0],\n",
       "       [0, 1, 0, 1, 0, 1, 0, 1],\n",
       "       [1, 0, 1, 0, 1, 0, 1, 0],\n",
       "       [0, 1, 0, 1, 0, 1, 0, 1],\n",
       "       [1, 0, 1, 0, 1, 0, 1, 0],\n",
       "       [0, 1, 0, 1, 0, 1, 0, 1]])"
      ]
     },
     "execution_count": 19,
     "metadata": {},
     "output_type": "execute_result"
    }
   ],
   "source": [
    "a = np.array([[1,0],[0,1]])\n",
    "b = np.tile(a, (4,4))\n",
    "b"
   ]
  },
  {
   "cell_type": "markdown",
   "metadata": {},
   "source": [
    "## Task 16\n",
    "- create two random matrices 5x3 and 3x2\n",
    "- multiply them"
   ]
  },
  {
   "cell_type": "code",
   "execution_count": 20,
   "metadata": {
    "collapsed": false
   },
   "outputs": [
    {
     "name": "stdout",
     "output_type": "stream",
     "text": [
      "[[ 4835 12144]\n",
      " [ 1110  4638]\n",
      " [ 6440 12112]\n",
      " [ 4309 10672]\n",
      " [ 2952 10474]]\n"
     ]
    }
   ],
   "source": [
    "a = np.random.randint(0,99,(5,3))\n",
    "b = np.random.randint(0,99,(3,2))\n",
    "print(np.dot(a,b))"
   ]
  },
  {
   "cell_type": "markdown",
   "metadata": {},
   "source": [
    "## Task 17\n",
    "- create array of size 100 filled with random numbers from 0 to 10\n",
    "- chenge sign of all numbers which are in a range between 3 and 8"
   ]
  },
  {
   "cell_type": "code",
   "execution_count": 72,
   "metadata": {
    "collapsed": false
   },
   "outputs": [
    {
     "data": {
      "text/plain": [
       "array([  2,  -9,  -8,  -6,   1,  -8,   0,  -3,  -3,  -5,   1,  -8,  -5,\n",
       "         1,  -6,   1,  -3,   2,  -7,  -5,  -4,   0,  -5,  -7,  -7,  -6,\n",
       "        -4, -10,  -9,   2,  -7,  -3,   1, -10,   0,  -7,  -5,  -3,   1,\n",
       "        -7,  -9,  -5,  -3,   2,  -6,  -9,   0,  -6,  -4,  -9,   1,  -6,\n",
       "         0,   1,  -6,   2, -10,  -3,  -7,   0,  -6,  -6,  -9,  -9,   0,\n",
       "        -4,  -3,   2,  -3,  -3,  -7,  -9,  -6,   1,   2,  -8,  -5,  -6,\n",
       "        -8,  -9,   0,   0,   0,   0,   0,  -9,   0,  -8,   0,  -6,  -6,\n",
       "         1,  -6,  -7,   2,  -6,  -6,  -8,  -8,  -7])"
      ]
     },
     "execution_count": 72,
     "metadata": {},
     "output_type": "execute_result"
    }
   ],
   "source": [
    "a = np.random.randint(0,11,(100,))\n",
    "a = np.where(a>2,-a,a)\n",
    "a"
   ]
  },
  {
   "cell_type": "markdown",
   "metadata": {},
   "source": [
    "## Task 18\n",
    "- create a matrix 5x5 such that each row would be a 1d array filled with numbers from 0 to 4"
   ]
  },
  {
   "cell_type": "code",
   "execution_count": 101,
   "metadata": {
    "collapsed": false
   },
   "outputs": [
    {
     "ename": "TypeError",
     "evalue": "tile() got an unexpected keyword argument 'axis'",
     "output_type": "error",
     "traceback": [
      "\u001b[0;31m---------------------------------------------------------------------------\u001b[0m",
      "\u001b[0;31mTypeError\u001b[0m                                 Traceback (most recent call last)",
      "\u001b[0;32m<ipython-input-101-864217e88cf1>\u001b[0m in \u001b[0;36m<module>\u001b[0;34m()\u001b[0m\n\u001b[1;32m      1\u001b[0m \u001b[0ma\u001b[0m \u001b[0;34m=\u001b[0m \u001b[0mnp\u001b[0m\u001b[0;34m.\u001b[0m\u001b[0marray\u001b[0m\u001b[0;34m(\u001b[0m\u001b[0;34m[\u001b[0m\u001b[0;36m0\u001b[0m\u001b[0;34m,\u001b[0m\u001b[0;36m1\u001b[0m\u001b[0;34m,\u001b[0m\u001b[0;36m2\u001b[0m\u001b[0;34m,\u001b[0m\u001b[0;36m3\u001b[0m\u001b[0;34m,\u001b[0m\u001b[0;36m4\u001b[0m\u001b[0;34m]\u001b[0m\u001b[0;34m)\u001b[0m\u001b[0;34m\u001b[0m\u001b[0;34m\u001b[0m\u001b[0m\n\u001b[0;32m----> 2\u001b[0;31m \u001b[0mb\u001b[0m \u001b[0;34m=\u001b[0m \u001b[0mnp\u001b[0m\u001b[0;34m.\u001b[0m\u001b[0mtile\u001b[0m\u001b[0;34m(\u001b[0m\u001b[0ma\u001b[0m\u001b[0;34m,\u001b[0m\u001b[0;36m5\u001b[0m\u001b[0;34m,\u001b[0m\u001b[0maxis\u001b[0m\u001b[0;34m=\u001b[0m\u001b[0;36m1\u001b[0m\u001b[0;34m)\u001b[0m\u001b[0;34m\u001b[0m\u001b[0;34m\u001b[0m\u001b[0m\n\u001b[0m\u001b[1;32m      3\u001b[0m \u001b[0mb\u001b[0m\u001b[0;34m\u001b[0m\u001b[0;34m\u001b[0m\u001b[0m\n",
      "\u001b[0;31mTypeError\u001b[0m: tile() got an unexpected keyword argument 'axis'"
     ]
    }
   ],
   "source": [
    "a = np.array([0,1,2,3,4])\n",
    "b = np.tile(a,5)\n",
    "b"
   ]
  },
  {
   "cell_type": "markdown",
   "metadata": {},
   "source": [
    "## Task 19\n",
    "- create 1d vector of size 100 filled with random values from range 0-1, excluding boundary values (no exact 0/1)"
   ]
  },
  {
   "cell_type": "code",
   "execution_count": 88,
   "metadata": {
    "collapsed": false,
    "scrolled": true
   },
   "outputs": [
    {
     "data": {
      "text/plain": [
       "array([[0.20315534, 0.32667456, 0.05062136, 0.49149482, 0.49763571,\n",
       "        0.57649548, 0.79716313, 0.34395435, 0.89988739, 0.38940649,\n",
       "        0.99188683, 0.97418449, 0.33664293, 0.09422242, 0.34693749,\n",
       "        0.66986715, 0.74643474, 0.83282367, 0.07385759, 0.84127598,\n",
       "        0.61564859, 0.86251976, 0.15089326, 0.0424122 , 0.22841063,\n",
       "        0.53548723, 0.23692808, 0.2478003 , 0.48946007, 0.78751275,\n",
       "        0.71431571, 0.34285135, 0.24537199, 0.29680687, 0.33193275,\n",
       "        0.8219763 , 0.86509874, 0.65112983, 0.44262418, 0.44728111,\n",
       "        0.29664627, 0.35929438, 0.76159454, 0.73228784, 0.72646149,\n",
       "        0.53021131, 0.66150906, 0.23994758, 0.99520745, 0.7600676 ,\n",
       "        0.01956677, 0.70790765, 0.3181264 , 0.40729166, 0.80107538,\n",
       "        0.21000494, 0.28565326, 0.60059525, 0.69790722, 0.39927985,\n",
       "        0.18830058, 0.49149192, 0.39132568, 0.57115501, 0.99237671,\n",
       "        0.29373159, 0.14408441, 0.80872112, 0.2970223 , 0.64334198,\n",
       "        0.9381348 , 0.51330444, 0.60458513, 0.60359667, 0.36377088,\n",
       "        0.14046183, 0.33760075, 0.81946072, 0.71718551, 0.12735602,\n",
       "        0.14047117, 0.17705442, 0.34956966, 0.47494109, 0.18528341,\n",
       "        0.34127269, 0.00448222, 0.1078235 , 0.61295247, 0.2671604 ,\n",
       "        0.9108237 , 0.32168129, 0.68508591, 0.98243151, 0.27648184,\n",
       "        0.68477107, 0.96113993, 0.00861764, 0.60007721, 0.72481048]])"
      ]
     },
     "execution_count": 88,
     "metadata": {},
     "output_type": "execute_result"
    }
   ],
   "source": [
    "e = np.random.random((1,100))\n",
    "e"
   ]
  },
  {
   "cell_type": "markdown",
   "metadata": {},
   "source": [
    "## Task 20\n",
    "- create a 10x2 random matrix filled with number from range 0-100\n",
    "- consider it as points in Cartesian plain\n",
    "- convert to polar system of coordinates"
   ]
  },
  {
   "cell_type": "code",
   "execution_count": 98,
   "metadata": {
    "collapsed": false
   },
   "outputs": [
    {
     "name": "stdout",
     "output_type": "stream",
     "text": [
      "[[ 6 30]\n",
      " [56 87]\n",
      " [85 10]\n",
      " [95 16]\n",
      " [54  4]\n",
      " [61 10]\n",
      " [61 93]\n",
      " [45 32]\n",
      " [83 77]\n",
      " [33 71]]\n",
      "[ 30.59411708 103.46496992  85.58621384  96.33794683  54.14794548\n",
      "  61.81423784 111.22050171  55.21775077 113.21660656  78.29431652]\n",
      "[1.37340077 0.99887813 0.11710874 0.16685516 0.07393904 0.16248911\n",
      " 0.99027488 0.61814423 0.74791573 1.13571238]\n"
     ]
    }
   ],
   "source": [
    "a = np.random.randint(0,101,(10,2))\n",
    "print (a)\n",
    "x,y = a[:,0],a[:,1]\n",
    "r = np.sqrt(x**2+y**2)\n",
    "t = np.arctan2(y,x)\n",
    "print (r)\n",
    "print (t)"
   ]
  },
  {
   "cell_type": "markdown",
   "metadata": {},
   "source": [
    "## Task 21\n",
    "- create random 13x13 matrix, replace maximal element to zero"
   ]
  },
  {
   "cell_type": "code",
   "execution_count": 122,
   "metadata": {
    "collapsed": false
   },
   "outputs": [
    {
     "name": "stdout",
     "output_type": "stream",
     "text": [
      "[[ 73  21  20  18  70  92  34  10  77  83  75  42   2]\n",
      " [ 87  74   7  23  12  24  56  81  36  78  15  70  97]\n",
      " [ 26  62  34  51  92  80  40  51  65  20  77  75  63]\n",
      " [ 71  47  18  44  99  50  22   4  65  26  11  96  10]\n",
      " [ 49  25  90  31  85  23  53   0   9  18  83  55  54]\n",
      " [ 49  16  56  33  94  41  64  67  79   6  67  30   8]\n",
      " [ 67  37  87  82  32  42  83  61  63  59   6  22   6]\n",
      " [ 22   3  81  75  75  73  97  49  59  81  28   8  91]\n",
      " [ 96  14  24  58  86  74  57  65  94  38  95   3  46]\n",
      " [ 20  25  73  93  46  26  43  84  67  92  13  13  75]\n",
      " [ 11 100  21  98  67  44  78  88  28  38   4  71  73]\n",
      " [ 40  32  69  33  37   1  67  59  81  54  93  35  69]\n",
      " [  6  11  91  11  81  55  79  59  33  22   2  28  72]]\n",
      "100\n"
     ]
    },
    {
     "data": {
      "text/plain": [
       "array([[73, 21, 20, 18, 70, 92, 34, 10, 77, 83, 75, 42,  2],\n",
       "       [87, 74,  7, 23, 12, 24, 56, 81, 36, 78, 15, 70, 97],\n",
       "       [26, 62, 34, 51, 92, 80, 40, 51, 65, 20, 77, 75, 63],\n",
       "       [71, 47, 18, 44, 99, 50, 22,  4, 65, 26, 11, 96, 10],\n",
       "       [49, 25, 90, 31, 85, 23, 53,  0,  9, 18, 83, 55, 54],\n",
       "       [49, 16, 56, 33, 94, 41, 64, 67, 79,  6, 67, 30,  8],\n",
       "       [67, 37, 87, 82, 32, 42, 83, 61, 63, 59,  6, 22,  6],\n",
       "       [22,  3, 81, 75, 75, 73, 97, 49, 59, 81, 28,  8, 91],\n",
       "       [96, 14, 24, 58, 86, 74, 57, 65, 94, 38, 95,  3, 46],\n",
       "       [20, 25, 73, 93, 46, 26, 43, 84, 67, 92, 13, 13, 75],\n",
       "       [11,  0, 21, 98, 67, 44, 78, 88, 28, 38,  4, 71, 73],\n",
       "       [40, 32, 69, 33, 37,  1, 67, 59, 81, 54, 93, 35, 69],\n",
       "       [ 6, 11, 91, 11, 81, 55, 79, 59, 33, 22,  2, 28, 72]])"
      ]
     },
     "execution_count": 122,
     "metadata": {},
     "output_type": "execute_result"
    }
   ],
   "source": [
    "a = np.random.randint(0,101,(13,13))\n",
    "print(a)\n",
    "print(a.max())\n",
    "a[a==a.max()]=0\n",
    "a"
   ]
  },
  {
   "cell_type": "code",
   "execution_count": 124,
   "metadata": {
    "collapsed": false
   },
   "outputs": [
    {
     "name": "stdout",
     "output_type": "stream",
     "text": [
      "[[ 11  60  24  21  60  26  41  43  16  70  18  22  63]\n",
      " [ 77  36  91  97  63  30  26  37  66  59   6  40  82]\n",
      " [ 47  30  84  66   1  98  77  90  65   0  41  98   0]\n",
      " [ 78  33  34  23  64  97  40  57   8  82  58  93  43]\n",
      " [  9  28   7  30   1  50  77  12  23  32   7  74   8]\n",
      " [ 49  34  61  17  75  31  65  58  10  66  10  32  19]\n",
      " [ 16  98  73  45  41  16  18  55  45  23  62  91  59]\n",
      " [ 74  64  26  57  41  65  89 100  95  30  50  42   4]\n",
      " [ 37  11  15  34  87  64  37  35  48  36  53  77  85]\n",
      " [ 26  86  20  57  26  14  75  64  55  39  38   2  25]\n",
      " [ 89  62 100  34   3  63  32  14  47  49  55  40 100]\n",
      " [ 47   0  56  92  75  70  73   6  46  66  10  64  29]\n",
      " [ 73  82  30  63  98  26   1  86  77  78  91  72  56]]\n",
      "100\n"
     ]
    },
    {
     "data": {
      "text/plain": [
       "array([[ 11,  60,  24,  21,  60,  26,  41,  43,  16,  70,  18,  22,  63],\n",
       "       [ 77,  36,  91,  97,  63,  30,  26,  37,  66,  59,   6,  40,  82],\n",
       "       [ 47,  30,  84,  66,   1,  98,  77,  90,  65,   0,  41,  98,   0],\n",
       "       [ 78,  33,  34,  23,  64,  97,  40,  57,   8,  82,  58,  93,  43],\n",
       "       [  9,  28,   7,  30,   1,  50,  77,  12,  23,  32,   7,  74,   8],\n",
       "       [ 49,  34,  61,  17,  75,  31,  65,  58,  10,  66,  10,  32,  19],\n",
       "       [ 16,  98,  73,  45,  41,  16,  18,  55,  45,  23,  62,  91,  59],\n",
       "       [ 74,  64,  26,  57,  41,  65,  89, 100,  95,  30,  50,  42,   4],\n",
       "       [ 37,  11,  15,  34,  87,  64,  37,  35,  48,  36,  53,  77,  85],\n",
       "       [ 26,  86,  20,  57,  26,  14,  75,  64,  55,  39,  38,   2,  25],\n",
       "       [ 89,  62, 100,  34,   3,  63,  32,  14,  47,  49,  55,  40, 100],\n",
       "       [ 47,   0,  56,  92,  75,  70,  73,   6,  46,  66,  10,  64,  29],\n",
       "       [ 73,  82,  30,  63,  98,  26,   1,  86,  77,  78,  91,  72,  56]])"
      ]
     },
     "execution_count": 124,
     "metadata": {},
     "output_type": "execute_result"
    }
   ],
   "source": [
    "a = np.random.randint(0,101,(13,13))\n",
    "print(a)\n",
    "print(a.max())\n",
    "b = np.minimum(a,a.max())#manimum replaces everything to less than pr eqal to a.max()\n",
    "b"
   ]
  },
  {
   "cell_type": "markdown",
   "metadata": {},
   "source": [
    "## Task 22\n",
    "- create two 1d arrays with random values\n",
    "- make a Cauchy matrix from them $C (C_{ij} = \\frac{1}{x_i - y_j})$"
   ]
  },
  {
   "cell_type": "code",
   "execution_count": 127,
   "metadata": {
    "collapsed": false
   },
   "outputs": [
    {
     "data": {
      "text/plain": [
       "array([[-0.04166667, -0.01234568, -0.25      , -0.1       ,  0.5       ,\n",
       "        -0.25      , -0.01149425, -0.03846154, -0.01408451, -0.01538462],\n",
       "       [ 0.03846154, -0.03225806,  0.02173913,  0.025     ,  0.01923077,\n",
       "         0.02173913, -0.02702703,  0.04166667, -0.04761905, -0.06666667],\n",
       "       [ 0.01818182, -0.5       ,  0.01333333,  0.01449275,  0.01234568,\n",
       "         0.01333333, -0.125     ,  0.01886792,  0.125     ,  0.07142857],\n",
       "       [ 0.01538462,  0.125     ,  0.01176471,  0.01265823,  0.01098901,\n",
       "         0.01176471,  0.5       ,  0.01587302,  0.05555556,  0.04166667],\n",
       "       [ 0.04166667, -0.03030303,  0.02272727,  0.02631579,  0.02      ,\n",
       "         0.02272727, -0.02564103,  0.04545455, -0.04347826, -0.05882353],\n",
       "       [ 0.03225806, -0.03846154,  0.01960784,  0.02222222,  0.01754386,\n",
       "         0.01960784, -0.03125   ,  0.03448276, -0.0625    , -0.1       ],\n",
       "       [ 0.03225806, -0.03846154,  0.01960784,  0.02222222,  0.01754386,\n",
       "         0.01960784, -0.03125   ,  0.03448276, -0.0625    , -0.1       ],\n",
       "       [ 0.06666667, -0.02380952,  0.02857143,  0.03448276,  0.02439024,\n",
       "         0.02857143, -0.02083333,  0.07692308, -0.03125   , -0.03846154],\n",
       "       [ 0.01886792, -0.25      ,  0.01369863,  0.01492537,  0.01265823,\n",
       "         0.01369863, -0.1       ,  0.01960784,  0.16666667,  0.08333333],\n",
       "       [ 0.33333333, -0.01851852,  0.04347826,  0.05882353,  0.03448276,\n",
       "         0.04347826, -0.01666667,  1.        , -0.02272727, -0.02631579]])"
      ]
     },
     "execution_count": 127,
     "metadata": {},
     "output_type": "execute_result"
    }
   ],
   "source": [
    "a = np.random.randint(0,101,(2,2))\n",
    "b = np.random.randint(0,101,(2,2))\n",
    "1.0/(x.reshape((-1,1))-y)"
   ]
  },
  {
   "cell_type": "markdown",
   "metadata": {},
   "source": [
    "## Task 23\n",
    "- create an array of random `float` numbers and convert it to `int`"
   ]
  },
  {
   "cell_type": "code",
   "execution_count": 132,
   "metadata": {
    "collapsed": false
   },
   "outputs": [
    {
     "data": {
      "text/plain": [
       "array([[82, 39],\n",
       "       [96, 75]])"
      ]
     },
     "execution_count": 132,
     "metadata": {},
     "output_type": "execute_result"
    }
   ],
   "source": [
    "a = np.random.uniform(low=0.,high=100.,size=(2,2))\n",
    "a.astype(int)"
   ]
  },
  {
   "cell_type": "markdown",
   "metadata": {},
   "source": [
    "## Task 24\n",
    "- create 1d array of numbers from 0 to 15\n",
    "- put each of them in random positions inside 4x4 matrix"
   ]
  },
  {
   "cell_type": "code",
   "execution_count": 149,
   "metadata": {
    "collapsed": false
   },
   "outputs": [
    {
     "name": "stdout",
     "output_type": "stream",
     "text": [
      "[[11 12 12  6 13  6  7  0 13  8  8 14 12  6  8 10]]\n",
      "[[11 13 13 12]\n",
      " [12  6  8  6]\n",
      " [12  7  8  8]\n",
      " [ 6  0 14 10]]\n"
     ]
    }
   ],
   "source": [
    "a = np.random.randint(0,15,(1,16))\n",
    "print (a)\n",
    "print (a.reshape(4,4, order='F'))"
   ]
  },
  {
   "cell_type": "markdown",
   "metadata": {},
   "source": [
    "## Task 25\n",
    "- create random 100x50 matrix\n",
    "- deduct avarage of each row from correspondatn rows"
   ]
  },
  {
   "cell_type": "code",
   "execution_count": null,
   "metadata": {
    "collapsed": true
   },
   "outputs": [],
   "source": [
    "a = np.random.randint(0,101,(100,50))\n",
    "a"
   ]
  },
  {
   "cell_type": "markdown",
   "metadata": {},
   "source": [
    "## Task 26 \n",
    "- create random 10x10 matrix\n",
    "- extract diagonal elements and put them into 1d array"
   ]
  },
  {
   "cell_type": "code",
   "execution_count": 153,
   "metadata": {
    "collapsed": false
   },
   "outputs": [
    {
     "name": "stdout",
     "output_type": "stream",
     "text": [
      "[[88 66 47 60 65 62 42 53 58  5]\n",
      " [69 44 28  7 81  0 33 65 59 91]\n",
      " [ 9 45  0 24 40 70 35 84 14 75]\n",
      " [11 80 22 62 12 41 51 16 93 25]\n",
      " [12 23 73 93 25  4  5 28 47 28]\n",
      " [49 83 15 94 11 37 96  8 11 43]\n",
      " [42 65 20 26 47 35 97 28 42 32]\n",
      " [86 72 59 29 45 29 17  6 60 89]\n",
      " [32 55 29 67 38 60 30 83 53 21]\n",
      " [71 33 82 25 26 21 66 67 89  0]]\n",
      "[88 44  0 62 25 37 97  6 53  0]\n"
     ]
    }
   ],
   "source": [
    "a = np.random.randint(0,101,(10,10))\n",
    "print (a)\n",
    "print (a.diagonal())"
   ]
  },
  {
   "cell_type": "markdown",
   "metadata": {},
   "source": [
    "## Task 27\n",
    "- given a vector `[1, 2, 3, 4, 5]`\n",
    "- build a new vertor with three zeros between each element"
   ]
  },
  {
   "cell_type": "code",
   "execution_count": 177,
   "metadata": {
    "collapsed": false
   },
   "outputs": [
    {
     "data": {
      "text/plain": [
       "array([1, 0, 0, 0, 2, 0, 0, 0, 3, 0, 0, 0, 4, 0, 0, 0, 5])"
      ]
     },
     "execution_count": 177,
     "metadata": {},
     "output_type": "execute_result"
    }
   ],
   "source": [
    "x= np.arange(1,6)\n",
    "m=3\n",
    "pos=np.repeat(range(1,len(x)),m)\n",
    "np.insert(x,pos,0)"
   ]
  },
  {
   "cell_type": "code",
   "execution_count": 176,
   "metadata": {
    "collapsed": false
   },
   "outputs": [
    {
     "data": {
      "text/plain": [
       "array([1, 0, 0, 0, 2, 0, 0, 0, 3, 0, 0, 0, 4, 0, 0, 0, 5])"
      ]
     },
     "execution_count": 176,
     "metadata": {},
     "output_type": "execute_result"
    }
   ],
   "source": [
    "x= np.arange(1,6)\n",
    "b=np.zeros(1+(m+1)*(x.size-1),dtype=x.dtype)\n",
    "b[::m+1]=x\n",
    "b"
   ]
  }
 ],
 "metadata": {
  "kernelspec": {
   "display_name": "Python 3",
   "language": "python",
   "name": "python3"
  },
  "language_info": {
   "codemirror_mode": {
    "name": "ipython",
    "version": 3
   },
   "file_extension": ".py",
   "mimetype": "text/x-python",
   "name": "python",
   "nbconvert_exporter": "python",
   "pygments_lexer": "ipython3",
   "version": "3.6.8"
  }
 },
 "nbformat": 4,
 "nbformat_minor": 2
}
